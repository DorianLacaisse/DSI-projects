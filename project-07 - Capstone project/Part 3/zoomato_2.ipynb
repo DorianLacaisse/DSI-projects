{
 "cells": [
  {
   "cell_type": "markdown",
   "metadata": {},
   "source": [
    "# Zomato cleaning\n",
    "\n",
    "On this notebook, I am cleaning the 1000 api queries from zomato_1 notebook in order to get a well organized list of restaurants in London"
   ]
  },
  {
   "cell_type": "code",
   "execution_count": 93,
   "metadata": {
    "collapsed": true
   },
   "outputs": [],
   "source": [
    "import requests\n",
    "import json\n",
    "from bs4 import BeautifulSoup\n",
    "import urllib2\n",
    "import numpy as np\n",
    "import pandas as pd\n",
    "import matplotlib.pyplot as plt\n",
    "import seaborn as sns\n",
    "import re\n",
    "import ast\n",
    "from sqlalchemy import create_engine"
   ]
  },
  {
   "cell_type": "code",
   "execution_count": 243,
   "metadata": {
    "collapsed": false
   },
   "outputs": [],
   "source": [
    "# read the csv containing results of the 990 queries\n",
    "df_bazard=pd.read_csv(\"bazard_2.csv\")\n",
    "del df_bazard[\"Unnamed: 0\"]"
   ]
  },
  {
   "cell_type": "code",
   "execution_count": 244,
   "metadata": {
    "collapsed": true
   },
   "outputs": [],
   "source": [
    "# retrieve restaurant information of each query.\n",
    "index_erro_2=[]\n",
    "df_bazard[\"query_result\"]=\"\" # Creation of the column where we will write the clean json result\n",
    "for i in range(len(df_bazard)):\n",
    "    try:\n",
    "        a=ast.literal_eval(df_bazard.loc[i,\"0\"])[-3] #first part of the dictionary\n",
    "        b=ast.literal_eval(df_bazard.loc[i,\"0\"])[-1] #second part of the dictionary\n",
    "        a=a[a.find(\"{\"):]\n",
    "        c=ast.literal_eval(a+b) #all dictionary\n",
    "        df_bazard.loc[i,\"query_result\"]=c[\"restaurants\"]\n",
    "    except Exception:\n",
    "        index_erro_2.append(i)\n",
    "        "
   ]
  },
  {
   "cell_type": "code",
   "execution_count": 245,
   "metadata": {
    "collapsed": false
   },
   "outputs": [
    {
     "name": "stdout",
     "output_type": "stream",
     "text": [
      "There are 16 rows missing\n"
     ]
    }
   ],
   "source": [
    "#veryfying if all rows contain a json result\n",
    "print \"There are %d rows missing\"%len(index_erro_2)"
   ]
  },
  {
   "cell_type": "code",
   "execution_count": 246,
   "metadata": {
    "collapsed": false
   },
   "outputs": [
    {
     "data": {
      "text/html": [
       "<div>\n",
       "<table border=\"1\" class=\"dataframe\">\n",
       "  <thead>\n",
       "    <tr style=\"text-align: right;\">\n",
       "      <th></th>\n",
       "      <th>0</th>\n",
       "      <th>query_result</th>\n",
       "    </tr>\n",
       "  </thead>\n",
       "  <tbody>\n",
       "    <tr>\n",
       "      <th>0</th>\n",
       "      <td>['  % Total    % Received % Xferd  Average Spe...</td>\n",
       "      <td>[{u'restaurant': {u'cuisines': u'Drinks Only',...</td>\n",
       "    </tr>\n",
       "    <tr>\n",
       "      <th>1</th>\n",
       "      <td>['  % Total    % Received % Xferd  Average Spe...</td>\n",
       "      <td>[{u'restaurant': {u'cuisines': u'Mexican', u'e...</td>\n",
       "    </tr>\n",
       "    <tr>\n",
       "      <th>2</th>\n",
       "      <td>['  % Total    % Received % Xferd  Average Spe...</td>\n",
       "      <td>[{u'restaurant': {u'cuisines': u'Fast Food', u...</td>\n",
       "    </tr>\n",
       "    <tr>\n",
       "      <th>3</th>\n",
       "      <td>['  % Total    % Received % Xferd  Average Spe...</td>\n",
       "      <td>[{u'restaurant': {u'cuisines': u'Healthy Food'...</td>\n",
       "    </tr>\n",
       "    <tr>\n",
       "      <th>4</th>\n",
       "      <td>['  % Total    % Received % Xferd  Average Spe...</td>\n",
       "      <td>[{u'restaurant': {u'cuisines': u'British, Fast...</td>\n",
       "    </tr>\n",
       "  </tbody>\n",
       "</table>\n",
       "</div>"
      ],
      "text/plain": [
       "                                                   0  \\\n",
       "0  ['  % Total    % Received % Xferd  Average Spe...   \n",
       "1  ['  % Total    % Received % Xferd  Average Spe...   \n",
       "2  ['  % Total    % Received % Xferd  Average Spe...   \n",
       "3  ['  % Total    % Received % Xferd  Average Spe...   \n",
       "4  ['  % Total    % Received % Xferd  Average Spe...   \n",
       "\n",
       "                                        query_result  \n",
       "0  [{u'restaurant': {u'cuisines': u'Drinks Only',...  \n",
       "1  [{u'restaurant': {u'cuisines': u'Mexican', u'e...  \n",
       "2  [{u'restaurant': {u'cuisines': u'Fast Food', u...  \n",
       "3  [{u'restaurant': {u'cuisines': u'Healthy Food'...  \n",
       "4  [{u'restaurant': {u'cuisines': u'British, Fast...  "
      ]
     },
     "execution_count": 246,
     "metadata": {},
     "output_type": "execute_result"
    }
   ],
   "source": [
    "df_bazard.head()"
   ]
  },
  {
   "cell_type": "markdown",
   "metadata": {},
   "source": [
    "Each row contains information about 20 restaurants.\n",
    "I am now going to create a PostgreSql table that will contains information about all restaurant"
   ]
  },
  {
   "cell_type": "code",
   "execution_count": 247,
   "metadata": {
    "collapsed": false
   },
   "outputs": [],
   "source": [
    "#connecting to the data base\n",
    "\n",
    "engine=create_engine('postgresql://localhost:5432/capstone')\n",
    "conn=engine.connect()"
   ]
  },
  {
   "cell_type": "code",
   "execution_count": 248,
   "metadata": {
    "collapsed": false
   },
   "outputs": [
    {
     "data": {
      "image/png": "[encoded data removed]",
      "text/plain": [
       "<matplotlib.figure.Figure at 0x142511850>"
      ]
     },
     "metadata": {},
     "output_type": "display_data"
    }
   ],
   "source": [
    "# let's check how many columns we will need to add in our table\n",
    "query1=df_bazard.loc[0,\"query_result\"]\n",
    "num_of_columns=[]\n",
    "for i in query1:\n",
    "    numcol=len(query1[1][\"restaurant\"].keys())\n",
    "    num_of_columns.append(numcol)\n",
    "\n",
    "plt.hist(num_of_columns)\n",
    "plt.show()"
   ]
  },
  {
   "cell_type": "markdown",
   "metadata": {},
   "source": [
    "Each restaurant of the first query contains 22 different kind of information. We will assume this is the case for each query"
   ]
  },
  {
   "cell_type": "code",
   "execution_count": 249,
   "metadata": {
    "collapsed": false
   },
   "outputs": [
    {
     "data": {
      "text/plain": [
       "['cuisines',\n",
       " 'establishment_types',\n",
       " 'currency',\n",
       " 'featured_image',\n",
       " 'average_cost_for_two',\n",
       " 'deeplink',\n",
       " 'id',\n",
       " 'thumb',\n",
       " 'is_delivering_now',\n",
       " 'menu_url',\n",
       " 'photos_url',\n",
       " 'user_rating',\n",
       " 'offers',\n",
       " 'location',\n",
       " 'has_table_booking',\n",
       " 'events_url',\n",
       " 'R',\n",
       " 'price_range',\n",
       " 'apikey',\n",
       " 'name',\n",
       " 'has_online_delivery',\n",
       " 'url']"
      ]
     },
     "execution_count": 249,
     "metadata": {},
     "output_type": "execute_result"
    }
   ],
   "source": [
    "#But let's keep columns that are interesting to us.\n",
    "query1[1][\"restaurant\"].keys()"
   ]
  },
  {
   "cell_type": "code",
   "execution_count": 281,
   "metadata": {
    "collapsed": false
   },
   "outputs": [
    {
     "data": {
      "text/html": [
       "<div>\n",
       "<table border=\"1\" class=\"dataframe\">\n",
       "  <thead>\n",
       "    <tr style=\"text-align: right;\">\n",
       "      <th></th>\n",
       "      <th>id</th>\n",
       "      <th>name</th>\n",
       "      <th>cuisines</th>\n",
       "      <th>establishment_types</th>\n",
       "      <th>price_range</th>\n",
       "      <th>average_cost_for_two</th>\n",
       "      <th>user_rating</th>\n",
       "      <th>location</th>\n",
       "    </tr>\n",
       "  </thead>\n",
       "  <tbody>\n",
       "    <tr>\n",
       "      <th>0</th>\n",
       "      <td>6111707</td>\n",
       "      <td>Barracuda</td>\n",
       "      <td>Drinks Only</td>\n",
       "      <td>[]</td>\n",
       "      <td>2.0</td>\n",
       "      <td>25.0</td>\n",
       "      <td>{'votes': '7', 'aggregate_rating': '2.6', 'rat...</td>\n",
       "      <td>{'city': 'London', 'locality': 'Ealing', 'city...</td>\n",
       "    </tr>\n",
       "    <tr>\n",
       "      <th>1</th>\n",
       "      <td>6102909</td>\n",
       "      <td>Starbucks</td>\n",
       "      <td>Cafe</td>\n",
       "      <td>[]</td>\n",
       "      <td>1.0</td>\n",
       "      <td>15.0</td>\n",
       "      <td>{'votes': '4', 'aggregate_rating': '3.1', 'rat...</td>\n",
       "      <td>{'city': 'London', 'locality': 'Ealing', 'city...</td>\n",
       "    </tr>\n",
       "    <tr>\n",
       "      <th>2</th>\n",
       "      <td>6124523</td>\n",
       "      <td>The Ashbourne</td>\n",
       "      <td>British, Pizza</td>\n",
       "      <td>[]</td>\n",
       "      <td>3.0</td>\n",
       "      <td>40.0</td>\n",
       "      <td>{'votes': '0', 'aggregate_rating': '0', 'ratin...</td>\n",
       "      <td>{'city': 'London', 'locality': 'Ealing', 'city...</td>\n",
       "    </tr>\n",
       "    <tr>\n",
       "      <th>3</th>\n",
       "      <td>6125893</td>\n",
       "      <td>Ristorante Belvedere</td>\n",
       "      <td>Italian</td>\n",
       "      <td>[]</td>\n",
       "      <td>3.0</td>\n",
       "      <td>50.0</td>\n",
       "      <td>{'votes': '1', 'aggregate_rating': '0', 'ratin...</td>\n",
       "      <td>{'city': 'London', 'locality': 'Ealing', 'city...</td>\n",
       "    </tr>\n",
       "    <tr>\n",
       "      <th>4</th>\n",
       "      <td>6125648</td>\n",
       "      <td>Royal Nawaab</td>\n",
       "      <td>Indian, Curry</td>\n",
       "      <td>[]</td>\n",
       "      <td>3.0</td>\n",
       "      <td>50.0</td>\n",
       "      <td>{'votes': '19', 'aggregate_rating': '3.5', 'ra...</td>\n",
       "      <td>{'city': 'London', 'locality': 'Greenford', 'c...</td>\n",
       "    </tr>\n",
       "  </tbody>\n",
       "</table>\n",
       "</div>"
      ],
      "text/plain": [
       "        id                  name        cuisines establishment_types  \\\n",
       "0  6111707             Barracuda     Drinks Only                  []   \n",
       "1  6102909             Starbucks            Cafe                  []   \n",
       "2  6124523         The Ashbourne  British, Pizza                  []   \n",
       "3  6125893  Ristorante Belvedere         Italian                  []   \n",
       "4  6125648          Royal Nawaab   Indian, Curry                  []   \n",
       "\n",
       "   price_range  average_cost_for_two  \\\n",
       "0          2.0                  25.0   \n",
       "1          1.0                  15.0   \n",
       "2          3.0                  40.0   \n",
       "3          3.0                  50.0   \n",
       "4          3.0                  50.0   \n",
       "\n",
       "                                         user_rating  \\\n",
       "0  {'votes': '7', 'aggregate_rating': '2.6', 'rat...   \n",
       "1  {'votes': '4', 'aggregate_rating': '3.1', 'rat...   \n",
       "2  {'votes': '0', 'aggregate_rating': '0', 'ratin...   \n",
       "3  {'votes': '1', 'aggregate_rating': '0', 'ratin...   \n",
       "4  {'votes': '19', 'aggregate_rating': '3.5', 'ra...   \n",
       "\n",
       "                                            location  \n",
       "0  {'city': 'London', 'locality': 'Ealing', 'city...  \n",
       "1  {'city': 'London', 'locality': 'Ealing', 'city...  \n",
       "2  {'city': 'London', 'locality': 'Ealing', 'city...  \n",
       "3  {'city': 'London', 'locality': 'Ealing', 'city...  \n",
       "4  {'city': 'London', 'locality': 'Greenford', 'c...  "
      ]
     },
     "execution_count": 281,
     "metadata": {},
     "output_type": "execute_result"
    }
   ],
   "source": [
    "information_to_keep=['id','name','cuisines','establishment_types','price_range','average_cost_for_two','user_rating',\\\n",
    "                     'location']\n",
    "\n",
    "#creating first column of the dataframe\n",
    "df_restaurant=pd.DataFrame(columns=[information_to_keep[0]])\n",
    "df_restaurant.set_value(0,information_to_keep[0],query1[1][\"restaurant\"][information_to_keep[0]])\n",
    "#creating all column of the dataframe\n",
    "for col in information_to_keep:\n",
    "    if type(query1[1][\"restaurant\"][col]) in [dict,list]:\n",
    "        df_restaurant[col]=str(query1[0][\"restaurant\"][col])\n",
    "    else:\n",
    "        df_restaurant[col]=query1[0][\"restaurant\"][col]\n",
    "# inserting restaurant information from the first query\n",
    "for i in range(1,len(query1)):\n",
    "    for col in information_to_keep:\n",
    "        if type(query1[i][\"restaurant\"][col]) in [dict,list]:\n",
    "            df_restaurant.loc[i,col]=str(query1[i][\"restaurant\"][col])\n",
    "        else:\n",
    "            df_restaurant.loc[i,col]=query1[i][\"restaurant\"][col]\n",
    "df_restaurant.head()"
   ]
  },
  {
   "cell_type": "code",
   "execution_count": 282,
   "metadata": {
    "collapsed": false
   },
   "outputs": [
    {
     "name": "stdout",
     "output_type": "stream",
     "text": [
      "All values for establishment_type from the first query: ['[]']\n",
      "----------------\n",
      "Structure for rating columns \n",
      "{'votes': '7', 'aggregate_rating': '2.6', 'rating_text': 'Average', 'rating_color': 'FFBA00'}\n",
      "----------------\n",
      "Structure for location columns {'city': 'London', 'locality': 'Ealing', 'city_id': 61, 'country_id': 215, 'zipcode': 'W5 2PJ', 'longitude': '-0.3003380000', 'address': '8 The Mall, Ealing, London W5 2PJ', 'latitude': '51.5141760000'}\n"
     ]
    }
   ],
   "source": [
    "#before applying the the same methods for all queries, let's try to already clean some columns\n",
    "print \"All values for establishment_type from the first query:\",df_restaurant.establishment_types.unique()\n",
    "print \"----------------\"\n",
    "print \"Structure for rating columns \\n\",ast.literal_eval(df_restaurant.loc[0,\"user_rating\"])\n",
    "print \"----------------\"\n",
    "print \"Structure for location columns\",ast.literal_eval(df_restaurant.loc[0,\"location\"])"
   ]
  },
  {
   "cell_type": "code",
   "execution_count": 283,
   "metadata": {
    "collapsed": true
   },
   "outputs": [],
   "source": [
    "#As it seems there are no information for column  , I am deleting it.\n",
    "# from the rating column, I am keeping the aggregate rating values along with number of votes\n",
    "# from the location columns, I am keeping the city,locality, zipcode, latitude,longitude.\n",
    "\n",
    "rating=[\"aggregate_rating\",\"votes\"]\n",
    "location=[\"city\",\"locality\", \"zipcode\", \"latitude\",\"longitude\"]\n",
    "\n",
    "del df_restaurant[\"establishment_types\"]\n",
    "\n",
    "def dictionary_value(row,name):\n",
    "    dictionary=ast.literal_eval(row)\n",
    "    value=dictionary[name]\n",
    "    return value"
   ]
  },
  {
   "cell_type": "code",
   "execution_count": 284,
   "metadata": {
    "collapsed": false
   },
   "outputs": [
    {
     "data": {
      "text/html": [
       "<div>\n",
       "<table border=\"1\" class=\"dataframe\">\n",
       "  <thead>\n",
       "    <tr style=\"text-align: right;\">\n",
       "      <th></th>\n",
       "      <th>id</th>\n",
       "      <th>name</th>\n",
       "      <th>cuisines</th>\n",
       "      <th>price_range</th>\n",
       "      <th>average_cost_for_two</th>\n",
       "      <th>user_rating</th>\n",
       "      <th>location</th>\n",
       "      <th>aggregate_rating</th>\n",
       "      <th>votes</th>\n",
       "      <th>city</th>\n",
       "      <th>locality</th>\n",
       "      <th>zipcode</th>\n",
       "      <th>latitude</th>\n",
       "      <th>longitude</th>\n",
       "    </tr>\n",
       "  </thead>\n",
       "  <tbody>\n",
       "    <tr>\n",
       "      <th>0</th>\n",
       "      <td>6111707</td>\n",
       "      <td>Barracuda</td>\n",
       "      <td>Drinks Only</td>\n",
       "      <td>2.0</td>\n",
       "      <td>25.0</td>\n",
       "      <td>{'votes': '7', 'aggregate_rating': '2.6', 'rat...</td>\n",
       "      <td>{'city': 'London', 'locality': 'Ealing', 'city...</td>\n",
       "      <td>2.6</td>\n",
       "      <td>7</td>\n",
       "      <td>London</td>\n",
       "      <td>Ealing</td>\n",
       "      <td>W5 2PJ</td>\n",
       "      <td>51.5141760000</td>\n",
       "      <td>-0.3003380000</td>\n",
       "    </tr>\n",
       "    <tr>\n",
       "      <th>1</th>\n",
       "      <td>6102909</td>\n",
       "      <td>Starbucks</td>\n",
       "      <td>Cafe</td>\n",
       "      <td>1.0</td>\n",
       "      <td>15.0</td>\n",
       "      <td>{'votes': '4', 'aggregate_rating': '3.1', 'rat...</td>\n",
       "      <td>{'city': 'London', 'locality': 'Ealing', 'city...</td>\n",
       "      <td>3.1</td>\n",
       "      <td>4</td>\n",
       "      <td>London</td>\n",
       "      <td>Ealing</td>\n",
       "      <td>W5 5DA</td>\n",
       "      <td>51.5110310000</td>\n",
       "      <td>-0.3051820000</td>\n",
       "    </tr>\n",
       "    <tr>\n",
       "      <th>2</th>\n",
       "      <td>6124523</td>\n",
       "      <td>The Ashbourne</td>\n",
       "      <td>British, Pizza</td>\n",
       "      <td>3.0</td>\n",
       "      <td>40.0</td>\n",
       "      <td>{'votes': '0', 'aggregate_rating': '0', 'ratin...</td>\n",
       "      <td>{'city': 'London', 'locality': 'Ealing', 'city...</td>\n",
       "      <td>0</td>\n",
       "      <td>0</td>\n",
       "      <td>London</td>\n",
       "      <td>Ealing</td>\n",
       "      <td>W5 3QU</td>\n",
       "      <td>51.5292580000</td>\n",
       "      <td>-0.2916370000</td>\n",
       "    </tr>\n",
       "    <tr>\n",
       "      <th>3</th>\n",
       "      <td>6125893</td>\n",
       "      <td>Ristorante Belvedere</td>\n",
       "      <td>Italian</td>\n",
       "      <td>3.0</td>\n",
       "      <td>50.0</td>\n",
       "      <td>{'votes': '1', 'aggregate_rating': '0', 'ratin...</td>\n",
       "      <td>{'city': 'London', 'locality': 'Ealing', 'city...</td>\n",
       "      <td>0</td>\n",
       "      <td>1</td>\n",
       "      <td>London</td>\n",
       "      <td>Ealing</td>\n",
       "      <td>W5 1EE</td>\n",
       "      <td>51.5301820000</td>\n",
       "      <td>-0.2926770000</td>\n",
       "    </tr>\n",
       "    <tr>\n",
       "      <th>4</th>\n",
       "      <td>6125648</td>\n",
       "      <td>Royal Nawaab</td>\n",
       "      <td>Indian, Curry</td>\n",
       "      <td>3.0</td>\n",
       "      <td>50.0</td>\n",
       "      <td>{'votes': '19', 'aggregate_rating': '3.5', 'ra...</td>\n",
       "      <td>{'city': 'London', 'locality': 'Greenford', 'c...</td>\n",
       "      <td>3.5</td>\n",
       "      <td>19</td>\n",
       "      <td>London</td>\n",
       "      <td>Greenford</td>\n",
       "      <td>UB6 8DW</td>\n",
       "      <td>51.5336160000</td>\n",
       "      <td>-0.3187410000</td>\n",
       "    </tr>\n",
       "  </tbody>\n",
       "</table>\n",
       "</div>"
      ],
      "text/plain": [
       "        id                  name        cuisines  price_range  \\\n",
       "0  6111707             Barracuda     Drinks Only          2.0   \n",
       "1  6102909             Starbucks            Cafe          1.0   \n",
       "2  6124523         The Ashbourne  British, Pizza          3.0   \n",
       "3  6125893  Ristorante Belvedere         Italian          3.0   \n",
       "4  6125648          Royal Nawaab   Indian, Curry          3.0   \n",
       "\n",
       "   average_cost_for_two                                        user_rating  \\\n",
       "0                  25.0  {'votes': '7', 'aggregate_rating': '2.6', 'rat...   \n",
       "1                  15.0  {'votes': '4', 'aggregate_rating': '3.1', 'rat...   \n",
       "2                  40.0  {'votes': '0', 'aggregate_rating': '0', 'ratin...   \n",
       "3                  50.0  {'votes': '1', 'aggregate_rating': '0', 'ratin...   \n",
       "4                  50.0  {'votes': '19', 'aggregate_rating': '3.5', 'ra...   \n",
       "\n",
       "                                            location aggregate_rating votes  \\\n",
       "0  {'city': 'London', 'locality': 'Ealing', 'city...              2.6     7   \n",
       "1  {'city': 'London', 'locality': 'Ealing', 'city...              3.1     4   \n",
       "2  {'city': 'London', 'locality': 'Ealing', 'city...                0     0   \n",
       "3  {'city': 'London', 'locality': 'Ealing', 'city...                0     1   \n",
       "4  {'city': 'London', 'locality': 'Greenford', 'c...              3.5    19   \n",
       "\n",
       "     city   locality  zipcode       latitude      longitude  \n",
       "0  London     Ealing   W5 2PJ  51.5141760000  -0.3003380000  \n",
       "1  London     Ealing   W5 5DA  51.5110310000  -0.3051820000  \n",
       "2  London     Ealing   W5 3QU  51.5292580000  -0.2916370000  \n",
       "3  London     Ealing   W5 1EE  51.5301820000  -0.2926770000  \n",
       "4  London  Greenford  UB6 8DW  51.5336160000  -0.3187410000  "
      ]
     },
     "execution_count": 284,
     "metadata": {},
     "output_type": "execute_result"
    }
   ],
   "source": [
    "for name in rating:\n",
    "    df_restaurant[name]=df_restaurant[\"user_rating\"].apply(lambda x: dictionary_value(x,name))\n",
    "for name in location:\n",
    "    df_restaurant[name]=df_restaurant[\"location\"].apply(lambda x:dictionary_value(x,name))\n",
    "    \n",
    "df_restaurant.head()"
   ]
  },
  {
   "cell_type": "code",
   "execution_count": 285,
   "metadata": {
    "collapsed": false
   },
   "outputs": [
    {
     "data": {
      "text/html": [
       "<div>\n",
       "<table border=\"1\" class=\"dataframe\">\n",
       "  <thead>\n",
       "    <tr style=\"text-align: right;\">\n",
       "      <th></th>\n",
       "      <th>id</th>\n",
       "      <th>name</th>\n",
       "      <th>cuisines</th>\n",
       "      <th>price_range</th>\n",
       "      <th>average_cost_for_two</th>\n",
       "      <th>user_rating</th>\n",
       "      <th>location</th>\n",
       "      <th>aggregate_rating</th>\n",
       "      <th>votes</th>\n",
       "      <th>city</th>\n",
       "      <th>locality</th>\n",
       "      <th>zipcode</th>\n",
       "      <th>latitude</th>\n",
       "      <th>longitude</th>\n",
       "    </tr>\n",
       "  </thead>\n",
       "  <tbody>\n",
       "    <tr>\n",
       "      <th>18077</th>\n",
       "      <td>6113366</td>\n",
       "      <td>Olympia Fish &amp; Chips Kebab</td>\n",
       "      <td>Fast Food, Fish and Chips</td>\n",
       "      <td>1.0</td>\n",
       "      <td>15.0</td>\n",
       "      <td>{'votes': '2', 'aggregate_rating': '0', 'ratin...</td>\n",
       "      <td>{'city': 'London', 'locality': 'Stratford', 'c...</td>\n",
       "      <td>0</td>\n",
       "      <td>2</td>\n",
       "      <td>London</td>\n",
       "      <td>Stratford</td>\n",
       "      <td>E15 4EH</td>\n",
       "      <td>51.5433690000</td>\n",
       "      <td>0.0113450000</td>\n",
       "    </tr>\n",
       "    <tr>\n",
       "      <th>18078</th>\n",
       "      <td>6113471</td>\n",
       "      <td>The Central</td>\n",
       "      <td>Finger Food</td>\n",
       "      <td>2.0</td>\n",
       "      <td>30.0</td>\n",
       "      <td>{'votes': '12', 'aggregate_rating': '2.8', 'ra...</td>\n",
       "      <td>{'city': 'London', 'locality': 'Upton Park', '...</td>\n",
       "      <td>2.8</td>\n",
       "      <td>12</td>\n",
       "      <td>London</td>\n",
       "      <td>Upton Park</td>\n",
       "      <td>E6 3BD</td>\n",
       "      <td>51.5313750000</td>\n",
       "      <td>0.0453640000</td>\n",
       "    </tr>\n",
       "    <tr>\n",
       "      <th>18079</th>\n",
       "      <td>6115407</td>\n",
       "      <td>Cakes &amp; Bakes</td>\n",
       "      <td>Bakery, Desserts</td>\n",
       "      <td>1.0</td>\n",
       "      <td>15.0</td>\n",
       "      <td>{'votes': '3', 'aggregate_rating': '0', 'ratin...</td>\n",
       "      <td>{'city': 'London', 'locality': 'East Ham', 'ci...</td>\n",
       "      <td>0</td>\n",
       "      <td>3</td>\n",
       "      <td>London</td>\n",
       "      <td>East Ham</td>\n",
       "      <td>E6 2JX</td>\n",
       "      <td>51.5335930000</td>\n",
       "      <td>0.0583860000</td>\n",
       "    </tr>\n",
       "    <tr>\n",
       "      <th>18080</th>\n",
       "      <td>6115309</td>\n",
       "      <td>Perfect Chicken &amp; Grill</td>\n",
       "      <td>Fast Food, Grill</td>\n",
       "      <td>1.0</td>\n",
       "      <td>15.0</td>\n",
       "      <td>{'votes': '0', 'aggregate_rating': '0', 'ratin...</td>\n",
       "      <td>{'city': 'London', 'locality': 'East Ham', 'ci...</td>\n",
       "      <td>0</td>\n",
       "      <td>0</td>\n",
       "      <td>London</td>\n",
       "      <td>East Ham</td>\n",
       "      <td>E12 6PG</td>\n",
       "      <td>51.5453140000</td>\n",
       "      <td>0.0492890000</td>\n",
       "    </tr>\n",
       "    <tr>\n",
       "      <th>18081</th>\n",
       "      <td>6115441</td>\n",
       "      <td>Kebana Kebabish</td>\n",
       "      <td>Fast Food, Turkish</td>\n",
       "      <td>1.0</td>\n",
       "      <td>10.0</td>\n",
       "      <td>{'votes': '0', 'aggregate_rating': '0', 'ratin...</td>\n",
       "      <td>{'city': 'London', 'locality': 'East Ham', 'ci...</td>\n",
       "      <td>0</td>\n",
       "      <td>0</td>\n",
       "      <td>London</td>\n",
       "      <td>East Ham</td>\n",
       "      <td>E12 6PG</td>\n",
       "      <td>51.5451620000</td>\n",
       "      <td>0.0493760000</td>\n",
       "    </tr>\n",
       "  </tbody>\n",
       "</table>\n",
       "</div>"
      ],
      "text/plain": [
       "            id                        name                   cuisines  \\\n",
       "18077  6113366  Olympia Fish & Chips Kebab  Fast Food, Fish and Chips   \n",
       "18078  6113471                 The Central                Finger Food   \n",
       "18079  6115407               Cakes & Bakes           Bakery, Desserts   \n",
       "18080  6115309     Perfect Chicken & Grill           Fast Food, Grill   \n",
       "18081  6115441             Kebana Kebabish         Fast Food, Turkish   \n",
       "\n",
       "       price_range  average_cost_for_two  \\\n",
       "18077          1.0                  15.0   \n",
       "18078          2.0                  30.0   \n",
       "18079          1.0                  15.0   \n",
       "18080          1.0                  15.0   \n",
       "18081          1.0                  10.0   \n",
       "\n",
       "                                             user_rating  \\\n",
       "18077  {'votes': '2', 'aggregate_rating': '0', 'ratin...   \n",
       "18078  {'votes': '12', 'aggregate_rating': '2.8', 'ra...   \n",
       "18079  {'votes': '3', 'aggregate_rating': '0', 'ratin...   \n",
       "18080  {'votes': '0', 'aggregate_rating': '0', 'ratin...   \n",
       "18081  {'votes': '0', 'aggregate_rating': '0', 'ratin...   \n",
       "\n",
       "                                                location aggregate_rating  \\\n",
       "18077  {'city': 'London', 'locality': 'Stratford', 'c...                0   \n",
       "18078  {'city': 'London', 'locality': 'Upton Park', '...              2.8   \n",
       "18079  {'city': 'London', 'locality': 'East Ham', 'ci...                0   \n",
       "18080  {'city': 'London', 'locality': 'East Ham', 'ci...                0   \n",
       "18081  {'city': 'London', 'locality': 'East Ham', 'ci...                0   \n",
       "\n",
       "      votes    city    locality  zipcode       latitude     longitude  \n",
       "18077     2  London   Stratford  E15 4EH  51.5433690000  0.0113450000  \n",
       "18078    12  London  Upton Park   E6 3BD  51.5313750000  0.0453640000  \n",
       "18079     3  London    East Ham   E6 2JX  51.5335930000  0.0583860000  \n",
       "18080     0  London    East Ham  E12 6PG  51.5453140000  0.0492890000  \n",
       "18081     0  London    East Ham  E12 6PG  51.5451620000  0.0493760000  "
      ]
     },
     "execution_count": 285,
     "metadata": {},
     "output_type": "execute_result"
    }
   ],
   "source": [
    "#Now let's apply what we performed before to the missing 969 queries\n",
    "information_to_keep=['id','name','cuisines','price_range','average_cost_for_two','user_rating',\\\n",
    "                     'location']\n",
    "\n",
    "position=len(df_restaurant)-1\n",
    "for j in range(1,len(df_bazard)):\n",
    "    query=df_bazard.loc[j,\"query_result\"]\n",
    "    for i in range(1,len(query)):\n",
    "        position=position+1\n",
    "        for col in information_to_keep:\n",
    "            if type(query[i][\"restaurant\"][col]) in [dict,list]:\n",
    "                df_restaurant.loc[position,col]=str(query[i][\"restaurant\"][col])\n",
    "            else:\n",
    "                df_restaurant.loc[position,col]=query[i][\"restaurant\"][col]\n",
    "\n",
    "                \n",
    "# taking the relevant information from the dictionary column:\n",
    "\n",
    "for name in rating:\n",
    "    df_restaurant[name]=df_restaurant[\"user_rating\"].apply(lambda x: dictionary_value(x,name))\n",
    "for name in location:\n",
    "    df_restaurant[name]=df_restaurant[\"location\"].apply(lambda x:dictionary_value(x,name))\n",
    "    \n",
    "df_restaurant.tail()\n",
    "\n"
   ]
  },
  {
   "cell_type": "code",
   "execution_count": 286,
   "metadata": {
    "collapsed": false
   },
   "outputs": [],
   "source": [
    "#deleting columns location and user_rating columns\n",
    "#removing duplicate\n",
    "\n",
    "del df_restaurant[\"user_rating\"]\n",
    "del df_restaurant[\"location\"]\n",
    "\n",
    "df_restaurant=df_restaurant.drop_duplicates()\n",
    "df_restaurant.reset_index(drop=True,inplace=True)"
   ]
  },
  {
   "cell_type": "code",
   "execution_count": 287,
   "metadata": {
    "collapsed": false
   },
   "outputs": [
    {
     "name": "stdout",
     "output_type": "stream",
     "text": [
      "total number of restaurant I registered: 3417\n"
     ]
    },
    {
     "data": {
      "image/png": "[encoded data removed]",
      "text/plain": [
       "<matplotlib.figure.Figure at 0x1425743d0>"
      ]
     },
     "metadata": {},
     "output_type": "display_data"
    }
   ],
   "source": [
    "print \"total number of restaurant I registered:\", len(df_restaurant)\n",
    "\n",
    "df_restaurant[\"longitude\"]=df_restaurant[\"longitude\"].astype(\"float\")\n",
    "df_restaurant[\"latitude\"]=df_restaurant[\"latitude\"].astype(\"float\")\n",
    "\n",
    "plt.scatter(df_restaurant.loc[df_restaurant[\"latitude\"]!=0,\"longitude\"],df_restaurant.loc[df_restaurant[\"latitude\"]!=0,\"latitude\"])\n",
    "plt.xlabel(\"longitude\")\n",
    "plt.ylabel(\"latitude\")\n",
    "plt.title(\"Location of london restaurants\")\n",
    "plt.show()"
   ]
  },
  {
   "cell_type": "markdown",
   "metadata": {},
   "source": [
    "The 3417 restaurants seem to cover all London"
   ]
  },
  {
   "cell_type": "code",
   "execution_count": 288,
   "metadata": {
    "collapsed": false
   },
   "outputs": [
    {
     "name": "stdout",
     "output_type": "stream",
     "text": [
      "<class 'pandas.core.frame.DataFrame'>\n",
      "RangeIndex: 3417 entries, 0 to 3416\n",
      "Data columns (total 12 columns):\n",
      "id                      3417 non-null object\n",
      "name                    3417 non-null object\n",
      "cuisines                3417 non-null object\n",
      "price_range             3417 non-null float64\n",
      "average_cost_for_two    3417 non-null float64\n",
      "aggregate_rating        3417 non-null object\n",
      "votes                   3417 non-null object\n",
      "city                    3417 non-null object\n",
      "locality                3417 non-null object\n",
      "zipcode                 3417 non-null object\n",
      "latitude                3417 non-null float64\n",
      "longitude               3417 non-null float64\n",
      "dtypes: float64(4), object(8)\n",
      "memory usage: 320.4+ KB\n"
     ]
    }
   ],
   "source": [
    "df_restaurant.info()"
   ]
  },
  {
   "cell_type": "code",
   "execution_count": 289,
   "metadata": {
    "collapsed": false
   },
   "outputs": [],
   "source": [
    "# preparing data to be upload into the database\n",
    "df_restaurant[\"aggregate_rating\"]=df_restaurant[\"aggregate_rating\"].astype(float)\n",
    "df_restaurant[\"votes\"]=df_restaurant[\"votes\"].astype(int)\n",
    "#removing the restaurant with 0 latitute and longitude. It must be restaurants which does not exist anymore.\n",
    "df_restaurant=df_restaurant.loc[df_restaurant[\"latitude\"]!=0,:]\n",
    "df_restaurant.reset_index(drop=True,inplace=True)"
   ]
  },
  {
   "cell_type": "code",
   "execution_count": 290,
   "metadata": {
    "collapsed": true
   },
   "outputs": [],
   "source": [
    "df_restaurant.to_sql(\"zoomato_1\",con=conn)"
   ]
  },
  {
   "cell_type": "code",
   "execution_count": null,
   "metadata": {
    "collapsed": true
   },
   "outputs": [],
   "source": []
  }
 ],
 "metadata": {
  "anaconda-cloud": {},
  "kernelspec": {
   "display_name": "Python [conda root]",
   "language": "python",
   "name": "conda-root-py"
  },
  "language_info": {
   "codemirror_mode": {
    "name": "ipython",
    "version": 2
   },
   "file_extension": ".py",
   "mimetype": "text/x-python",
   "name": "python",
   "nbconvert_exporter": "python",
   "pygments_lexer": "ipython2",
   "version": "2.7.12"
  }
 },
 "nbformat": 4,
 "nbformat_minor": 1
}
