{
 "cells": [
  {
   "cell_type": "markdown",
   "metadata": {},
   "source": [
    "# Location suggestions generator for restaurant opening\n",
    "\n",
    "## Web scraping on just-eat.com\n",
    "\n",
    "In order create my model, I need Financial data over area of London, Demographic, Data, per area, Data about restaurants in London.\n",
    "\n",
    "On this jupyter notebook, I wrote the code that enabled me to extract data from all take away restaurant available in London on just-eat.com to then, after connecting to my local PostgreSQL database, push the data into a table called restaurant_2."
   ]
  },
  {
   "cell_type": "code",
   "execution_count": 1,
   "metadata": {
    "collapsed": false
   },
   "outputs": [],
   "source": [
    "import requests\n",
    "from bs4 import BeautifulSoup\n",
    "import urllib2\n",
    "import numpy as np\n",
    "import pandas as pd\n",
    "import matplotlib.pyplot as plt\n",
    "import seaborn as sns\n",
    "import re\n",
    "from sqlalchemy.engine import create_engine"
   ]
  },
  {
   "cell_type": "code",
   "execution_count": 2,
   "metadata": {
    "collapsed": false
   },
   "outputs": [],
   "source": [
    "#connecting to the data base\n",
    "engine=create_engine('postgresql://localhost:5432/capstone')\n",
    "conn=engine.connect()"
   ]
  },
  {
   "cell_type": "code",
   "execution_count": 3,
   "metadata": {
    "collapsed": true
   },
   "outputs": [],
   "source": [
    "# this code is to get minimum you can spend at a restaurant \n",
    "def get_minimum_code(all_restaurant,i):\n",
    "    try:\n",
    "        code=all_restaurant[i].find_all(\"p\",class_=\"c-restaurant__minimum\")[0].string[-2:].encode(encoding='UTF-8',errors='strict')\n",
    "        return code\n",
    "    except Exception:\n",
    "        return np.nan"
   ]
  },
  {
   "cell_type": "code",
   "execution_count": 4,
   "metadata": {
    "collapsed": false
   },
   "outputs": [],
   "source": [
    "# this code is to extract data about each restaurant from a district\n",
    "def page_df(all_restaurant):\n",
    "\n",
    "    name=[]\n",
    "    url=[]\n",
    "    ranking=[]\n",
    "    num_vote=[]\n",
    "    cuisine=[]\n",
    "    address=[]\n",
    "    min_meal=[]\n",
    "    \n",
    "    #online\n",
    "    for i in range(len(all_restaurant)):\n",
    "\n",
    "        #Get restaurant name\n",
    "        name_resto = all_restaurant[i].find_all(\"h2\")[0].string.encode(encoding='UTF-8',errors='strict')\n",
    "\n",
    "        # GET Restaurant URL\n",
    "        url_beg=str(all_restaurant[i].find_all(\"a\")).find(\"href\")\n",
    "        url_end=str(all_restaurant[i].find_all(\"a\")).find(\"menu\")\n",
    "        url_resto=\"https://www.just-eat.co.uk\"+str(all_restaurant[i].find_all(\"a\"))[url_beg+len(\"href='\"):url_end-1]\n",
    "\n",
    "        #get minimum spending\n",
    "        minimum_spend_resto = get_minimum_code(all_restaurant,i)\n",
    "\n",
    "        #get ranking:\n",
    "        position_rank=str(all_restaurant[i].find_all(\"p\",class_=\"c-restaurant__rating\")[0]).find(\"stars\")\n",
    "        ranking_resto=str(all_restaurant[i].find_all(\"p\",class_=\"c-restaurant__rating\")[0])\\\n",
    "        [position_rank-2:position_rank+1].strip(\"s\").strip(\" \")\n",
    "\n",
    "        num_vote_resto=all_restaurant[i].find_all(\"p\",class_=\"c-restaurant__rating\")[0]\\\n",
    "        .text.encode(encoding='UTF-8',errors='strict').strip(\"\\n\").strip(\"(\").strip(\")\")\n",
    "\n",
    "        #get cuisine:\n",
    "        cuisine_resto=all_restaurant[i].find_all(\"p\",class_=\"c-restaurant__cuisine\")[0].string.encode(encoding='UTF-8',errors='strict')\n",
    "\n",
    "        #get address:\n",
    "        address_resto=all_restaurant[i].find_all(\"p\",class_=\"c-restaurant__address\")[0].string.encode(encoding='UTF-8',errors='strict')\n",
    "\n",
    "        name.append(name_resto)\n",
    "        url.append(url_resto)\n",
    "        ranking.append(ranking_resto)\n",
    "        num_vote.append(num_vote_resto)\n",
    "        cuisine.append(cuisine_resto)\n",
    "        address.append(address_resto)\n",
    "        min_meal.append(minimum_spend_resto)\n",
    "\n",
    "    df_inter=pd.DataFrame({\"Name\":name,\"Url\":url,\"Ranking\":ranking,\"Number of votes\":num_vote,\\\n",
    "                                  \"Cuisine\":cuisine, \"Address\":address, \"Minimum spend\":min_meal})\n",
    "    \n",
    "\n",
    "    return df_inter.to_sql(\"just_eat_4\",if_exists=\"append\",con=conn)\n",
    "\n"
   ]
  },
  {
   "cell_type": "code",
   "execution_count": 5,
   "metadata": {
    "collapsed": false
   },
   "outputs": [],
   "source": [
    "# this class is for the efficiency of the scrapig\n",
    "from urllib import FancyURLopener\n",
    "class MyOpener(FancyURLopener):\n",
    "    version=\"Mozilla/5.0 (Macintosh; Intel Mac OS X 10_11_6) AppleWebKit/537.36\\\n",
    "               (KHTML, like Gecko) Chrome/54.0.2840.98 Safari/537.36\""
   ]
  },
  {
   "cell_type": "code",
   "execution_count": 6,
   "metadata": {
    "collapsed": false
   },
   "outputs": [],
   "source": [
    "# this function is to get the whole html information of restaurants in a district\n",
    "def define_resto(url):\n",
    "    page=urllib2.urlopen(url).read()\n",
    "    soup=BeautifulSoup(page, \"lxml\")\n",
    "    # get all restaurant information in a list\n",
    "    #myopener = MyOpener()\n",
    "    #page = myopener.open(url)\n",
    "    #soup = BeautifulSoup(page)\n",
    "    online = soup.find_all(\"div\",class_=\"o-tile c-restaurant\")\n",
    "    offline = soup.find_all(\"div\",class_=\"o-tile c-restaurant c-restaurant--offline\")\n",
    "    return online, offline"
   ]
  },
  {
   "cell_type": "code",
   "execution_count": 7,
   "metadata": {
    "collapsed": false
   },
   "outputs": [
    {
     "name": "stderr",
     "output_type": "stream",
     "text": [
      "/Users/dorian/anaconda/lib/python2.7/site-packages/IPython/core/interactiveshell.py:2717: DtypeWarning: Columns (18) have mixed types. Specify dtype option on import or set low_memory=False.\n",
      "  interactivity=interactivity, compiler=compiler, result=result)\n"
     ]
    }
   ],
   "source": [
    "# L_postcode contains all disctrict postcode which is usefull to loop through just-et pages\n",
    "code=pd.read_csv(\"L_postcode.csv\")\n"
   ]
  },
  {
   "cell_type": "code",
   "execution_count": 8,
   "metadata": {
    "collapsed": false
   },
   "outputs": [],
   "source": [
    "district_code=code[\"district_code\"].unique().tolist()"
   ]
  },
  {
   "cell_type": "code",
   "execution_count": null,
   "metadata": {
    "collapsed": true
   },
   "outputs": [],
   "source": [
    "# this code enable to retrive inforamation for all london restuarants\n",
    "for code in district_code:\n",
    "    url_code=\"https://www.just-eat.co.uk/area/\"+code+\"?so=distance\"\n",
    "    online, offline=define_resto(url_code)\n",
    "    page_df(online)\n",
    "    page_df(offline)\n",
    "    print code"
   ]
  },
  {
   "cell_type": "code",
   "execution_count": null,
   "metadata": {
    "collapsed": true
   },
   "outputs": [],
   "source": []
  }
 ],
 "metadata": {
  "anaconda-cloud": {},
  "kernelspec": {
   "display_name": "Python [conda root]",
   "language": "python",
   "name": "conda-root-py"
  },
  "language_info": {
   "codemirror_mode": {
    "name": "ipython",
    "version": 2
   },
   "file_extension": ".py",
   "mimetype": "text/x-python",
   "name": "python",
   "nbconvert_exporter": "python",
   "pygments_lexer": "ipython2",
   "version": "2.7.12"
  }
 },
 "nbformat": 4,
 "nbformat_minor": 1
}
