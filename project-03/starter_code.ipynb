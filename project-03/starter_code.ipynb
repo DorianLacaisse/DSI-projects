{
 "cells": [
  {
   "cell_type": "markdown",
   "metadata": {
    "focus": false,
    "id": "69b9a648-bcc7-490d-9f9b-ea244d156bd6"
   },
   "source": [
    "# Web Scraping for Indeed.com & Predicting Salaries"
   ]
  },
  {
   "cell_type": "markdown",
   "metadata": {
    "focus": false,
    "id": "34681254-c802-462f-829d-8894d0772d08"
   },
   "source": [
    "In this project, we will practice two major skills: collecting data by scraping a website and then building a binary predictor with Logistic Regression.\n",
    "\n",
    "We are going to collect salary information on data science jobs in a variety of markets. Then using the location, title and summary of the job we will attempt to predict the salary of the job. For job posting sites, this would be extraordinarily useful. While most listings DO NOT come with salary information, being to able extrapolate or predict the expected salaries from other listings can help guide negotiations.\n",
    "\n",
    "Normally, we could use regression for this task; however, we will convert this problem into classification and use Logistic Regression.\n",
    "\n",
    "Why would we want this to be a classification problem?\n",
    "- While more precision may be better, there is a fair amount of natural variance in job salaries - predicting a range be may be useful.\n",
    "\n",
    "Therefore, the first part of the assignment will be focused on scraping Indeed.com. In the second, we'll focus on using listings with salary information to build a model and predict additional salaries."
   ]
  },
  {
   "cell_type": "markdown",
   "metadata": {
    "focus": false,
    "id": "a948d79c-5527-4c0d-ab23-f5d43ce72056"
   },
   "source": [
    "### Scraping job listings from Indeed.com"
   ]
  },
  {
   "cell_type": "markdown",
   "metadata": {
    "focus": true,
    "id": "7203e0c9-e437-4802-a6ad-7dc464f94436"
   },
   "source": [
    "We will be scraping job listings from Indeed.com using BeautifulSoup. Luckily, Indeed.com is a simple text page where we can easily find relevant entries.\n",
    "\n",
    "First, let's look at the source of an Indeed.com page: (http://www.indeed.com/jobs?q=data+scientist+%2420%2C000&l=New+York&start=10\")\n",
    "\n",
    "Notice, each job listing is underneath a `div` tag with a class name of `result`. We can use BeautifulSoup to extract those. "
   ]
  },
  {
   "cell_type": "code",
   "execution_count": 196,
   "metadata": {
    "collapsed": false,
    "focus": false,
    "id": "e915023e-6b0d-4982-af2a-b1e0355f4927"
   },
   "outputs": [],
   "source": [
    "URL = \"http://www.indeed.com/jobs?as_and=data+scientist&as_phr=&as_any=&as_not=&as_ttl=&as_cmp=&jt=all&st=&salary=$20,000&radius=25&l=New+York,+NY&fromage=any&limit=100&sort=date&psf=advsrch\""
   ]
  },
  {
   "cell_type": "code",
   "execution_count": 197,
   "metadata": {
    "collapsed": true,
    "focus": false,
    "id": "2efefc73-064a-482d-b3b5-ddf5508cb4ec"
   },
   "outputs": [],
   "source": [
    "import requests\n",
    "import bs4\n",
    "from bs4 import BeautifulSoup\n",
    "import urllib2\n",
    "import numpy as np\n",
    "import pandas as pd\n",
    "import matplotlib.pyplot as plt\n",
    "import seaborn as sns"
   ]
  },
  {
   "cell_type": "code",
   "execution_count": 198,
   "metadata": {
    "collapsed": false,
    "focus": false,
    "id": "2c6752c4-7704-4c94-8bc0-6f13d2d0d570"
   },
   "outputs": [],
   "source": [
    "\n",
    "page=urllib2.urlopen(URL).read()\n",
    "soup=BeautifulSoup(page, \"lxml\")"
   ]
  },
  {
   "cell_type": "markdown",
   "metadata": {
    "focus": false,
    "id": "bb0b866a-26a7-45e9-8084-5a0f90eb4b3e"
   },
   "source": [
    "Let's look at one result more closely. A single `result` looks like\n",
    "\n",
    "```\n",
    "<div class=\" row result\" data-jk=\"2480d203f7e97210\" data-tn-component=\"organicJob\" id=\"p_2480d203f7e97210\" itemscope=\"\" itemtype=\"http://schema.org/JobPosting\">\n",
    "<h2 class=\"jobtitle\" id=\"jl_2480d203f7e97210\">\n",
    "<a class=\"turnstileLink\" data-tn-element=\"jobTitle\" onmousedown=\"return rclk(this,jobmap[0],1);\" rel=\"nofollow\" target=\"_blank\" title=\"AVP/Quantitative Analyst\">AVP/Quantitative Analyst</a>\n",
    "</h2>\n",
    "<span class=\"company\" itemprop=\"hiringOrganization\" itemtype=\"http://schema.org/Organization\">\n",
    "<span itemprop=\"name\">\n",
    "<a href=\"/cmp/Alliancebernstein?from=SERP&amp;campaignid=serp-linkcompanyname&amp;fromjk=2480d203f7e97210&amp;jcid=b374f2a780e04789\" target=\"_blank\">\n",
    "    AllianceBernstein</a></span>\n",
    "</span>\n",
    "<tr>\n",
    "<td class=\"snip\">\n",
    "<nobr>$117,500 - $127,500 a year</nobr>\n",
    "<div>\n",
    "<span class=\"summary\" itemprop=\"description\">\n",
    "C onduct quantitative and statistical research as well as portfolio management for various investment portfolios. Collaborate with Quantitative Analysts and</span>\n",
    "</div>\n",
    "</div>\n",
    "</td>\n",
    "</tr>\n",
    "</table>\n",
    "</div>\n",
    "```\n",
    "\n",
    "While this has some more verbose elements removed, we can see that there is some structure to the above:\n",
    "- The salary is available in a `nobr` element inside of a `td` element with `class='snip`.\n",
    "- The title of a job is in a link with class set to `jobtitle` and a `data-tn-element=\"jobTitle`.  \n",
    "- The location is set in a `span` with `class='location'`. \n",
    "- The company is set in a `span` with `class='company'`. "
   ]
  },
  {
   "cell_type": "markdown",
   "metadata": {
    "focus": false,
    "id": "f1eddb90-4ba8-483c-a229-77e93aa53119"
   },
   "source": [
    "### Let's write 4 functions to extract each item: location, company, job, and salary.\n"
   ]
  },
  {
   "cell_type": "code",
   "execution_count": 200,
   "metadata": {
    "collapsed": false
   },
   "outputs": [
    {
     "data": {
      "text/plain": [
       "<div class=\" row result\" data-jk=\"9b0e8fe063a266d6\" data-tn-component=\"organicJob\" id=\"p_9b0e8fe063a266d6\" itemscope=\"\" itemtype=\"http://schema.org/JobPosting\">\n",
       "<h2 class=\"jobtitle\" id=\"jl_9b0e8fe063a266d6\">\n",
       "<a class=\"turnstileLink\" data-tn-element=\"jobTitle\" href=\"/rc/clk?jk=9b0e8fe063a266d6&amp;fccid=3e901f592b439cea\" itemprop=\"title\" onclick=\"setRefineByCookie(['radius', 'salest']); return rclk(this,jobmap[0],true,1);\" onmousedown=\"return rclk(this,jobmap[0],1);\" rel=\"nofollow\" target=\"_blank\" title=\"Health Scientist\">Health <b>Scientist</b></a>\n",
       "</h2>\n",
       "<span class=\"company\" itemprop=\"hiringOrganization\" itemtype=\"http://schema.org/Organization\">\n",
       "<span itemprop=\"name\">\n",
       "<a href=\"/cmp/Centers-For-Disease-Control-and-Prevention\" onmousedown=\"this.href = appendParamsOnce(this.href, 'from=SERP&amp;campaignid=serp-linkcompanyname&amp;fromjk=9b0e8fe063a266d6&amp;jcid=3e901f592b439cea')\" target=\"_blank\">\n",
       "        Centers for Disease Control and Prevention</a></span>\n",
       "</span>\n",
       "\n",
       " - <a class=\"turnstileLink slNoUnderline \" data-tn-element=\"reviewStars\" data-tn-variant=\"cmplinktst2\" href=\"/cmp/Centers-For-Disease-Control-and-Prevention/reviews\" onmousedown=\"this.href = appendParamsOnce(this.href, '?campaignid=cmplinktst2&amp;from=SERP&amp;jt=Health+Scientist&amp;fromjk=9b0e8fe063a266d6&amp;jcid=3e901f592b439cea');\" target=\"_blank\">\n",
       "<span class=\"ratings\" style=\"height: 11px; line-height: 11px; background-image: url(/images/cmp/star_2_sm@2x.png); background-size: 12px 22px;width: 60px;\"><span class=\"rating\" style=\"height: 11px; line-height: 11px; background-image: url(/images/cmp/star_2_sm@2x.png); background-size: 12px 22px;background-position: 0 11px; width: 53.4px;\"><!-- --></span></span><span class=\"slNoUnderline\">65 reviews</span></a>\n",
       " - <span itemprop=\"jobLocation\" itemscope=\"\" itemtype=\"http://schema.org/Place\"><span class=\"location\" itemprop=\"address\" itemscope=\"\" itemtype=\"http://schema.org/Postaladdress\"><span itemprop=\"addressLocality\">New York, NY</span></span></span>\n",
       "<table border=\"0\" cellpadding=\"0\" cellspacing=\"0\">\n",
       "<tr>\n",
       "<td class=\"snip\">\n",
       "<nobr>$88,305 - $146,570 a year</nobr>\n",
       "<div>\n",
       "<span class=\"summary\" itemprop=\"description\">\n",
       "Analyze scientific investigation <b>data</b>. The Centers for Disease Control and Prevention (CDC) is the agency Americans trust with their lives....</span>\n",
       "</div>\n",
       "<div class=\"result-link-bar-container\">\n",
       "<div class=\"result-link-bar\"><span class=\"date\">Just posted</span> <span class=\"tt_set\" id=\"tt_set_0\"> - <span class=\"savelink2\" id=\"savelink2_9b0e8fe063a266d6\"><a class=\"sl resultLink save-job-link\" href=\"#\" id=\"sj_9b0e8fe063a266d6\" onclick=\"changeJobState('9b0e8fe063a266d6', 'save', 'linkbar', false);return false;\" title=\"Save this job to my.indeed\">save job</a></span> - <a class=\"sl resultLink more-link \" href=\"#\" id=\"tog_0\" onclick=\"toggleMoreLinks('9b0e8fe063a266d6'); return false;\">more...</a></span><div class=\"edit_note_content\" id=\"editsaved2_9b0e8fe063a266d6\" style=\"display:none;\"></div><script>window['result_9b0e8fe063a266d6'] = {\"showSource\": false, \"source\": \"Centers for Disease Control and Prevention\", \"loggedIn\": false, \"showMyJobsLinks\": true,\"undoAction\": \"unsave\",\"relativeJobAge\": \"Just posted\",\"jobKey\": \"9b0e8fe063a266d6\", \"myIndeedAvailable\": true, \"tellAFriendEnabled\": false, \"showMoreActionsLink\": true, \"resultNumber\": 0, \"jobStateChangedToSaved\": false, \"searchState\": \"q=data scientist $20,000+&amp;l=New+York%2C+NY&amp;sort=date&amp;radius=25&amp;fromage=any&amp;limit=100&amp;jt=all&amp;st=\", \"basicPermaLink\": \"http://www.indeed.com\", \"saveJobFailed\": false, \"removeJobFailed\": false, \"requestPending\": false, \"notesEnabled\": true, \"currentPage\" : \"serp\", \"sponsored\" : false,\"reportJobButtonEnabled\": false, \"showMyJobsHired\": false};</script></div></div>\n",
       "<div class=\"tab-container\">\n",
       "<div class=\"more-links-container result-tab\" id=\"tt_display_0\" style=\"display:none;\"><a class=\"close-link closeLink\" href=\"#\" onclick=\"toggleMoreLinks('9b0e8fe063a266d6'); return false;\" title=\"Close\"></a><div class=\"more_actions\" id=\"more_0\"><ul><li><span class=\"mat\">View all <a href=\"/q-Centers-For-Disease-Control-Prevention-l-New-York,-NY-jobs.html\" rel=\"nofollow\">Centers for Disease Control and Prevention jobs in New York, NY</a> - <a href=\"/l-New-York,-NY-jobs.html\">New York jobs</a></span></li><li><span class=\"mat\">Salary Search: <a href=\"/salary?q1=Health+Scientist&amp;l1=New+York%2C+NY\" onmousedown=\"this.href = appendParamsOnce(this.href, '');\">Health Scientist salaries in New York, NY</a></span></li><li><span class=\"mat\">Learn more about working at <a href=\"/cmp/Centers-For-Disease-Control-and-Prevention\" onmousedown=\"this.href = appendParamsOnce(this.href, '?fromjk=9b0e8fe063a266d6&amp;from=serp-more&amp;campaignid=serp-more&amp;jcid=3e901f592b439cea');\">Centers For Disease Control and Prevention</a></span></li><li><span class=\"mat\">Related forums: <a href=\"/forum/loc/New-York-New-York.html\">New York, New York</a> - <a href=\"/forum/cmp/Centers-For-Disease-Control-and-Prevention.html\">Centers for Disease Control and Prevention</a></span></li></ul></div></div><div class=\"dya-container result-tab\"></div>\n",
       "<div class=\"tellafriend-container result-tab email_job_content\"></div>\n",
       "<div class=\"sign-in-container result-tab\"></div>\n",
       "<div class=\"notes-container result-tab\"></div>\n",
       "</div>\n",
       "</td>\n",
       "</tr>\n",
       "</table>\n",
       "</div>"
      ]
     },
     "execution_count": 200,
     "metadata": {},
     "output_type": "execute_result"
    }
   ],
   "source": [
    "post= soup.find_all('div',class_=\" row result\")\n",
    "post[0]"
   ]
  },
  {
   "cell_type": "code",
   "execution_count": 201,
   "metadata": {
    "collapsed": false
   },
   "outputs": [],
   "source": [
    "def extract_jobtitle_from_result(result):\n",
    "    post= result.find_all('div',class_=\" row result\")\n",
    "    jobtitle=[]\n",
    "    for i in range(len(post)):\n",
    "        try:\n",
    "            job=post[i].find_all(\"h2\")[0].text\n",
    "            jobtitle.append(job)\n",
    "        except Exception:\n",
    "            job=np.nan\n",
    "            jobtitle.append(job)\n",
    "    return jobtitle"
   ]
  },
  {
   "cell_type": "code",
   "execution_count": 203,
   "metadata": {
    "collapsed": false
   },
   "outputs": [],
   "source": [
    "def extract_company_from_result(result):\n",
    "    post= result.find_all('div',class_=\" row result\")\n",
    "    company=[]\n",
    "    for i in range(len(post)):\n",
    "        try:\n",
    "            comp=post[i].find_all(\"span\",class_=\"company\")[0].text\n",
    "            company.append(comp)\n",
    "        except Exception:\n",
    "            comp=np.nan\n",
    "            company.append(comp)\n",
    "    return company"
   ]
  },
  {
   "cell_type": "code",
   "execution_count": 205,
   "metadata": {
    "collapsed": false
   },
   "outputs": [],
   "source": [
    "def extract_location_from_result(result):\n",
    "    post= result.find_all('div',class_=\" row result\")\n",
    "    location=[]\n",
    "    for i in range(len(post)):\n",
    "        try:\n",
    "            loc=post[i].find_all(\"span\",class_=\"location\")[0].text\n",
    "            location.append(loc)\n",
    "        except Exception:\n",
    "            loc=np.nan\n",
    "            location.append(loc)\n",
    "    return location"
   ]
  },
  {
   "cell_type": "code",
   "execution_count": 207,
   "metadata": {
    "collapsed": false
   },
   "outputs": [],
   "source": [
    "def extract_salary_from_result(result):\n",
    "    post= result.find_all('div',class_=\" row result\")\n",
    "    salary=[]\n",
    "    for i in range(len(post)):\n",
    "        try:\n",
    "            sal=post[i].find_all(\"nobr\")[0].text\n",
    "            salary.append(sal)\n",
    "        except Exception:\n",
    "            sal=np.nan\n",
    "            salary.append(sal)\n",
    "    return salary"
   ]
  },
  {
   "cell_type": "markdown",
   "metadata": {
    "focus": false,
    "id": "34070e89-9521-4b45-90c8-57a6599aac68"
   },
   "source": [
    "Now, to scale up our scraping, we need to accumulate more results. We can do this by examining the URL above.\n",
    "\n",
    "- \"http://www.indeed.com/jobs?q=data+scientist+%2420%2C000&l=New+York&start=10\"\n",
    "\n",
    "There are two query parameters here we can alter to collect more results, the `l=New+York` and the `start=10`. The first controls the location of the results (so we can try a different city). The second controls where in the results to start and gives 10 results (thus, we can keep incrementing by 10 to go further in the list)."
   ]
  },
  {
   "cell_type": "code",
   "execution_count": 209,
   "metadata": {
    "collapsed": false,
    "focus": false,
    "id": "04b0f9af-540e-402f-8292-81748707c676"
   },
   "outputs": [
    {
     "name": "stdout",
     "output_type": "stream",
     "text": [
      "http://www.indeed.com/jobs?q=data+scientist+%2420%2C000&l=New+York&start=1&limit=100\n",
      "http://www.indeed.com/jobs?q=data+scientist+%2420%2C000&l=New+York&start=101&limit=100\n",
      "http://www.indeed.com/jobs?q=data+scientist+%2420%2C000&l=New+York&start=201&limit=100\n",
      "http://www.indeed.com/jobs?q=data+scientist+%2420%2C000&l=New+York&start=301&limit=100\n",
      "http://www.indeed.com/jobs?q=data+scientist+%2420%2C000&l=New+York&start=401&limit=100\n",
      "http://www.indeed.com/jobs?q=data+scientist+%2420%2C000&l=New+York&start=501&limit=100\n",
      "http://www.indeed.com/jobs?q=data+scientist+%2420%2C000&l=New+York&start=601&limit=100\n",
      "http://www.indeed.com/jobs?q=data+scientist+%2420%2C000&l=New+York&start=701&limit=100\n",
      "http://www.indeed.com/jobs?q=data+scientist+%2420%2C000&l=New+York&start=801&limit=100\n",
      "http://www.indeed.com/jobs?q=data+scientist+%2420%2C000&l=New+York&start=901&limit=100\n",
      "http://www.indeed.com/jobs?q=data+scientist+%2420%2C000&l=New+York&start=1001&limit=100\n",
      "http://www.indeed.com/jobs?q=data+scientist+%2420%2C000&l=New+York&start=1101&limit=100\n",
      "http://www.indeed.com/jobs?q=data+scientist+%2420%2C000&l=New+York&start=1201&limit=100\n",
      "http://www.indeed.com/jobs?q=data+scientist+%2420%2C000&l=New+York&start=1301&limit=100\n",
      "http://www.indeed.com/jobs?q=data+scientist+%2420%2C000&l=New+York&start=1401&limit=100\n",
      "http://www.indeed.com/jobs?q=data+scientist+%2420%2C000&l=New+York&start=1501&limit=100\n",
      "http://www.indeed.com/jobs?q=data+scientist+%2420%2C000&l=New+York&start=1601&limit=100\n",
      "http://www.indeed.com/jobs?q=data+scientist+%2420%2C000&l=New+York&start=1701&limit=100\n",
      "http://www.indeed.com/jobs?q=data+scientist+%2420%2C000&l=New+York&start=1801&limit=100\n",
      "http://www.indeed.com/jobs?q=data+scientist+%2420%2C000&l=New+York&start=1901&limit=100\n",
      "http://www.indeed.com/jobs?q=data+scientist+%2420%2C000&l=New+York&start=2001&limit=100\n",
      "http://www.indeed.com/jobs?q=data+scientist+%2420%2C000&l=New+York&start=2101&limit=100\n",
      "http://www.indeed.com/jobs?q=data+scientist+%2420%2C000&l=New+York&start=2201&limit=100\n",
      "http://www.indeed.com/jobs?q=data+scientist+%2420%2C000&l=New+York&start=2301&limit=100\n",
      "http://www.indeed.com/jobs?q=data+scientist+%2420%2C000&l=New+York&start=2401&limit=100\n",
      "http://www.indeed.com/jobs?q=data+scientist+%2420%2C000&l=New+York&start=2501&limit=100\n",
      "http://www.indeed.com/jobs?q=data+scientist+%2420%2C000&l=New+York&start=2601&limit=100\n",
      "http://www.indeed.com/jobs?q=data+scientist+%2420%2C000&l=New+York&start=2701&limit=100\n",
      "http://www.indeed.com/jobs?q=data+scientist+%2420%2C000&l=New+York&start=2801&limit=100\n",
      "http://www.indeed.com/jobs?q=data+scientist+%2420%2C000&l=New+York&start=2901&limit=100\n",
      "http://www.indeed.com/jobs?q=data+scientist+%2420%2C000&l=Chicago&start=1&limit=100\n",
      "http://www.indeed.com/jobs?q=data+scientist+%2420%2C000&l=Chicago&start=101&limit=100\n",
      "http://www.indeed.com/jobs?q=data+scientist+%2420%2C000&l=Chicago&start=201&limit=100\n",
      "http://www.indeed.com/jobs?q=data+scientist+%2420%2C000&l=Chicago&start=301&limit=100\n",
      "http://www.indeed.com/jobs?q=data+scientist+%2420%2C000&l=Chicago&start=401&limit=100\n",
      "http://www.indeed.com/jobs?q=data+scientist+%2420%2C000&l=Chicago&start=501&limit=100\n",
      "http://www.indeed.com/jobs?q=data+scientist+%2420%2C000&l=Chicago&start=601&limit=100\n",
      "http://www.indeed.com/jobs?q=data+scientist+%2420%2C000&l=Chicago&start=701&limit=100\n",
      "http://www.indeed.com/jobs?q=data+scientist+%2420%2C000&l=Chicago&start=801&limit=100\n",
      "http://www.indeed.com/jobs?q=data+scientist+%2420%2C000&l=Chicago&start=901&limit=100\n",
      "http://www.indeed.com/jobs?q=data+scientist+%2420%2C000&l=Chicago&start=1001&limit=100\n",
      "http://www.indeed.com/jobs?q=data+scientist+%2420%2C000&l=Chicago&start=1101&limit=100\n",
      "http://www.indeed.com/jobs?q=data+scientist+%2420%2C000&l=Chicago&start=1201&limit=100\n",
      "http://www.indeed.com/jobs?q=data+scientist+%2420%2C000&l=Chicago&start=1301&limit=100\n",
      "http://www.indeed.com/jobs?q=data+scientist+%2420%2C000&l=Chicago&start=1401&limit=100\n",
      "http://www.indeed.com/jobs?q=data+scientist+%2420%2C000&l=Chicago&start=1501&limit=100\n",
      "http://www.indeed.com/jobs?q=data+scientist+%2420%2C000&l=Chicago&start=1601&limit=100\n",
      "http://www.indeed.com/jobs?q=data+scientist+%2420%2C000&l=Chicago&start=1701&limit=100\n",
      "http://www.indeed.com/jobs?q=data+scientist+%2420%2C000&l=Chicago&start=1801&limit=100\n",
      "http://www.indeed.com/jobs?q=data+scientist+%2420%2C000&l=Chicago&start=1901&limit=100\n",
      "http://www.indeed.com/jobs?q=data+scientist+%2420%2C000&l=Chicago&start=2001&limit=100\n",
      "http://www.indeed.com/jobs?q=data+scientist+%2420%2C000&l=Chicago&start=2101&limit=100\n",
      "http://www.indeed.com/jobs?q=data+scientist+%2420%2C000&l=Chicago&start=2201&limit=100\n",
      "http://www.indeed.com/jobs?q=data+scientist+%2420%2C000&l=Chicago&start=2301&limit=100\n",
      "http://www.indeed.com/jobs?q=data+scientist+%2420%2C000&l=Chicago&start=2401&limit=100\n",
      "http://www.indeed.com/jobs?q=data+scientist+%2420%2C000&l=Chicago&start=2501&limit=100\n",
      "http://www.indeed.com/jobs?q=data+scientist+%2420%2C000&l=Chicago&start=2601&limit=100\n",
      "http://www.indeed.com/jobs?q=data+scientist+%2420%2C000&l=Chicago&start=2701&limit=100\n",
      "http://www.indeed.com/jobs?q=data+scientist+%2420%2C000&l=Chicago&start=2801&limit=100\n",
      "http://www.indeed.com/jobs?q=data+scientist+%2420%2C000&l=Chicago&start=2901&limit=100\n",
      "http://www.indeed.com/jobs?q=data+scientist+%2420%2C000&l=San+Francisco&start=1&limit=100\n",
      "http://www.indeed.com/jobs?q=data+scientist+%2420%2C000&l=San+Francisco&start=101&limit=100\n",
      "http://www.indeed.com/jobs?q=data+scientist+%2420%2C000&l=San+Francisco&start=201&limit=100\n",
      "http://www.indeed.com/jobs?q=data+scientist+%2420%2C000&l=San+Francisco&start=301&limit=100\n",
      "http://www.indeed.com/jobs?q=data+scientist+%2420%2C000&l=San+Francisco&start=401&limit=100\n",
      "http://www.indeed.com/jobs?q=data+scientist+%2420%2C000&l=San+Francisco&start=501&limit=100\n",
      "http://www.indeed.com/jobs?q=data+scientist+%2420%2C000&l=San+Francisco&start=601&limit=100\n",
      "http://www.indeed.com/jobs?q=data+scientist+%2420%2C000&l=San+Francisco&start=701&limit=100\n",
      "http://www.indeed.com/jobs?q=data+scientist+%2420%2C000&l=San+Francisco&start=801&limit=100\n",
      "http://www.indeed.com/jobs?q=data+scientist+%2420%2C000&l=San+Francisco&start=901&limit=100\n",
      "http://www.indeed.com/jobs?q=data+scientist+%2420%2C000&l=San+Francisco&start=1001&limit=100\n",
      "http://www.indeed.com/jobs?q=data+scientist+%2420%2C000&l=San+Francisco&start=1101&limit=100\n",
      "http://www.indeed.com/jobs?q=data+scientist+%2420%2C000&l=San+Francisco&start=1201&limit=100\n",
      "http://www.indeed.com/jobs?q=data+scientist+%2420%2C000&l=San+Francisco&start=1301&limit=100\n",
      "http://www.indeed.com/jobs?q=data+scientist+%2420%2C000&l=San+Francisco&start=1401&limit=100\n",
      "http://www.indeed.com/jobs?q=data+scientist+%2420%2C000&l=San+Francisco&start=1501&limit=100\n",
      "http://www.indeed.com/jobs?q=data+scientist+%2420%2C000&l=San+Francisco&start=1601&limit=100\n",
      "http://www.indeed.com/jobs?q=data+scientist+%2420%2C000&l=San+Francisco&start=1701&limit=100\n",
      "http://www.indeed.com/jobs?q=data+scientist+%2420%2C000&l=San+Francisco&start=1801&limit=100\n",
      "http://www.indeed.com/jobs?q=data+scientist+%2420%2C000&l=San+Francisco&start=1901&limit=100\n",
      "http://www.indeed.com/jobs?q=data+scientist+%2420%2C000&l=San+Francisco&start=2001&limit=100\n",
      "http://www.indeed.com/jobs?q=data+scientist+%2420%2C000&l=San+Francisco&start=2101&limit=100\n",
      "http://www.indeed.com/jobs?q=data+scientist+%2420%2C000&l=San+Francisco&start=2201&limit=100\n",
      "http://www.indeed.com/jobs?q=data+scientist+%2420%2C000&l=San+Francisco&start=2301&limit=100\n",
      "http://www.indeed.com/jobs?q=data+scientist+%2420%2C000&l=San+Francisco&start=2401&limit=100\n",
      "http://www.indeed.com/jobs?q=data+scientist+%2420%2C000&l=San+Francisco&start=2501&limit=100\n",
      "http://www.indeed.com/jobs?q=data+scientist+%2420%2C000&l=San+Francisco&start=2601&limit=100\n",
      "http://www.indeed.com/jobs?q=data+scientist+%2420%2C000&l=San+Francisco&start=2701&limit=100\n",
      "http://www.indeed.com/jobs?q=data+scientist+%2420%2C000&l=San+Francisco&start=2801&limit=100\n",
      "http://www.indeed.com/jobs?q=data+scientist+%2420%2C000&l=San+Francisco&start=2901&limit=100\n",
      "http://www.indeed.com/jobs?q=data+scientist+%2420%2C000&l=Austin&start=1&limit=100\n",
      "http://www.indeed.com/jobs?q=data+scientist+%2420%2C000&l=Austin&start=101&limit=100\n",
      "http://www.indeed.com/jobs?q=data+scientist+%2420%2C000&l=Austin&start=201&limit=100\n",
      "http://www.indeed.com/jobs?q=data+scientist+%2420%2C000&l=Austin&start=301&limit=100\n",
      "http://www.indeed.com/jobs?q=data+scientist+%2420%2C000&l=Austin&start=401&limit=100\n",
      "http://www.indeed.com/jobs?q=data+scientist+%2420%2C000&l=Austin&start=501&limit=100\n",
      "http://www.indeed.com/jobs?q=data+scientist+%2420%2C000&l=Austin&start=601&limit=100\n",
      "http://www.indeed.com/jobs?q=data+scientist+%2420%2C000&l=Austin&start=701&limit=100\n",
      "http://www.indeed.com/jobs?q=data+scientist+%2420%2C000&l=Austin&start=801&limit=100\n",
      "http://www.indeed.com/jobs?q=data+scientist+%2420%2C000&l=Austin&start=901&limit=100\n",
      "http://www.indeed.com/jobs?q=data+scientist+%2420%2C000&l=Austin&start=1001&limit=100\n",
      "http://www.indeed.com/jobs?q=data+scientist+%2420%2C000&l=Austin&start=1101&limit=100\n",
      "http://www.indeed.com/jobs?q=data+scientist+%2420%2C000&l=Austin&start=1201&limit=100\n",
      "http://www.indeed.com/jobs?q=data+scientist+%2420%2C000&l=Austin&start=1301&limit=100\n",
      "http://www.indeed.com/jobs?q=data+scientist+%2420%2C000&l=Austin&start=1401&limit=100\n",
      "http://www.indeed.com/jobs?q=data+scientist+%2420%2C000&l=Austin&start=1501&limit=100\n",
      "http://www.indeed.com/jobs?q=data+scientist+%2420%2C000&l=Austin&start=1601&limit=100\n",
      "http://www.indeed.com/jobs?q=data+scientist+%2420%2C000&l=Austin&start=1701&limit=100\n",
      "http://www.indeed.com/jobs?q=data+scientist+%2420%2C000&l=Austin&start=1801&limit=100\n",
      "http://www.indeed.com/jobs?q=data+scientist+%2420%2C000&l=Austin&start=1901&limit=100\n",
      "http://www.indeed.com/jobs?q=data+scientist+%2420%2C000&l=Austin&start=2001&limit=100\n",
      "http://www.indeed.com/jobs?q=data+scientist+%2420%2C000&l=Austin&start=2101&limit=100\n",
      "http://www.indeed.com/jobs?q=data+scientist+%2420%2C000&l=Austin&start=2201&limit=100\n",
      "http://www.indeed.com/jobs?q=data+scientist+%2420%2C000&l=Austin&start=2301&limit=100\n",
      "http://www.indeed.com/jobs?q=data+scientist+%2420%2C000&l=Austin&start=2401&limit=100\n",
      "http://www.indeed.com/jobs?q=data+scientist+%2420%2C000&l=Austin&start=2501&limit=100\n",
      "http://www.indeed.com/jobs?q=data+scientist+%2420%2C000&l=Austin&start=2601&limit=100\n",
      "http://www.indeed.com/jobs?q=data+scientist+%2420%2C000&l=Austin&start=2701&limit=100\n",
      "http://www.indeed.com/jobs?q=data+scientist+%2420%2C000&l=Austin&start=2801&limit=100\n",
      "http://www.indeed.com/jobs?q=data+scientist+%2420%2C000&l=Austin&start=2901&limit=100\n",
      "http://www.indeed.com/jobs?q=data+scientist+%2420%2C000&l=Seattle&start=1&limit=100\n",
      "http://www.indeed.com/jobs?q=data+scientist+%2420%2C000&l=Seattle&start=101&limit=100\n",
      "http://www.indeed.com/jobs?q=data+scientist+%2420%2C000&l=Seattle&start=201&limit=100\n",
      "http://www.indeed.com/jobs?q=data+scientist+%2420%2C000&l=Seattle&start=301&limit=100\n",
      "http://www.indeed.com/jobs?q=data+scientist+%2420%2C000&l=Seattle&start=401&limit=100\n",
      "http://www.indeed.com/jobs?q=data+scientist+%2420%2C000&l=Seattle&start=501&limit=100\n",
      "http://www.indeed.com/jobs?q=data+scientist+%2420%2C000&l=Seattle&start=601&limit=100\n",
      "http://www.indeed.com/jobs?q=data+scientist+%2420%2C000&l=Seattle&start=701&limit=100\n",
      "http://www.indeed.com/jobs?q=data+scientist+%2420%2C000&l=Seattle&start=801&limit=100\n",
      "http://www.indeed.com/jobs?q=data+scientist+%2420%2C000&l=Seattle&start=901&limit=100\n",
      "http://www.indeed.com/jobs?q=data+scientist+%2420%2C000&l=Seattle&start=1001&limit=100\n",
      "http://www.indeed.com/jobs?q=data+scientist+%2420%2C000&l=Seattle&start=1101&limit=100\n",
      "http://www.indeed.com/jobs?q=data+scientist+%2420%2C000&l=Seattle&start=1201&limit=100\n",
      "http://www.indeed.com/jobs?q=data+scientist+%2420%2C000&l=Seattle&start=1301&limit=100\n",
      "http://www.indeed.com/jobs?q=data+scientist+%2420%2C000&l=Seattle&start=1401&limit=100\n",
      "http://www.indeed.com/jobs?q=data+scientist+%2420%2C000&l=Seattle&start=1501&limit=100\n",
      "http://www.indeed.com/jobs?q=data+scientist+%2420%2C000&l=Seattle&start=1601&limit=100\n",
      "http://www.indeed.com/jobs?q=data+scientist+%2420%2C000&l=Seattle&start=1701&limit=100\n",
      "http://www.indeed.com/jobs?q=data+scientist+%2420%2C000&l=Seattle&start=1801&limit=100\n",
      "http://www.indeed.com/jobs?q=data+scientist+%2420%2C000&l=Seattle&start=1901&limit=100\n",
      "http://www.indeed.com/jobs?q=data+scientist+%2420%2C000&l=Seattle&start=2001&limit=100\n",
      "http://www.indeed.com/jobs?q=data+scientist+%2420%2C000&l=Seattle&start=2101&limit=100\n",
      "http://www.indeed.com/jobs?q=data+scientist+%2420%2C000&l=Seattle&start=2201&limit=100\n",
      "http://www.indeed.com/jobs?q=data+scientist+%2420%2C000&l=Seattle&start=2301&limit=100\n",
      "http://www.indeed.com/jobs?q=data+scientist+%2420%2C000&l=Seattle&start=2401&limit=100\n",
      "http://www.indeed.com/jobs?q=data+scientist+%2420%2C000&l=Seattle&start=2501&limit=100\n",
      "http://www.indeed.com/jobs?q=data+scientist+%2420%2C000&l=Seattle&start=2601&limit=100\n",
      "http://www.indeed.com/jobs?q=data+scientist+%2420%2C000&l=Seattle&start=2701&limit=100\n",
      "http://www.indeed.com/jobs?q=data+scientist+%2420%2C000&l=Seattle&start=2801&limit=100\n",
      "http://www.indeed.com/jobs?q=data+scientist+%2420%2C000&l=Seattle&start=2901&limit=100\n",
      "http://www.indeed.com/jobs?q=data+scientist+%2420%2C000&l=Los+Angeles&start=1&limit=100\n",
      "http://www.indeed.com/jobs?q=data+scientist+%2420%2C000&l=Los+Angeles&start=101&limit=100\n",
      "http://www.indeed.com/jobs?q=data+scientist+%2420%2C000&l=Los+Angeles&start=201&limit=100\n",
      "http://www.indeed.com/jobs?q=data+scientist+%2420%2C000&l=Los+Angeles&start=301&limit=100\n",
      "http://www.indeed.com/jobs?q=data+scientist+%2420%2C000&l=Los+Angeles&start=401&limit=100\n",
      "http://www.indeed.com/jobs?q=data+scientist+%2420%2C000&l=Los+Angeles&start=501&limit=100\n",
      "http://www.indeed.com/jobs?q=data+scientist+%2420%2C000&l=Los+Angeles&start=601&limit=100\n",
      "http://www.indeed.com/jobs?q=data+scientist+%2420%2C000&l=Los+Angeles&start=701&limit=100\n",
      "http://www.indeed.com/jobs?q=data+scientist+%2420%2C000&l=Los+Angeles&start=801&limit=100\n",
      "http://www.indeed.com/jobs?q=data+scientist+%2420%2C000&l=Los+Angeles&start=901&limit=100\n",
      "http://www.indeed.com/jobs?q=data+scientist+%2420%2C000&l=Los+Angeles&start=1001&limit=100\n",
      "http://www.indeed.com/jobs?q=data+scientist+%2420%2C000&l=Los+Angeles&start=1101&limit=100\n",
      "http://www.indeed.com/jobs?q=data+scientist+%2420%2C000&l=Los+Angeles&start=1201&limit=100\n",
      "http://www.indeed.com/jobs?q=data+scientist+%2420%2C000&l=Los+Angeles&start=1301&limit=100\n",
      "http://www.indeed.com/jobs?q=data+scientist+%2420%2C000&l=Los+Angeles&start=1401&limit=100\n",
      "http://www.indeed.com/jobs?q=data+scientist+%2420%2C000&l=Los+Angeles&start=1501&limit=100\n",
      "http://www.indeed.com/jobs?q=data+scientist+%2420%2C000&l=Los+Angeles&start=1601&limit=100\n",
      "http://www.indeed.com/jobs?q=data+scientist+%2420%2C000&l=Los+Angeles&start=1701&limit=100\n",
      "http://www.indeed.com/jobs?q=data+scientist+%2420%2C000&l=Los+Angeles&start=1801&limit=100\n",
      "http://www.indeed.com/jobs?q=data+scientist+%2420%2C000&l=Los+Angeles&start=1901&limit=100\n",
      "http://www.indeed.com/jobs?q=data+scientist+%2420%2C000&l=Los+Angeles&start=2001&limit=100\n",
      "http://www.indeed.com/jobs?q=data+scientist+%2420%2C000&l=Los+Angeles&start=2101&limit=100\n",
      "http://www.indeed.com/jobs?q=data+scientist+%2420%2C000&l=Los+Angeles&start=2201&limit=100\n",
      "http://www.indeed.com/jobs?q=data+scientist+%2420%2C000&l=Los+Angeles&start=2301&limit=100\n",
      "http://www.indeed.com/jobs?q=data+scientist+%2420%2C000&l=Los+Angeles&start=2401&limit=100\n",
      "http://www.indeed.com/jobs?q=data+scientist+%2420%2C000&l=Los+Angeles&start=2501&limit=100\n",
      "http://www.indeed.com/jobs?q=data+scientist+%2420%2C000&l=Los+Angeles&start=2601&limit=100\n",
      "http://www.indeed.com/jobs?q=data+scientist+%2420%2C000&l=Los+Angeles&start=2701&limit=100\n",
      "http://www.indeed.com/jobs?q=data+scientist+%2420%2C000&l=Los+Angeles&start=2801&limit=100\n",
      "http://www.indeed.com/jobs?q=data+scientist+%2420%2C000&l=Los+Angeles&start=2901&limit=100\n",
      "http://www.indeed.com/jobs?q=data+scientist+%2420%2C000&l=Philadelphia&start=1&limit=100\n",
      "http://www.indeed.com/jobs?q=data+scientist+%2420%2C000&l=Philadelphia&start=101&limit=100\n",
      "http://www.indeed.com/jobs?q=data+scientist+%2420%2C000&l=Philadelphia&start=201&limit=100\n",
      "http://www.indeed.com/jobs?q=data+scientist+%2420%2C000&l=Philadelphia&start=301&limit=100\n",
      "http://www.indeed.com/jobs?q=data+scientist+%2420%2C000&l=Philadelphia&start=401&limit=100\n",
      "http://www.indeed.com/jobs?q=data+scientist+%2420%2C000&l=Philadelphia&start=501&limit=100\n",
      "http://www.indeed.com/jobs?q=data+scientist+%2420%2C000&l=Philadelphia&start=601&limit=100\n",
      "http://www.indeed.com/jobs?q=data+scientist+%2420%2C000&l=Philadelphia&start=701&limit=100\n",
      "http://www.indeed.com/jobs?q=data+scientist+%2420%2C000&l=Philadelphia&start=801&limit=100\n",
      "http://www.indeed.com/jobs?q=data+scientist+%2420%2C000&l=Philadelphia&start=901&limit=100\n",
      "http://www.indeed.com/jobs?q=data+scientist+%2420%2C000&l=Philadelphia&start=1001&limit=100\n",
      "http://www.indeed.com/jobs?q=data+scientist+%2420%2C000&l=Philadelphia&start=1101&limit=100\n",
      "http://www.indeed.com/jobs?q=data+scientist+%2420%2C000&l=Philadelphia&start=1201&limit=100\n",
      "http://www.indeed.com/jobs?q=data+scientist+%2420%2C000&l=Philadelphia&start=1301&limit=100\n",
      "http://www.indeed.com/jobs?q=data+scientist+%2420%2C000&l=Philadelphia&start=1401&limit=100\n",
      "http://www.indeed.com/jobs?q=data+scientist+%2420%2C000&l=Philadelphia&start=1501&limit=100\n",
      "http://www.indeed.com/jobs?q=data+scientist+%2420%2C000&l=Philadelphia&start=1601&limit=100\n",
      "http://www.indeed.com/jobs?q=data+scientist+%2420%2C000&l=Philadelphia&start=1701&limit=100\n",
      "http://www.indeed.com/jobs?q=data+scientist+%2420%2C000&l=Philadelphia&start=1801&limit=100\n",
      "http://www.indeed.com/jobs?q=data+scientist+%2420%2C000&l=Philadelphia&start=1901&limit=100\n",
      "http://www.indeed.com/jobs?q=data+scientist+%2420%2C000&l=Philadelphia&start=2001&limit=100\n",
      "http://www.indeed.com/jobs?q=data+scientist+%2420%2C000&l=Philadelphia&start=2101&limit=100\n",
      "http://www.indeed.com/jobs?q=data+scientist+%2420%2C000&l=Philadelphia&start=2201&limit=100\n",
      "http://www.indeed.com/jobs?q=data+scientist+%2420%2C000&l=Philadelphia&start=2301&limit=100\n",
      "http://www.indeed.com/jobs?q=data+scientist+%2420%2C000&l=Philadelphia&start=2401&limit=100\n",
      "http://www.indeed.com/jobs?q=data+scientist+%2420%2C000&l=Philadelphia&start=2501&limit=100\n",
      "http://www.indeed.com/jobs?q=data+scientist+%2420%2C000&l=Philadelphia&start=2601&limit=100\n",
      "http://www.indeed.com/jobs?q=data+scientist+%2420%2C000&l=Philadelphia&start=2701&limit=100\n",
      "http://www.indeed.com/jobs?q=data+scientist+%2420%2C000&l=Philadelphia&start=2801&limit=100\n",
      "http://www.indeed.com/jobs?q=data+scientist+%2420%2C000&l=Philadelphia&start=2901&limit=100\n",
      "http://www.indeed.com/jobs?q=data+scientist+%2420%2C000&l=Atlanta&start=1&limit=100\n",
      "http://www.indeed.com/jobs?q=data+scientist+%2420%2C000&l=Atlanta&start=101&limit=100\n",
      "http://www.indeed.com/jobs?q=data+scientist+%2420%2C000&l=Atlanta&start=201&limit=100\n",
      "http://www.indeed.com/jobs?q=data+scientist+%2420%2C000&l=Atlanta&start=301&limit=100\n",
      "http://www.indeed.com/jobs?q=data+scientist+%2420%2C000&l=Atlanta&start=401&limit=100\n",
      "http://www.indeed.com/jobs?q=data+scientist+%2420%2C000&l=Atlanta&start=501&limit=100\n",
      "http://www.indeed.com/jobs?q=data+scientist+%2420%2C000&l=Atlanta&start=601&limit=100\n",
      "http://www.indeed.com/jobs?q=data+scientist+%2420%2C000&l=Atlanta&start=701&limit=100\n",
      "http://www.indeed.com/jobs?q=data+scientist+%2420%2C000&l=Atlanta&start=801&limit=100\n",
      "http://www.indeed.com/jobs?q=data+scientist+%2420%2C000&l=Atlanta&start=901&limit=100\n",
      "http://www.indeed.com/jobs?q=data+scientist+%2420%2C000&l=Atlanta&start=1001&limit=100\n",
      "http://www.indeed.com/jobs?q=data+scientist+%2420%2C000&l=Atlanta&start=1101&limit=100\n",
      "http://www.indeed.com/jobs?q=data+scientist+%2420%2C000&l=Atlanta&start=1201&limit=100\n",
      "http://www.indeed.com/jobs?q=data+scientist+%2420%2C000&l=Atlanta&start=1301&limit=100\n",
      "http://www.indeed.com/jobs?q=data+scientist+%2420%2C000&l=Atlanta&start=1401&limit=100\n",
      "http://www.indeed.com/jobs?q=data+scientist+%2420%2C000&l=Atlanta&start=1501&limit=100\n",
      "http://www.indeed.com/jobs?q=data+scientist+%2420%2C000&l=Atlanta&start=1601&limit=100\n",
      "http://www.indeed.com/jobs?q=data+scientist+%2420%2C000&l=Atlanta&start=1701&limit=100\n",
      "http://www.indeed.com/jobs?q=data+scientist+%2420%2C000&l=Atlanta&start=1801&limit=100\n",
      "http://www.indeed.com/jobs?q=data+scientist+%2420%2C000&l=Atlanta&start=1901&limit=100\n",
      "http://www.indeed.com/jobs?q=data+scientist+%2420%2C000&l=Atlanta&start=2001&limit=100\n",
      "http://www.indeed.com/jobs?q=data+scientist+%2420%2C000&l=Atlanta&start=2101&limit=100\n",
      "http://www.indeed.com/jobs?q=data+scientist+%2420%2C000&l=Atlanta&start=2201&limit=100\n",
      "http://www.indeed.com/jobs?q=data+scientist+%2420%2C000&l=Atlanta&start=2301&limit=100\n",
      "http://www.indeed.com/jobs?q=data+scientist+%2420%2C000&l=Atlanta&start=2401&limit=100\n",
      "http://www.indeed.com/jobs?q=data+scientist+%2420%2C000&l=Atlanta&start=2501&limit=100\n",
      "http://www.indeed.com/jobs?q=data+scientist+%2420%2C000&l=Atlanta&start=2601&limit=100\n",
      "http://www.indeed.com/jobs?q=data+scientist+%2420%2C000&l=Atlanta&start=2701&limit=100\n",
      "http://www.indeed.com/jobs?q=data+scientist+%2420%2C000&l=Atlanta&start=2801&limit=100\n",
      "http://www.indeed.com/jobs?q=data+scientist+%2420%2C000&l=Atlanta&start=2901&limit=100\n",
      "http://www.indeed.com/jobs?q=data+scientist+%2420%2C000&l=Dallas&start=1&limit=100\n",
      "http://www.indeed.com/jobs?q=data+scientist+%2420%2C000&l=Dallas&start=101&limit=100\n",
      "http://www.indeed.com/jobs?q=data+scientist+%2420%2C000&l=Dallas&start=201&limit=100\n",
      "http://www.indeed.com/jobs?q=data+scientist+%2420%2C000&l=Dallas&start=301&limit=100\n",
      "http://www.indeed.com/jobs?q=data+scientist+%2420%2C000&l=Dallas&start=401&limit=100\n",
      "http://www.indeed.com/jobs?q=data+scientist+%2420%2C000&l=Dallas&start=501&limit=100\n",
      "http://www.indeed.com/jobs?q=data+scientist+%2420%2C000&l=Dallas&start=601&limit=100\n",
      "http://www.indeed.com/jobs?q=data+scientist+%2420%2C000&l=Dallas&start=701&limit=100\n",
      "http://www.indeed.com/jobs?q=data+scientist+%2420%2C000&l=Dallas&start=801&limit=100\n",
      "http://www.indeed.com/jobs?q=data+scientist+%2420%2C000&l=Dallas&start=901&limit=100\n",
      "http://www.indeed.com/jobs?q=data+scientist+%2420%2C000&l=Dallas&start=1001&limit=100\n",
      "http://www.indeed.com/jobs?q=data+scientist+%2420%2C000&l=Dallas&start=1101&limit=100\n",
      "http://www.indeed.com/jobs?q=data+scientist+%2420%2C000&l=Dallas&start=1201&limit=100\n",
      "http://www.indeed.com/jobs?q=data+scientist+%2420%2C000&l=Dallas&start=1301&limit=100\n",
      "http://www.indeed.com/jobs?q=data+scientist+%2420%2C000&l=Dallas&start=1401&limit=100\n",
      "http://www.indeed.com/jobs?q=data+scientist+%2420%2C000&l=Dallas&start=1501&limit=100\n",
      "http://www.indeed.com/jobs?q=data+scientist+%2420%2C000&l=Dallas&start=1601&limit=100\n",
      "http://www.indeed.com/jobs?q=data+scientist+%2420%2C000&l=Dallas&start=1701&limit=100\n",
      "http://www.indeed.com/jobs?q=data+scientist+%2420%2C000&l=Dallas&start=1801&limit=100\n",
      "http://www.indeed.com/jobs?q=data+scientist+%2420%2C000&l=Dallas&start=1901&limit=100\n",
      "http://www.indeed.com/jobs?q=data+scientist+%2420%2C000&l=Dallas&start=2001&limit=100\n",
      "http://www.indeed.com/jobs?q=data+scientist+%2420%2C000&l=Dallas&start=2101&limit=100\n",
      "http://www.indeed.com/jobs?q=data+scientist+%2420%2C000&l=Dallas&start=2201&limit=100\n",
      "http://www.indeed.com/jobs?q=data+scientist+%2420%2C000&l=Dallas&start=2301&limit=100\n",
      "http://www.indeed.com/jobs?q=data+scientist+%2420%2C000&l=Dallas&start=2401&limit=100\n",
      "http://www.indeed.com/jobs?q=data+scientist+%2420%2C000&l=Dallas&start=2501&limit=100\n",
      "http://www.indeed.com/jobs?q=data+scientist+%2420%2C000&l=Dallas&start=2601&limit=100\n",
      "http://www.indeed.com/jobs?q=data+scientist+%2420%2C000&l=Dallas&start=2701&limit=100\n",
      "http://www.indeed.com/jobs?q=data+scientist+%2420%2C000&l=Dallas&start=2801&limit=100\n",
      "http://www.indeed.com/jobs?q=data+scientist+%2420%2C000&l=Dallas&start=2901&limit=100\n",
      "http://www.indeed.com/jobs?q=data+scientist+%2420%2C000&l=Pittsburgh&start=1&limit=100\n",
      "http://www.indeed.com/jobs?q=data+scientist+%2420%2C000&l=Pittsburgh&start=101&limit=100\n",
      "http://www.indeed.com/jobs?q=data+scientist+%2420%2C000&l=Pittsburgh&start=201&limit=100\n",
      "http://www.indeed.com/jobs?q=data+scientist+%2420%2C000&l=Pittsburgh&start=301&limit=100\n",
      "http://www.indeed.com/jobs?q=data+scientist+%2420%2C000&l=Pittsburgh&start=401&limit=100\n",
      "http://www.indeed.com/jobs?q=data+scientist+%2420%2C000&l=Pittsburgh&start=501&limit=100\n",
      "http://www.indeed.com/jobs?q=data+scientist+%2420%2C000&l=Pittsburgh&start=601&limit=100\n",
      "http://www.indeed.com/jobs?q=data+scientist+%2420%2C000&l=Pittsburgh&start=701&limit=100\n",
      "http://www.indeed.com/jobs?q=data+scientist+%2420%2C000&l=Pittsburgh&start=801&limit=100\n",
      "http://www.indeed.com/jobs?q=data+scientist+%2420%2C000&l=Pittsburgh&start=901&limit=100\n",
      "http://www.indeed.com/jobs?q=data+scientist+%2420%2C000&l=Pittsburgh&start=1001&limit=100\n",
      "http://www.indeed.com/jobs?q=data+scientist+%2420%2C000&l=Pittsburgh&start=1101&limit=100\n",
      "http://www.indeed.com/jobs?q=data+scientist+%2420%2C000&l=Pittsburgh&start=1201&limit=100\n",
      "http://www.indeed.com/jobs?q=data+scientist+%2420%2C000&l=Pittsburgh&start=1301&limit=100\n",
      "http://www.indeed.com/jobs?q=data+scientist+%2420%2C000&l=Pittsburgh&start=1401&limit=100\n",
      "http://www.indeed.com/jobs?q=data+scientist+%2420%2C000&l=Pittsburgh&start=1501&limit=100\n",
      "http://www.indeed.com/jobs?q=data+scientist+%2420%2C000&l=Pittsburgh&start=1601&limit=100\n",
      "http://www.indeed.com/jobs?q=data+scientist+%2420%2C000&l=Pittsburgh&start=1701&limit=100\n",
      "http://www.indeed.com/jobs?q=data+scientist+%2420%2C000&l=Pittsburgh&start=1801&limit=100\n",
      "http://www.indeed.com/jobs?q=data+scientist+%2420%2C000&l=Pittsburgh&start=1901&limit=100\n",
      "http://www.indeed.com/jobs?q=data+scientist+%2420%2C000&l=Pittsburgh&start=2001&limit=100\n",
      "http://www.indeed.com/jobs?q=data+scientist+%2420%2C000&l=Pittsburgh&start=2101&limit=100\n",
      "http://www.indeed.com/jobs?q=data+scientist+%2420%2C000&l=Pittsburgh&start=2201&limit=100\n",
      "http://www.indeed.com/jobs?q=data+scientist+%2420%2C000&l=Pittsburgh&start=2301&limit=100\n",
      "http://www.indeed.com/jobs?q=data+scientist+%2420%2C000&l=Pittsburgh&start=2401&limit=100\n",
      "http://www.indeed.com/jobs?q=data+scientist+%2420%2C000&l=Pittsburgh&start=2501&limit=100\n",
      "http://www.indeed.com/jobs?q=data+scientist+%2420%2C000&l=Pittsburgh&start=2601&limit=100\n",
      "http://www.indeed.com/jobs?q=data+scientist+%2420%2C000&l=Pittsburgh&start=2701&limit=100\n",
      "http://www.indeed.com/jobs?q=data+scientist+%2420%2C000&l=Pittsburgh&start=2801&limit=100\n",
      "http://www.indeed.com/jobs?q=data+scientist+%2420%2C000&l=Pittsburgh&start=2901&limit=100\n",
      "http://www.indeed.com/jobs?q=data+scientist+%2420%2C000&l=Portland&start=1&limit=100\n",
      "http://www.indeed.com/jobs?q=data+scientist+%2420%2C000&l=Portland&start=101&limit=100\n",
      "http://www.indeed.com/jobs?q=data+scientist+%2420%2C000&l=Portland&start=201&limit=100\n",
      "http://www.indeed.com/jobs?q=data+scientist+%2420%2C000&l=Portland&start=301&limit=100\n",
      "http://www.indeed.com/jobs?q=data+scientist+%2420%2C000&l=Portland&start=401&limit=100\n",
      "http://www.indeed.com/jobs?q=data+scientist+%2420%2C000&l=Portland&start=501&limit=100\n",
      "http://www.indeed.com/jobs?q=data+scientist+%2420%2C000&l=Portland&start=601&limit=100\n",
      "http://www.indeed.com/jobs?q=data+scientist+%2420%2C000&l=Portland&start=701&limit=100\n",
      "http://www.indeed.com/jobs?q=data+scientist+%2420%2C000&l=Portland&start=801&limit=100\n",
      "http://www.indeed.com/jobs?q=data+scientist+%2420%2C000&l=Portland&start=901&limit=100\n",
      "http://www.indeed.com/jobs?q=data+scientist+%2420%2C000&l=Portland&start=1001&limit=100\n",
      "http://www.indeed.com/jobs?q=data+scientist+%2420%2C000&l=Portland&start=1101&limit=100\n",
      "http://www.indeed.com/jobs?q=data+scientist+%2420%2C000&l=Portland&start=1201&limit=100\n",
      "http://www.indeed.com/jobs?q=data+scientist+%2420%2C000&l=Portland&start=1301&limit=100\n",
      "http://www.indeed.com/jobs?q=data+scientist+%2420%2C000&l=Portland&start=1401&limit=100\n",
      "http://www.indeed.com/jobs?q=data+scientist+%2420%2C000&l=Portland&start=1501&limit=100\n",
      "http://www.indeed.com/jobs?q=data+scientist+%2420%2C000&l=Portland&start=1601&limit=100\n",
      "http://www.indeed.com/jobs?q=data+scientist+%2420%2C000&l=Portland&start=1701&limit=100\n",
      "http://www.indeed.com/jobs?q=data+scientist+%2420%2C000&l=Portland&start=1801&limit=100\n",
      "http://www.indeed.com/jobs?q=data+scientist+%2420%2C000&l=Portland&start=1901&limit=100\n",
      "http://www.indeed.com/jobs?q=data+scientist+%2420%2C000&l=Portland&start=2001&limit=100\n",
      "http://www.indeed.com/jobs?q=data+scientist+%2420%2C000&l=Portland&start=2101&limit=100\n",
      "http://www.indeed.com/jobs?q=data+scientist+%2420%2C000&l=Portland&start=2201&limit=100\n",
      "http://www.indeed.com/jobs?q=data+scientist+%2420%2C000&l=Portland&start=2301&limit=100\n",
      "http://www.indeed.com/jobs?q=data+scientist+%2420%2C000&l=Portland&start=2401&limit=100\n",
      "http://www.indeed.com/jobs?q=data+scientist+%2420%2C000&l=Portland&start=2501&limit=100\n",
      "http://www.indeed.com/jobs?q=data+scientist+%2420%2C000&l=Portland&start=2601&limit=100\n",
      "http://www.indeed.com/jobs?q=data+scientist+%2420%2C000&l=Portland&start=2701&limit=100\n",
      "http://www.indeed.com/jobs?q=data+scientist+%2420%2C000&l=Portland&start=2801&limit=100\n",
      "http://www.indeed.com/jobs?q=data+scientist+%2420%2C000&l=Portland&start=2901&limit=100\n",
      "http://www.indeed.com/jobs?q=data+scientist+%2420%2C000&l=Phoenix&start=1&limit=100\n",
      "http://www.indeed.com/jobs?q=data+scientist+%2420%2C000&l=Phoenix&start=101&limit=100\n",
      "http://www.indeed.com/jobs?q=data+scientist+%2420%2C000&l=Phoenix&start=201&limit=100\n",
      "http://www.indeed.com/jobs?q=data+scientist+%2420%2C000&l=Phoenix&start=301&limit=100\n",
      "http://www.indeed.com/jobs?q=data+scientist+%2420%2C000&l=Phoenix&start=401&limit=100\n",
      "http://www.indeed.com/jobs?q=data+scientist+%2420%2C000&l=Phoenix&start=501&limit=100\n",
      "http://www.indeed.com/jobs?q=data+scientist+%2420%2C000&l=Phoenix&start=601&limit=100\n",
      "http://www.indeed.com/jobs?q=data+scientist+%2420%2C000&l=Phoenix&start=701&limit=100\n",
      "http://www.indeed.com/jobs?q=data+scientist+%2420%2C000&l=Phoenix&start=801&limit=100\n",
      "http://www.indeed.com/jobs?q=data+scientist+%2420%2C000&l=Phoenix&start=901&limit=100\n",
      "http://www.indeed.com/jobs?q=data+scientist+%2420%2C000&l=Phoenix&start=1001&limit=100\n",
      "http://www.indeed.com/jobs?q=data+scientist+%2420%2C000&l=Phoenix&start=1101&limit=100\n",
      "http://www.indeed.com/jobs?q=data+scientist+%2420%2C000&l=Phoenix&start=1201&limit=100\n",
      "http://www.indeed.com/jobs?q=data+scientist+%2420%2C000&l=Phoenix&start=1301&limit=100\n",
      "http://www.indeed.com/jobs?q=data+scientist+%2420%2C000&l=Phoenix&start=1401&limit=100\n",
      "http://www.indeed.com/jobs?q=data+scientist+%2420%2C000&l=Phoenix&start=1501&limit=100\n",
      "http://www.indeed.com/jobs?q=data+scientist+%2420%2C000&l=Phoenix&start=1601&limit=100\n",
      "http://www.indeed.com/jobs?q=data+scientist+%2420%2C000&l=Phoenix&start=1701&limit=100\n",
      "http://www.indeed.com/jobs?q=data+scientist+%2420%2C000&l=Phoenix&start=1801&limit=100\n",
      "http://www.indeed.com/jobs?q=data+scientist+%2420%2C000&l=Phoenix&start=1901&limit=100\n",
      "http://www.indeed.com/jobs?q=data+scientist+%2420%2C000&l=Phoenix&start=2001&limit=100\n",
      "http://www.indeed.com/jobs?q=data+scientist+%2420%2C000&l=Phoenix&start=2101&limit=100\n",
      "http://www.indeed.com/jobs?q=data+scientist+%2420%2C000&l=Phoenix&start=2201&limit=100\n",
      "http://www.indeed.com/jobs?q=data+scientist+%2420%2C000&l=Phoenix&start=2301&limit=100\n",
      "http://www.indeed.com/jobs?q=data+scientist+%2420%2C000&l=Phoenix&start=2401&limit=100\n",
      "http://www.indeed.com/jobs?q=data+scientist+%2420%2C000&l=Phoenix&start=2501&limit=100\n",
      "http://www.indeed.com/jobs?q=data+scientist+%2420%2C000&l=Phoenix&start=2601&limit=100\n",
      "http://www.indeed.com/jobs?q=data+scientist+%2420%2C000&l=Phoenix&start=2701&limit=100\n",
      "http://www.indeed.com/jobs?q=data+scientist+%2420%2C000&l=Phoenix&start=2801&limit=100\n",
      "http://www.indeed.com/jobs?q=data+scientist+%2420%2C000&l=Phoenix&start=2901&limit=100\n",
      "http://www.indeed.com/jobs?q=data+scientist+%2420%2C000&l=Denver&start=1&limit=100\n",
      "http://www.indeed.com/jobs?q=data+scientist+%2420%2C000&l=Denver&start=101&limit=100\n",
      "http://www.indeed.com/jobs?q=data+scientist+%2420%2C000&l=Denver&start=201&limit=100\n",
      "http://www.indeed.com/jobs?q=data+scientist+%2420%2C000&l=Denver&start=301&limit=100\n",
      "http://www.indeed.com/jobs?q=data+scientist+%2420%2C000&l=Denver&start=401&limit=100\n",
      "http://www.indeed.com/jobs?q=data+scientist+%2420%2C000&l=Denver&start=501&limit=100\n",
      "http://www.indeed.com/jobs?q=data+scientist+%2420%2C000&l=Denver&start=601&limit=100\n",
      "http://www.indeed.com/jobs?q=data+scientist+%2420%2C000&l=Denver&start=701&limit=100\n",
      "http://www.indeed.com/jobs?q=data+scientist+%2420%2C000&l=Denver&start=801&limit=100\n",
      "http://www.indeed.com/jobs?q=data+scientist+%2420%2C000&l=Denver&start=901&limit=100\n",
      "http://www.indeed.com/jobs?q=data+scientist+%2420%2C000&l=Denver&start=1001&limit=100\n",
      "http://www.indeed.com/jobs?q=data+scientist+%2420%2C000&l=Denver&start=1101&limit=100\n",
      "http://www.indeed.com/jobs?q=data+scientist+%2420%2C000&l=Denver&start=1201&limit=100\n",
      "http://www.indeed.com/jobs?q=data+scientist+%2420%2C000&l=Denver&start=1301&limit=100\n",
      "http://www.indeed.com/jobs?q=data+scientist+%2420%2C000&l=Denver&start=1401&limit=100\n",
      "http://www.indeed.com/jobs?q=data+scientist+%2420%2C000&l=Denver&start=1501&limit=100\n",
      "http://www.indeed.com/jobs?q=data+scientist+%2420%2C000&l=Denver&start=1601&limit=100\n",
      "http://www.indeed.com/jobs?q=data+scientist+%2420%2C000&l=Denver&start=1701&limit=100\n",
      "http://www.indeed.com/jobs?q=data+scientist+%2420%2C000&l=Denver&start=1801&limit=100\n",
      "http://www.indeed.com/jobs?q=data+scientist+%2420%2C000&l=Denver&start=1901&limit=100\n",
      "http://www.indeed.com/jobs?q=data+scientist+%2420%2C000&l=Denver&start=2001&limit=100\n",
      "http://www.indeed.com/jobs?q=data+scientist+%2420%2C000&l=Denver&start=2101&limit=100\n",
      "http://www.indeed.com/jobs?q=data+scientist+%2420%2C000&l=Denver&start=2201&limit=100\n",
      "http://www.indeed.com/jobs?q=data+scientist+%2420%2C000&l=Denver&start=2301&limit=100\n",
      "http://www.indeed.com/jobs?q=data+scientist+%2420%2C000&l=Denver&start=2401&limit=100\n",
      "http://www.indeed.com/jobs?q=data+scientist+%2420%2C000&l=Denver&start=2501&limit=100\n",
      "http://www.indeed.com/jobs?q=data+scientist+%2420%2C000&l=Denver&start=2601&limit=100\n",
      "http://www.indeed.com/jobs?q=data+scientist+%2420%2C000&l=Denver&start=2701&limit=100\n",
      "http://www.indeed.com/jobs?q=data+scientist+%2420%2C000&l=Denver&start=2801&limit=100\n",
      "http://www.indeed.com/jobs?q=data+scientist+%2420%2C000&l=Denver&start=2901&limit=100\n",
      "http://www.indeed.com/jobs?q=data+scientist+%2420%2C000&l=Houston&start=1&limit=100\n",
      "http://www.indeed.com/jobs?q=data+scientist+%2420%2C000&l=Houston&start=101&limit=100\n",
      "http://www.indeed.com/jobs?q=data+scientist+%2420%2C000&l=Houston&start=201&limit=100\n",
      "http://www.indeed.com/jobs?q=data+scientist+%2420%2C000&l=Houston&start=301&limit=100\n",
      "http://www.indeed.com/jobs?q=data+scientist+%2420%2C000&l=Houston&start=401&limit=100\n",
      "http://www.indeed.com/jobs?q=data+scientist+%2420%2C000&l=Houston&start=501&limit=100\n",
      "http://www.indeed.com/jobs?q=data+scientist+%2420%2C000&l=Houston&start=601&limit=100\n",
      "http://www.indeed.com/jobs?q=data+scientist+%2420%2C000&l=Houston&start=701&limit=100\n",
      "http://www.indeed.com/jobs?q=data+scientist+%2420%2C000&l=Houston&start=801&limit=100\n",
      "http://www.indeed.com/jobs?q=data+scientist+%2420%2C000&l=Houston&start=901&limit=100\n",
      "http://www.indeed.com/jobs?q=data+scientist+%2420%2C000&l=Houston&start=1001&limit=100\n",
      "http://www.indeed.com/jobs?q=data+scientist+%2420%2C000&l=Houston&start=1101&limit=100\n",
      "http://www.indeed.com/jobs?q=data+scientist+%2420%2C000&l=Houston&start=1201&limit=100\n",
      "http://www.indeed.com/jobs?q=data+scientist+%2420%2C000&l=Houston&start=1301&limit=100\n",
      "http://www.indeed.com/jobs?q=data+scientist+%2420%2C000&l=Houston&start=1401&limit=100\n",
      "http://www.indeed.com/jobs?q=data+scientist+%2420%2C000&l=Houston&start=1501&limit=100\n",
      "http://www.indeed.com/jobs?q=data+scientist+%2420%2C000&l=Houston&start=1601&limit=100\n",
      "http://www.indeed.com/jobs?q=data+scientist+%2420%2C000&l=Houston&start=1701&limit=100\n",
      "http://www.indeed.com/jobs?q=data+scientist+%2420%2C000&l=Houston&start=1801&limit=100\n",
      "http://www.indeed.com/jobs?q=data+scientist+%2420%2C000&l=Houston&start=1901&limit=100\n",
      "http://www.indeed.com/jobs?q=data+scientist+%2420%2C000&l=Houston&start=2001&limit=100\n",
      "http://www.indeed.com/jobs?q=data+scientist+%2420%2C000&l=Houston&start=2101&limit=100\n",
      "http://www.indeed.com/jobs?q=data+scientist+%2420%2C000&l=Houston&start=2201&limit=100\n",
      "http://www.indeed.com/jobs?q=data+scientist+%2420%2C000&l=Houston&start=2301&limit=100\n",
      "http://www.indeed.com/jobs?q=data+scientist+%2420%2C000&l=Houston&start=2401&limit=100\n",
      "http://www.indeed.com/jobs?q=data+scientist+%2420%2C000&l=Houston&start=2501&limit=100\n",
      "http://www.indeed.com/jobs?q=data+scientist+%2420%2C000&l=Houston&start=2601&limit=100\n",
      "http://www.indeed.com/jobs?q=data+scientist+%2420%2C000&l=Houston&start=2701&limit=100\n",
      "http://www.indeed.com/jobs?q=data+scientist+%2420%2C000&l=Houston&start=2801&limit=100\n",
      "http://www.indeed.com/jobs?q=data+scientist+%2420%2C000&l=Houston&start=2901&limit=100\n",
      "http://www.indeed.com/jobs?q=data+scientist+%2420%2C000&l=Miami&start=1&limit=100\n",
      "http://www.indeed.com/jobs?q=data+scientist+%2420%2C000&l=Miami&start=101&limit=100\n",
      "http://www.indeed.com/jobs?q=data+scientist+%2420%2C000&l=Miami&start=201&limit=100\n",
      "http://www.indeed.com/jobs?q=data+scientist+%2420%2C000&l=Miami&start=301&limit=100\n",
      "http://www.indeed.com/jobs?q=data+scientist+%2420%2C000&l=Miami&start=401&limit=100\n",
      "http://www.indeed.com/jobs?q=data+scientist+%2420%2C000&l=Miami&start=501&limit=100\n",
      "http://www.indeed.com/jobs?q=data+scientist+%2420%2C000&l=Miami&start=601&limit=100\n",
      "http://www.indeed.com/jobs?q=data+scientist+%2420%2C000&l=Miami&start=701&limit=100\n",
      "http://www.indeed.com/jobs?q=data+scientist+%2420%2C000&l=Miami&start=801&limit=100\n",
      "http://www.indeed.com/jobs?q=data+scientist+%2420%2C000&l=Miami&start=901&limit=100\n",
      "http://www.indeed.com/jobs?q=data+scientist+%2420%2C000&l=Miami&start=1001&limit=100\n",
      "http://www.indeed.com/jobs?q=data+scientist+%2420%2C000&l=Miami&start=1101&limit=100\n",
      "http://www.indeed.com/jobs?q=data+scientist+%2420%2C000&l=Miami&start=1201&limit=100\n",
      "http://www.indeed.com/jobs?q=data+scientist+%2420%2C000&l=Miami&start=1301&limit=100\n",
      "http://www.indeed.com/jobs?q=data+scientist+%2420%2C000&l=Miami&start=1401&limit=100\n",
      "http://www.indeed.com/jobs?q=data+scientist+%2420%2C000&l=Miami&start=1501&limit=100\n",
      "http://www.indeed.com/jobs?q=data+scientist+%2420%2C000&l=Miami&start=1601&limit=100\n",
      "http://www.indeed.com/jobs?q=data+scientist+%2420%2C000&l=Miami&start=1701&limit=100\n",
      "http://www.indeed.com/jobs?q=data+scientist+%2420%2C000&l=Miami&start=1801&limit=100\n",
      "http://www.indeed.com/jobs?q=data+scientist+%2420%2C000&l=Miami&start=1901&limit=100\n",
      "http://www.indeed.com/jobs?q=data+scientist+%2420%2C000&l=Miami&start=2001&limit=100\n",
      "http://www.indeed.com/jobs?q=data+scientist+%2420%2C000&l=Miami&start=2101&limit=100\n",
      "http://www.indeed.com/jobs?q=data+scientist+%2420%2C000&l=Miami&start=2201&limit=100\n",
      "http://www.indeed.com/jobs?q=data+scientist+%2420%2C000&l=Miami&start=2301&limit=100\n",
      "http://www.indeed.com/jobs?q=data+scientist+%2420%2C000&l=Miami&start=2401&limit=100\n",
      "http://www.indeed.com/jobs?q=data+scientist+%2420%2C000&l=Miami&start=2501&limit=100\n",
      "http://www.indeed.com/jobs?q=data+scientist+%2420%2C000&l=Miami&start=2601&limit=100\n",
      "http://www.indeed.com/jobs?q=data+scientist+%2420%2C000&l=Miami&start=2701&limit=100\n",
      "http://www.indeed.com/jobs?q=data+scientist+%2420%2C000&l=Miami&start=2801&limit=100\n",
      "http://www.indeed.com/jobs?q=data+scientist+%2420%2C000&l=Miami&start=2901&limit=100\n"
     ]
    }
   ],
   "source": [
    "url_template = \"http://www.indeed.com/jobs?q=data+scientist+%2420%2C000&l={}&start={}\"\n",
    "max_results_per_city = 3000 \n",
    "\n",
    "results = []\n",
    "\n",
    "\n",
    "cities=['New+York', 'Chicago', 'San+Francisco', 'Austin', 'Seattle', \n",
    "    'Los+Angeles', 'Philadelphia', 'Atlanta', 'Dallas', 'Pittsburgh', \n",
    "    'Portland', 'Phoenix', 'Denver', 'Houston', 'Miami']\n",
    "for city in cities:\n",
    "    for start in range(1,max_results_per_city,100):\n",
    "        try:\n",
    "            url=\"http://www.indeed.com/jobs?q=data+scientist+%%2420%%2C000&l=%s&start=%d&limit=100\"%(city,start)\n",
    "            print url\n",
    "            page=urllib2.urlopen(url).read()\n",
    "            soup=BeautifulSoup(page,\"lxml\")\n",
    "            Company=extract_company_from_result(soup)\n",
    "            Jobtitle=extract_jobtitle_from_result(soup)\n",
    "            Location=extract_location_from_result(soup)\n",
    "            Salary=extract_salary_from_result(soup)\n",
    "            # Append to the full set of results\n",
    "            results.append([Company,Jobtitle,Location,Salary])\n",
    "        except Exception:\n",
    "            pass\n"
   ]
  },
  {
   "cell_type": "code",
   "execution_count": 210,
   "metadata": {
    "collapsed": false
   },
   "outputs": [
    {
     "data": {
      "text/html": [
       "<div>\n",
       "<table border=\"1\" class=\"dataframe\">\n",
       "  <thead>\n",
       "    <tr style=\"text-align: right;\">\n",
       "      <th></th>\n",
       "      <th>Company</th>\n",
       "      <th>Jobtitle</th>\n",
       "      <th>Location</th>\n",
       "      <th>Salary</th>\n",
       "    </tr>\n",
       "  </thead>\n",
       "  <tbody>\n",
       "    <tr>\n",
       "      <th>0</th>\n",
       "      <td>\\n\\n    Averity\\n</td>\n",
       "      <td>\\nMid-level Data Scientist For Top Travel Comp...</td>\n",
       "      <td>New York, NY</td>\n",
       "      <td>$90,000 - $110,000 a year</td>\n",
       "    </tr>\n",
       "    <tr>\n",
       "      <th>1</th>\n",
       "      <td>\\n\\n\\n        Federal Reserve Bank of New York\\n</td>\n",
       "      <td>\\nDepartment Head, Applied Strategy - Data &amp; S...</td>\n",
       "      <td>New York, NY</td>\n",
       "      <td>NaN</td>\n",
       "    </tr>\n",
       "    <tr>\n",
       "      <th>2</th>\n",
       "      <td>\\n\\n\\n        Meetup\\n</td>\n",
       "      <td>\\nSr. Machine Learning Engineer\\n</td>\n",
       "      <td>New York, NY 10012 (Little Italy area)</td>\n",
       "      <td>NaN</td>\n",
       "    </tr>\n",
       "    <tr>\n",
       "      <th>3</th>\n",
       "      <td>\\n\\n\\n        Morgan Stanley\\n</td>\n",
       "      <td>\\nEquity Research - Analyst Solutions Team\\n</td>\n",
       "      <td>New York, NY 10032 (Washington Heights area)</td>\n",
       "      <td>NaN</td>\n",
       "    </tr>\n",
       "    <tr>\n",
       "      <th>4</th>\n",
       "      <td>\\n\\n\\n        BAE Systems Applied Intelligence\\n</td>\n",
       "      <td>\\nAnalytics Product Manager\\n</td>\n",
       "      <td>New York, NY</td>\n",
       "      <td>NaN</td>\n",
       "    </tr>\n",
       "  </tbody>\n",
       "</table>\n",
       "</div>"
      ],
      "text/plain": [
       "                                            Company  \\\n",
       "0                                 \\n\\n    Averity\\n   \n",
       "1  \\n\\n\\n        Federal Reserve Bank of New York\\n   \n",
       "2                            \\n\\n\\n        Meetup\\n   \n",
       "3                    \\n\\n\\n        Morgan Stanley\\n   \n",
       "4  \\n\\n\\n        BAE Systems Applied Intelligence\\n   \n",
       "\n",
       "                                            Jobtitle  \\\n",
       "0  \\nMid-level Data Scientist For Top Travel Comp...   \n",
       "1  \\nDepartment Head, Applied Strategy - Data & S...   \n",
       "2                  \\nSr. Machine Learning Engineer\\n   \n",
       "3       \\nEquity Research - Analyst Solutions Team\\n   \n",
       "4                      \\nAnalytics Product Manager\\n   \n",
       "\n",
       "                                       Location                     Salary  \n",
       "0                                  New York, NY  $90,000 - $110,000 a year  \n",
       "1                                  New York, NY                        NaN  \n",
       "2        New York, NY 10012 (Little Italy area)                        NaN  \n",
       "3  New York, NY 10032 (Washington Heights area)                        NaN  \n",
       "4                                  New York, NY                        NaN  "
      ]
     },
     "execution_count": 210,
     "metadata": {},
     "output_type": "execute_result"
    }
   ],
   "source": [
    "df=pd.DataFrame({\"Company\":results[0][0],\"Jobtitle\":results[0][1],\"Location\":results[0][2],\"Salary\":results[0][3]})\n",
    "df.head()"
   ]
  },
  {
   "cell_type": "code",
   "execution_count": 211,
   "metadata": {
    "collapsed": false
   },
   "outputs": [
    {
     "data": {
      "text/html": [
       "<div>\n",
       "<table border=\"1\" class=\"dataframe\">\n",
       "  <thead>\n",
       "    <tr style=\"text-align: right;\">\n",
       "      <th></th>\n",
       "      <th>Company</th>\n",
       "      <th>Jobtitle</th>\n",
       "      <th>Location</th>\n",
       "      <th>Salary</th>\n",
       "    </tr>\n",
       "  </thead>\n",
       "  <tbody>\n",
       "    <tr>\n",
       "      <th>0</th>\n",
       "      <td>\\n\\n    Averity\\n</td>\n",
       "      <td>\\nMid-level Data Scientist For Top Travel Comp...</td>\n",
       "      <td>New York, NY</td>\n",
       "      <td>$90,000 - $110,000 a year</td>\n",
       "    </tr>\n",
       "    <tr>\n",
       "      <th>1</th>\n",
       "      <td>\\n\\n\\n        Federal Reserve Bank of New York\\n</td>\n",
       "      <td>\\nDepartment Head, Applied Strategy - Data &amp; S...</td>\n",
       "      <td>New York, NY</td>\n",
       "      <td>NaN</td>\n",
       "    </tr>\n",
       "    <tr>\n",
       "      <th>2</th>\n",
       "      <td>\\n\\n\\n        Meetup\\n</td>\n",
       "      <td>\\nSr. Machine Learning Engineer\\n</td>\n",
       "      <td>New York, NY 10012 (Little Italy area)</td>\n",
       "      <td>NaN</td>\n",
       "    </tr>\n",
       "    <tr>\n",
       "      <th>3</th>\n",
       "      <td>\\n\\n\\n        Morgan Stanley\\n</td>\n",
       "      <td>\\nEquity Research - Analyst Solutions Team\\n</td>\n",
       "      <td>New York, NY 10032 (Washington Heights area)</td>\n",
       "      <td>NaN</td>\n",
       "    </tr>\n",
       "    <tr>\n",
       "      <th>4</th>\n",
       "      <td>\\n\\n\\n        BAE Systems Applied Intelligence\\n</td>\n",
       "      <td>\\nAnalytics Product Manager\\n</td>\n",
       "      <td>New York, NY</td>\n",
       "      <td>NaN</td>\n",
       "    </tr>\n",
       "  </tbody>\n",
       "</table>\n",
       "</div>"
      ],
      "text/plain": [
       "                                            Company  \\\n",
       "0                                 \\n\\n    Averity\\n   \n",
       "1  \\n\\n\\n        Federal Reserve Bank of New York\\n   \n",
       "2                            \\n\\n\\n        Meetup\\n   \n",
       "3                    \\n\\n\\n        Morgan Stanley\\n   \n",
       "4  \\n\\n\\n        BAE Systems Applied Intelligence\\n   \n",
       "\n",
       "                                            Jobtitle  \\\n",
       "0  \\nMid-level Data Scientist For Top Travel Comp...   \n",
       "1  \\nDepartment Head, Applied Strategy - Data & S...   \n",
       "2                  \\nSr. Machine Learning Engineer\\n   \n",
       "3       \\nEquity Research - Analyst Solutions Team\\n   \n",
       "4                      \\nAnalytics Product Manager\\n   \n",
       "\n",
       "                                       Location                     Salary  \n",
       "0                                  New York, NY  $90,000 - $110,000 a year  \n",
       "1                                  New York, NY                        NaN  \n",
       "2        New York, NY 10012 (Little Italy area)                        NaN  \n",
       "3  New York, NY 10032 (Washington Heights area)                        NaN  \n",
       "4                                  New York, NY                        NaN  "
      ]
     },
     "execution_count": 211,
     "metadata": {},
     "output_type": "execute_result"
    }
   ],
   "source": [
    "#Let's create for each row in results a dataframe to then concatenate and form a main one\n",
    "\n",
    "df=df=pd.DataFrame({\"Company\":results[0][0],\"Jobtitle\":results[0][1],\"Location\":results[0][2],\"Salary\":results[0][3]})\n",
    "\n",
    "for row in results[1:]:\n",
    "    df_intermediate=pd.DataFrame({\"Company\":row[0],\"Jobtitle\":row[1],\"Location\":row[2],\"Salary\":row[3]})\n",
    "    df=pd.concat([df,df_intermediate])\n",
    "\n",
    "df.head()"
   ]
  },
  {
   "cell_type": "code",
   "execution_count": 212,
   "metadata": {
    "collapsed": false
   },
   "outputs": [
    {
     "data": {
      "text/plain": [
       "(37192, 4)"
      ]
     },
     "execution_count": 212,
     "metadata": {},
     "output_type": "execute_result"
    }
   ],
   "source": [
    "df.shape"
   ]
  },
  {
   "cell_type": "markdown",
   "metadata": {
    "focus": false,
    "id": "ff98ce64-78a7-441f-a675-63464e32c834"
   },
   "source": [
    "Lastly, we need to clean up salary data. \n",
    "\n",
    "1. Only a small number of the scraped results have salary information - only these will be used for modeling.\n",
    "1. Some of the salaries are not yearly but hourly or weekly, these will not be useful to us for now\n",
    "1. Some of the entries may be duplicated\n",
    "1. The salaries are given as text and usually with ranges.\n"
   ]
  },
  {
   "cell_type": "code",
   "execution_count": 213,
   "metadata": {
    "collapsed": false,
    "focus": false,
    "id": "58533e57-f86b-494a-b841-e7b59c6229c6"
   },
   "outputs": [
    {
     "data": {
      "text/html": [
       "<div>\n",
       "<table border=\"1\" class=\"dataframe\">\n",
       "  <thead>\n",
       "    <tr style=\"text-align: right;\">\n",
       "      <th></th>\n",
       "      <th>Company</th>\n",
       "      <th>Jobtitle</th>\n",
       "      <th>Location</th>\n",
       "      <th>Salary</th>\n",
       "    </tr>\n",
       "  </thead>\n",
       "  <tbody>\n",
       "    <tr>\n",
       "      <th>0</th>\n",
       "      <td>\\n\\n    Averity\\n</td>\n",
       "      <td>\\nMid-level Data Scientist For Top Travel Comp...</td>\n",
       "      <td>New York, NY</td>\n",
       "      <td>$90,000 - $110,000 a year</td>\n",
       "    </tr>\n",
       "    <tr>\n",
       "      <th>1</th>\n",
       "      <td>\\n\\n\\n        DEPT OF HEALTH/MENTAL HYGIENE\\n</td>\n",
       "      <td>\\nSpecial Assistant, Bureau of Vital Statistics\\n</td>\n",
       "      <td>Manhattan, NY</td>\n",
       "      <td>$59,708 - $72,246 a year</td>\n",
       "    </tr>\n",
       "    <tr>\n",
       "      <th>2</th>\n",
       "      <td>\\n\\n\\n        Workbridge Associates\\n</td>\n",
       "      <td>\\nChief Data Scientist\\n</td>\n",
       "      <td>New York, NY</td>\n",
       "      <td>$110,000 - $140,000 a year</td>\n",
       "    </tr>\n",
       "    <tr>\n",
       "      <th>3</th>\n",
       "      <td>\\n\\n    Animalz\\n</td>\n",
       "      <td>\\nResearch Analyst\\n</td>\n",
       "      <td>New York, NY 10002 (Lower East Side area)</td>\n",
       "      <td>$40,000 a year</td>\n",
       "    </tr>\n",
       "    <tr>\n",
       "      <th>4</th>\n",
       "      <td>\\n\\n    Big Cloud\\n</td>\n",
       "      <td>\\nData Scientist\\n</td>\n",
       "      <td>New York, NY</td>\n",
       "      <td>$150,000 a year</td>\n",
       "    </tr>\n",
       "  </tbody>\n",
       "</table>\n",
       "</div>"
      ],
      "text/plain": [
       "                                         Company  \\\n",
       "0                              \\n\\n    Averity\\n   \n",
       "1  \\n\\n\\n        DEPT OF HEALTH/MENTAL HYGIENE\\n   \n",
       "2          \\n\\n\\n        Workbridge Associates\\n   \n",
       "3                              \\n\\n    Animalz\\n   \n",
       "4                            \\n\\n    Big Cloud\\n   \n",
       "\n",
       "                                            Jobtitle  \\\n",
       "0  \\nMid-level Data Scientist For Top Travel Comp...   \n",
       "1  \\nSpecial Assistant, Bureau of Vital Statistics\\n   \n",
       "2                           \\nChief Data Scientist\\n   \n",
       "3                               \\nResearch Analyst\\n   \n",
       "4                                 \\nData Scientist\\n   \n",
       "\n",
       "                                    Location                      Salary  \n",
       "0                               New York, NY   $90,000 - $110,000 a year  \n",
       "1                              Manhattan, NY    $59,708 - $72,246 a year  \n",
       "2                               New York, NY  $110,000 - $140,000 a year  \n",
       "3  New York, NY 10002 (Lower East Side area)              $40,000 a year  \n",
       "4                               New York, NY             $150,000 a year  "
      ]
     },
     "execution_count": 213,
     "metadata": {},
     "output_type": "execute_result"
    }
   ],
   "source": [
    "\n",
    "df_clean=df\n",
    "df_clean=df_clean.dropna(subset=[\"Salary\"])\n",
    "df_clean.reset_index(drop=True,inplace=True)\n",
    "df_clean.head()"
   ]
  },
  {
   "cell_type": "code",
   "execution_count": 214,
   "metadata": {
    "collapsed": false
   },
   "outputs": [
    {
     "name": "stderr",
     "output_type": "stream",
     "text": [
      "/Users/dorian/anaconda/lib/python2.7/site-packages/ipykernel/__main__.py:2: SettingWithCopyWarning: \n",
      "A value is trying to be set on a copy of a slice from a DataFrame.\n",
      "Try using .loc[row_indexer,col_indexer] = value instead\n",
      "\n",
      "See the caveats in the documentation: http://pandas.pydata.org/pandas-docs/stable/indexing.html#indexing-view-versus-copy\n",
      "  from ipykernel import kernelapp as app\n"
     ]
    },
    {
     "data": {
      "text/html": [
       "<div>\n",
       "<table border=\"1\" class=\"dataframe\">\n",
       "  <thead>\n",
       "    <tr style=\"text-align: right;\">\n",
       "      <th></th>\n",
       "      <th>Company</th>\n",
       "      <th>Jobtitle</th>\n",
       "      <th>Location</th>\n",
       "      <th>Salary</th>\n",
       "    </tr>\n",
       "  </thead>\n",
       "  <tbody>\n",
       "    <tr>\n",
       "      <th>0</th>\n",
       "      <td>Averity</td>\n",
       "      <td>\\nMid-level Data Scientist For Top Travel Comp...</td>\n",
       "      <td>New York, NY</td>\n",
       "      <td>$90,000 - $110,000 a year</td>\n",
       "    </tr>\n",
       "    <tr>\n",
       "      <th>1</th>\n",
       "      <td>DEPT OF HEALTH/MENTAL HYGIENE</td>\n",
       "      <td>\\nSpecial Assistant, Bureau of Vital Statistics\\n</td>\n",
       "      <td>Manhattan, NY</td>\n",
       "      <td>$59,708 - $72,246 a year</td>\n",
       "    </tr>\n",
       "    <tr>\n",
       "      <th>2</th>\n",
       "      <td>Workbridge Associates</td>\n",
       "      <td>\\nChief Data Scientist\\n</td>\n",
       "      <td>New York, NY</td>\n",
       "      <td>$110,000 - $140,000 a year</td>\n",
       "    </tr>\n",
       "    <tr>\n",
       "      <th>3</th>\n",
       "      <td>Animalz</td>\n",
       "      <td>\\nResearch Analyst\\n</td>\n",
       "      <td>New York, NY 10002 (Lower East Side area)</td>\n",
       "      <td>$40,000 a year</td>\n",
       "    </tr>\n",
       "    <tr>\n",
       "      <th>4</th>\n",
       "      <td>Big Cloud</td>\n",
       "      <td>\\nData Scientist\\n</td>\n",
       "      <td>New York, NY</td>\n",
       "      <td>$150,000 a year</td>\n",
       "    </tr>\n",
       "  </tbody>\n",
       "</table>\n",
       "</div>"
      ],
      "text/plain": [
       "                                 Company  \\\n",
       "0                                Averity   \n",
       "1          DEPT OF HEALTH/MENTAL HYGIENE   \n",
       "2                  Workbridge Associates   \n",
       "3                                Animalz   \n",
       "4                              Big Cloud   \n",
       "\n",
       "                                            Jobtitle  \\\n",
       "0  \\nMid-level Data Scientist For Top Travel Comp...   \n",
       "1  \\nSpecial Assistant, Bureau of Vital Statistics\\n   \n",
       "2                           \\nChief Data Scientist\\n   \n",
       "3                               \\nResearch Analyst\\n   \n",
       "4                                 \\nData Scientist\\n   \n",
       "\n",
       "                                    Location                      Salary  \n",
       "0                               New York, NY   $90,000 - $110,000 a year  \n",
       "1                              Manhattan, NY    $59,708 - $72,246 a year  \n",
       "2                               New York, NY  $110,000 - $140,000 a year  \n",
       "3  New York, NY 10002 (Lower East Side area)              $40,000 a year  \n",
       "4                               New York, NY             $150,000 a year  "
      ]
     },
     "execution_count": 214,
     "metadata": {},
     "output_type": "execute_result"
    }
   ],
   "source": [
    "#withdrawing \\n from Companies name.\n",
    "df_clean[\"Company\"]=df_clean[\"Company\"].str.strip('\\n')\n",
    "df_clean.head()"
   ]
  },
  {
   "cell_type": "code",
   "execution_count": 215,
   "metadata": {
    "collapsed": false
   },
   "outputs": [
    {
     "name": "stderr",
     "output_type": "stream",
     "text": [
      "/Users/dorian/anaconda/lib/python2.7/site-packages/ipykernel/__main__.py:4: SettingWithCopyWarning: \n",
      "A value is trying to be set on a copy of a slice from a DataFrame.\n",
      "Try using .loc[row_indexer,col_indexer] = value instead\n",
      "\n",
      "See the caveats in the documentation: http://pandas.pydata.org/pandas-docs/stable/indexing.html#indexing-view-versus-copy\n"
     ]
    },
    {
     "data": {
      "text/html": [
       "<div>\n",
       "<table border=\"1\" class=\"dataframe\">\n",
       "  <thead>\n",
       "    <tr style=\"text-align: right;\">\n",
       "      <th></th>\n",
       "      <th>Company</th>\n",
       "      <th>Jobtitle</th>\n",
       "      <th>Location</th>\n",
       "      <th>Salary</th>\n",
       "    </tr>\n",
       "  </thead>\n",
       "  <tbody>\n",
       "    <tr>\n",
       "      <th>0</th>\n",
       "      <td>Averity</td>\n",
       "      <td>Mid-level Data Scientist For Top Travel Company</td>\n",
       "      <td>New York, NY</td>\n",
       "      <td>$90,000 - $110,000 a year</td>\n",
       "    </tr>\n",
       "    <tr>\n",
       "      <th>1</th>\n",
       "      <td>DEPT OF HEALTH/MENTAL HYGIENE</td>\n",
       "      <td>Special Assistant, Bureau of Vital Statistics</td>\n",
       "      <td>Manhattan, NY</td>\n",
       "      <td>$59,708 - $72,246 a year</td>\n",
       "    </tr>\n",
       "    <tr>\n",
       "      <th>2</th>\n",
       "      <td>Workbridge Associates</td>\n",
       "      <td>Chief Data Scientist</td>\n",
       "      <td>New York, NY</td>\n",
       "      <td>$110,000 - $140,000 a year</td>\n",
       "    </tr>\n",
       "    <tr>\n",
       "      <th>3</th>\n",
       "      <td>Animalz</td>\n",
       "      <td>Research Analyst</td>\n",
       "      <td>New York, NY 10002 (Lower East Side area)</td>\n",
       "      <td>$40,000 a year</td>\n",
       "    </tr>\n",
       "    <tr>\n",
       "      <th>4</th>\n",
       "      <td>Big Cloud</td>\n",
       "      <td>Data Scientist</td>\n",
       "      <td>New York, NY</td>\n",
       "      <td>$150,000 a year</td>\n",
       "    </tr>\n",
       "  </tbody>\n",
       "</table>\n",
       "</div>"
      ],
      "text/plain": [
       "                                 Company  \\\n",
       "0                                Averity   \n",
       "1          DEPT OF HEALTH/MENTAL HYGIENE   \n",
       "2                  Workbridge Associates   \n",
       "3                                Animalz   \n",
       "4                              Big Cloud   \n",
       "\n",
       "                                          Jobtitle  \\\n",
       "0  Mid-level Data Scientist For Top Travel Company   \n",
       "1    Special Assistant, Bureau of Vital Statistics   \n",
       "2                             Chief Data Scientist   \n",
       "3                                 Research Analyst   \n",
       "4                                   Data Scientist   \n",
       "\n",
       "                                    Location                      Salary  \n",
       "0                               New York, NY   $90,000 - $110,000 a year  \n",
       "1                              Manhattan, NY    $59,708 - $72,246 a year  \n",
       "2                               New York, NY  $110,000 - $140,000 a year  \n",
       "3  New York, NY 10002 (Lower East Side area)              $40,000 a year  \n",
       "4                               New York, NY             $150,000 a year  "
      ]
     },
     "execution_count": 215,
     "metadata": {},
     "output_type": "execute_result"
    }
   ],
   "source": [
    "#withdrawing \\n from Jobtitle\n",
    "\n",
    "df_clean[\"Jobtitle\"]=df_clean[\"Jobtitle\"].str.strip('\\n')\n",
    "df_clean.head()"
   ]
  },
  {
   "cell_type": "code",
   "execution_count": 216,
   "metadata": {
    "collapsed": false
   },
   "outputs": [
    {
     "data": {
      "text/plain": [
       "(3356, 4)"
      ]
     },
     "execution_count": 216,
     "metadata": {},
     "output_type": "execute_result"
    }
   ],
   "source": [
    "df_clean.shape"
   ]
  },
  {
   "cell_type": "code",
   "execution_count": 217,
   "metadata": {
    "collapsed": false
   },
   "outputs": [],
   "source": [
    "df_clean.to_csv(\"indeed_wiwhout_cleaning_V2.csv\", encoding=\"utf-8\")"
   ]
  },
  {
   "cell_type": "markdown",
   "metadata": {
    "focus": false,
    "id": "7d4bc860-b214-4f75-9cd0-b234830b1ec2"
   },
   "source": [
    "\n",
    "\n",
    "___\n",
    "\n",
    "# STARTER AFTER WEB SCRAPING"
   ]
  },
  {
   "cell_type": "code",
   "execution_count": 473,
   "metadata": {
    "collapsed": true
   },
   "outputs": [],
   "source": [
    "import numpy as np\n",
    "import pandas as pd\n",
    "import matplotlib.pyplot as plt\n",
    "import seaborn as sns"
   ]
  },
  {
   "cell_type": "code",
   "execution_count": 474,
   "metadata": {
    "collapsed": false
   },
   "outputs": [
    {
     "data": {
      "text/html": [
       "<div>\n",
       "<table border=\"1\" class=\"dataframe\">\n",
       "  <thead>\n",
       "    <tr style=\"text-align: right;\">\n",
       "      <th></th>\n",
       "      <th>Company</th>\n",
       "      <th>Jobtitle</th>\n",
       "      <th>Location</th>\n",
       "      <th>Salary</th>\n",
       "    </tr>\n",
       "  </thead>\n",
       "  <tbody>\n",
       "    <tr>\n",
       "      <th>3346</th>\n",
       "      <td>University of Miami</td>\n",
       "      <td>(Temporary) Research Laboratory Technician</td>\n",
       "      <td>Coral Gables, FL</td>\n",
       "      <td>$27,400 - $49,400 a year</td>\n",
       "    </tr>\n",
       "    <tr>\n",
       "      <th>3347</th>\n",
       "      <td>University of Miami</td>\n",
       "      <td>Statistical Programmer</td>\n",
       "      <td>Coral Gables, FL</td>\n",
       "      <td>$32,900 a year</td>\n",
       "    </tr>\n",
       "    <tr>\n",
       "      <th>3348</th>\n",
       "      <td>Smith Hanley Associates</td>\n",
       "      <td>Statistical Operations Research Analyst</td>\n",
       "      <td>Miami, FL</td>\n",
       "      <td>$75,000 - $95,000 a year</td>\n",
       "    </tr>\n",
       "    <tr>\n",
       "      <th>3349</th>\n",
       "      <td>University of Miami</td>\n",
       "      <td>Research Analyst</td>\n",
       "      <td>Coral Gables, FL</td>\n",
       "      <td>$32,900 - $59,100 a year</td>\n",
       "    </tr>\n",
       "    <tr>\n",
       "      <th>3350</th>\n",
       "      <td>University of Miami</td>\n",
       "      <td>Financial Analyst (Clinical Research Revenue)</td>\n",
       "      <td>Coral Gables, FL</td>\n",
       "      <td>$38,750 - $51,000 a year</td>\n",
       "    </tr>\n",
       "    <tr>\n",
       "      <th>3351</th>\n",
       "      <td>Staffing Resource Group</td>\n",
       "      <td>QC Chemist</td>\n",
       "      <td>Miami, FL</td>\n",
       "      <td>$50,000 a year</td>\n",
       "    </tr>\n",
       "    <tr>\n",
       "      <th>3352</th>\n",
       "      <td>University of Miami</td>\n",
       "      <td>Assistant Scientist/Postdoctoral Associate</td>\n",
       "      <td>Coral Gables, FL</td>\n",
       "      <td>$53,900 - $65,000 a year</td>\n",
       "    </tr>\n",
       "    <tr>\n",
       "      <th>3353</th>\n",
       "      <td>Morgan Stephens</td>\n",
       "      <td>Librarian Research Analyst</td>\n",
       "      <td>Miami, FL</td>\n",
       "      <td>$75,000 - $85,000 a year</td>\n",
       "    </tr>\n",
       "    <tr>\n",
       "      <th>3354</th>\n",
       "      <td>Coastal Risk Consulting, LLC</td>\n",
       "      <td>Business Development Manager</td>\n",
       "      <td>Plantation, FL</td>\n",
       "      <td>$4,000 a month</td>\n",
       "    </tr>\n",
       "    <tr>\n",
       "      <th>3355</th>\n",
       "      <td>Coastal Risk Consulting, LLC</td>\n",
       "      <td>Business Development Manager</td>\n",
       "      <td>Plantation, FL</td>\n",
       "      <td>$4,000 a month</td>\n",
       "    </tr>\n",
       "  </tbody>\n",
       "</table>\n",
       "</div>"
      ],
      "text/plain": [
       "                               Company  \\\n",
       "3346               University of Miami   \n",
       "3347               University of Miami   \n",
       "3348           Smith Hanley Associates   \n",
       "3349               University of Miami   \n",
       "3350               University of Miami   \n",
       "3351           Staffing Resource Group   \n",
       "3352               University of Miami   \n",
       "3353                   Morgan Stephens   \n",
       "3354      Coastal Risk Consulting, LLC   \n",
       "3355      Coastal Risk Consulting, LLC   \n",
       "\n",
       "                                           Jobtitle          Location  \\\n",
       "3346     (Temporary) Research Laboratory Technician  Coral Gables, FL   \n",
       "3347                         Statistical Programmer  Coral Gables, FL   \n",
       "3348        Statistical Operations Research Analyst         Miami, FL   \n",
       "3349                               Research Analyst  Coral Gables, FL   \n",
       "3350  Financial Analyst (Clinical Research Revenue)  Coral Gables, FL   \n",
       "3351                                     QC Chemist         Miami, FL   \n",
       "3352     Assistant Scientist/Postdoctoral Associate  Coral Gables, FL   \n",
       "3353                     Librarian Research Analyst         Miami, FL   \n",
       "3354                   Business Development Manager    Plantation, FL   \n",
       "3355                   Business Development Manager    Plantation, FL   \n",
       "\n",
       "                        Salary  \n",
       "3346  $27,400 - $49,400 a year  \n",
       "3347            $32,900 a year  \n",
       "3348  $75,000 - $95,000 a year  \n",
       "3349  $32,900 - $59,100 a year  \n",
       "3350  $38,750 - $51,000 a year  \n",
       "3351            $50,000 a year  \n",
       "3352  $53,900 - $65,000 a year  \n",
       "3353  $75,000 - $85,000 a year  \n",
       "3354            $4,000 a month  \n",
       "3355            $4,000 a month  "
      ]
     },
     "execution_count": 474,
     "metadata": {},
     "output_type": "execute_result"
    }
   ],
   "source": [
    "df_clean=pd.read_csv(\"indeed_wiwhout_cleaning_V2.csv\",thousands=\",\")\n",
    "del df_clean[\"Unnamed: 0\"]\n",
    "\n",
    "df_clean.tail(10)"
   ]
  },
  {
   "cell_type": "code",
   "execution_count": 475,
   "metadata": {
    "collapsed": false
   },
   "outputs": [],
   "source": [
    "# creating a function that returns 3 lists.\n",
    "possibility=[\"a year\",\"a month\",\"an hour\",\"-\",\"$\"]\n",
    "def clean_salary(column):\n",
    "    typo=[]\n",
    "    range1=[]\n",
    "    range2=[]\n",
    "    for row in column:\n",
    "        var=np.nan\n",
    "        for i in range(3):\n",
    "            if row.find(possibility[i])!= -1:\n",
    "                var=possibility[i]\n",
    "                row=row.strip(var)\n",
    "        typo.append(var)\n",
    "        listy=row.split(possibility[3])\n",
    "        listy=[str(item).strip(' ').strip(possibility[4]) for item in listy]\n",
    "        range1.append(listy[0])\n",
    "        try:\n",
    "            range2.append(listy[1])\n",
    "        except Exception:\n",
    "            range2.append(\"0\")\n",
    "    return typo,range1,range2\n",
    "        "
   ]
  },
  {
   "cell_type": "code",
   "execution_count": 476,
   "metadata": {
    "collapsed": false,
    "focus": false,
    "id": "a0f701e0-80bd-40ba-9101-4535860c0968"
   },
   "outputs": [
    {
     "name": "stdout",
     "output_type": "stream",
     "text": [
      "There are 25 rows as NaN values.\n",
      "Company        object\n",
      "Jobtitle       object\n",
      "Location       object\n",
      "Salary         object\n",
      "Rate           object\n",
      "Salary_max    float64\n",
      "Salary_min    float64\n",
      "dtype: object\n"
     ]
    },
    {
     "data": {
      "text/html": [
       "<div>\n",
       "<table border=\"1\" class=\"dataframe\">\n",
       "  <thead>\n",
       "    <tr style=\"text-align: right;\">\n",
       "      <th></th>\n",
       "      <th>Company</th>\n",
       "      <th>Jobtitle</th>\n",
       "      <th>Location</th>\n",
       "      <th>Salary</th>\n",
       "      <th>Rate</th>\n",
       "      <th>Salary_max</th>\n",
       "      <th>Salary_min</th>\n",
       "    </tr>\n",
       "  </thead>\n",
       "  <tbody>\n",
       "    <tr>\n",
       "      <th>0</th>\n",
       "      <td>Averity</td>\n",
       "      <td>Mid-level Data Scientist For Top Travel Company</td>\n",
       "      <td>New York, NY</td>\n",
       "      <td>$90,000 - $110,000 a year</td>\n",
       "      <td>a year</td>\n",
       "      <td>90000.0</td>\n",
       "      <td>110000.0</td>\n",
       "    </tr>\n",
       "    <tr>\n",
       "      <th>1</th>\n",
       "      <td>DEPT OF HEALTH/MENTAL HYGIENE</td>\n",
       "      <td>Special Assistant, Bureau of Vital Statistics</td>\n",
       "      <td>Manhattan, NY</td>\n",
       "      <td>$59,708 - $72,246 a year</td>\n",
       "      <td>a year</td>\n",
       "      <td>59708.0</td>\n",
       "      <td>72246.0</td>\n",
       "    </tr>\n",
       "    <tr>\n",
       "      <th>2</th>\n",
       "      <td>Workbridge Associates</td>\n",
       "      <td>Chief Data Scientist</td>\n",
       "      <td>New York, NY</td>\n",
       "      <td>$110,000 - $140,000 a year</td>\n",
       "      <td>a year</td>\n",
       "      <td>110000.0</td>\n",
       "      <td>140000.0</td>\n",
       "    </tr>\n",
       "    <tr>\n",
       "      <th>3</th>\n",
       "      <td>Animalz</td>\n",
       "      <td>Research Analyst</td>\n",
       "      <td>New York, NY 10002 (Lower East Side area)</td>\n",
       "      <td>$40,000 a year</td>\n",
       "      <td>a year</td>\n",
       "      <td>40000.0</td>\n",
       "      <td>0.0</td>\n",
       "    </tr>\n",
       "    <tr>\n",
       "      <th>4</th>\n",
       "      <td>Big Cloud</td>\n",
       "      <td>Data Scientist</td>\n",
       "      <td>New York, NY</td>\n",
       "      <td>$150,000 a year</td>\n",
       "      <td>a year</td>\n",
       "      <td>150000.0</td>\n",
       "      <td>0.0</td>\n",
       "    </tr>\n",
       "  </tbody>\n",
       "</table>\n",
       "</div>"
      ],
      "text/plain": [
       "                                 Company  \\\n",
       "0                                Averity   \n",
       "1          DEPT OF HEALTH/MENTAL HYGIENE   \n",
       "2                  Workbridge Associates   \n",
       "3                                Animalz   \n",
       "4                              Big Cloud   \n",
       "\n",
       "                                          Jobtitle  \\\n",
       "0  Mid-level Data Scientist For Top Travel Company   \n",
       "1    Special Assistant, Bureau of Vital Statistics   \n",
       "2                             Chief Data Scientist   \n",
       "3                                 Research Analyst   \n",
       "4                                   Data Scientist   \n",
       "\n",
       "                                    Location                      Salary  \\\n",
       "0                               New York, NY   $90,000 - $110,000 a year   \n",
       "1                              Manhattan, NY    $59,708 - $72,246 a year   \n",
       "2                               New York, NY  $110,000 - $140,000 a year   \n",
       "3  New York, NY 10002 (Lower East Side area)              $40,000 a year   \n",
       "4                               New York, NY             $150,000 a year   \n",
       "\n",
       "     Rate  Salary_max  Salary_min  \n",
       "0  a year     90000.0    110000.0  \n",
       "1  a year     59708.0     72246.0  \n",
       "2  a year    110000.0    140000.0  \n",
       "3  a year     40000.0         0.0  \n",
       "4  a year    150000.0         0.0  "
      ]
     },
     "execution_count": 476,
     "metadata": {},
     "output_type": "execute_result"
    }
   ],
   "source": [
    "\n",
    "# creating a data frame for the salary in order to perform modelisation to a yearly rate into a range of salaries\n",
    "rate, salarymax, salarymin= clean_salary(df_clean[\"Salary\"])\n",
    "Salary_df=pd.DataFrame({\"Rate\":rate,\"Salary_max\": salarymax,\"Salary_min\": salarymin})\n",
    "df_clean=pd.concat([df_clean,Salary_df],axis=1)\n",
    "\n",
    "# droping rate=Nan\n",
    "print \"There are %d rows as NaN values.\"%(len(df_clean)-len(df_clean[\"Rate\"].dropna()))\n",
    "df_clean=df_clean.dropna(subset=[\"Rate\"])\n",
    "\n",
    "df_clean.reset_index(drop=True, inplace=True)\n",
    "# converting hourly rate to yearly rate= *40*52\n",
    "def convert(row):\n",
    "    if row[4]==\"an hour\":\n",
    "        try:\n",
    "            row[5]=float(str(row[5]))*40*52\n",
    "        except Exception:\n",
    "            pass\n",
    "        try:\n",
    "            row[6]=float(str(row[6]))*40*52\n",
    "        except Exception:\n",
    "            pass\n",
    "    return row\n",
    "\n",
    "df_clean=df_clean.apply(convert,axis=1)\n",
    "\n",
    "# converting columns salary to float\n",
    "df_clean[\"Salary_max\"]=df_clean[\"Salary_max\"].astype('str')\n",
    "df_clean[\"Salary_max\"]=df_clean[\"Salary_max\"].str.replace(\",\",\"\")\n",
    "df_clean[\"Salary_max\"]=df_clean[\"Salary_max\"].astype('float')\n",
    "df_clean[\"Salary_min\"]=df_clean[\"Salary_min\"].astype('str')\n",
    "df_clean[\"Salary_min\"]=df_clean[\"Salary_min\"].str.replace(\",\",\"\")\n",
    "df_clean[\"Salary_min\"]=df_clean[\"Salary_min\"].astype('float')\n",
    "\n",
    "print df_clean.dtypes\n",
    "\n",
    "df_clean.head()"
   ]
  },
  {
   "cell_type": "code",
   "execution_count": 477,
   "metadata": {
    "collapsed": false
   },
   "outputs": [
    {
     "data": {
      "text/html": [
       "<div>\n",
       "<table border=\"1\" class=\"dataframe\">\n",
       "  <thead>\n",
       "    <tr style=\"text-align: right;\">\n",
       "      <th></th>\n",
       "      <th>Company</th>\n",
       "      <th>Jobtitle</th>\n",
       "      <th>Location</th>\n",
       "      <th>average salary</th>\n",
       "    </tr>\n",
       "  </thead>\n",
       "  <tbody>\n",
       "    <tr>\n",
       "      <th>0</th>\n",
       "      <td>Averity</td>\n",
       "      <td>Mid-level Data Scientist For Top Travel Company</td>\n",
       "      <td>New York, NY</td>\n",
       "      <td>100000</td>\n",
       "    </tr>\n",
       "    <tr>\n",
       "      <th>1</th>\n",
       "      <td>DEPT OF HEALTH/MENTAL HYGIENE</td>\n",
       "      <td>Special Assistant, Bureau of Vital Statistics</td>\n",
       "      <td>Manhattan, NY</td>\n",
       "      <td>65977</td>\n",
       "    </tr>\n",
       "    <tr>\n",
       "      <th>2</th>\n",
       "      <td>Workbridge Associates</td>\n",
       "      <td>Chief Data Scientist</td>\n",
       "      <td>New York, NY</td>\n",
       "      <td>125000</td>\n",
       "    </tr>\n",
       "    <tr>\n",
       "      <th>3</th>\n",
       "      <td>Animalz</td>\n",
       "      <td>Research Analyst</td>\n",
       "      <td>New York, NY 10002 (Lower East Side area)</td>\n",
       "      <td>40000</td>\n",
       "    </tr>\n",
       "    <tr>\n",
       "      <th>4</th>\n",
       "      <td>Big Cloud</td>\n",
       "      <td>Data Scientist</td>\n",
       "      <td>New York, NY</td>\n",
       "      <td>150000</td>\n",
       "    </tr>\n",
       "  </tbody>\n",
       "</table>\n",
       "</div>"
      ],
      "text/plain": [
       "                                 Company  \\\n",
       "0                                Averity   \n",
       "1          DEPT OF HEALTH/MENTAL HYGIENE   \n",
       "2                  Workbridge Associates   \n",
       "3                                Animalz   \n",
       "4                              Big Cloud   \n",
       "\n",
       "                                          Jobtitle  \\\n",
       "0  Mid-level Data Scientist For Top Travel Company   \n",
       "1    Special Assistant, Bureau of Vital Statistics   \n",
       "2                             Chief Data Scientist   \n",
       "3                                 Research Analyst   \n",
       "4                                   Data Scientist   \n",
       "\n",
       "                                    Location  average salary  \n",
       "0                               New York, NY          100000  \n",
       "1                              Manhattan, NY           65977  \n",
       "2                               New York, NY          125000  \n",
       "3  New York, NY 10002 (Lower East Side area)           40000  \n",
       "4                               New York, NY          150000  "
      ]
     },
     "execution_count": 477,
     "metadata": {},
     "output_type": "execute_result"
    }
   ],
   "source": [
    "#Selecting the average salary per row\n",
    "def average(row):\n",
    "    maxi=row[5]\n",
    "    mini=row[6]\n",
    "    if mini==0:\n",
    "        result=maxi\n",
    "    else:\n",
    "        result=(maxi+mini)/2\n",
    "    return result\n",
    "# applying the funcion to create a new column with a yearly average salary\n",
    "df_clean[\"average salary\"]=df_clean.apply(average,axis=1)\n",
    "df_clean[\"average salary\"]=df_clean[\"average salary\"].astype('int') # only integer make sense!\n",
    "#deleteting unecessary columns\n",
    "todelete=[\"Salary\",\"Rate\",\"Salary_max\",\"Salary_min\"]\n",
    "for col in todelete:\n",
    "    del df_clean[col]\n",
    "df_clean.head()"
   ]
  },
  {
   "cell_type": "code",
   "execution_count": 478,
   "metadata": {
    "collapsed": false
   },
   "outputs": [],
   "source": [
    "# deleting duplicates\n",
    "df_clean[\"average salary\"]=df_clean[\"average salary\"].astype('str')\n",
    "df_clean.drop_duplicates(inplace=True)\n",
    "df_clean[\"average salary\"]=df_clean[\"average salary\"].astype('int')\n",
    "\n",
    "# DELETING SALARY <20000\n",
    "\n",
    "thresh= df_clean[\"average salary\"]>20000\n",
    "df_clean=df_clean.loc[thresh,:]\n",
    "\n",
    "#reseting index\n",
    "\n",
    "df_clean.reset_index(drop=True, inplace=True)"
   ]
  },
  {
   "cell_type": "markdown",
   "metadata": {},
   "source": [
    "Let's rearrange Job titles column so that it fits into a category.   \n",
    "To this extent, we will create a function that  will act in several steps:  \n",
    "- make job title as lowercase;  \n",
    "- loop through the words in the job title to change some of its terms like 'chief' to 'lead', or \"data\"+\"research\" to \"data scientist”;  \n",
    "- create a new column that take census of the main category of the job title."
   ]
  },
  {
   "cell_type": "code",
   "execution_count": 479,
   "metadata": {
    "collapsed": false
   },
   "outputs": [
    {
     "data": {
      "text/plain": [
       "other                    203\n",
       "data scientist            58\n",
       "senior data scientist     33\n",
       "Name: reshaped_jobtitle, dtype: int64"
      ]
     },
     "execution_count": 479,
     "metadata": {},
     "output_type": "execute_result"
    }
   ],
   "source": [
    "#dictionary for iteration\n",
    "first_keywords_iteration=[[\"research\",\"scientist\",\"data scientist\"],[\"data\",\"research\",\"data scientist\"],\\\n",
    "          [\"data\",\"analytics\",\"data scientist\"],[\"science\",\"scientist\"],[\"chief\",\"senior\"],\\\n",
    "          [\"director\",\"senior\"],[\"sr,\",\"senior\"],[\"sr.\",\"senior\"], ['sr',\"senior\"],[\"lead\",\"senior\"],\\\n",
    "          ['machine learning',\"data scientist\"],[\"vice president\",\"senior\"]]\n",
    "          \n",
    "\n",
    "second_keywords_iteration=[[\"data\",\"scientist\",\"senior\",\"senior data scientist\"],\\\n",
    "                          [\"data\",\"scientist\",\"data scientist\"]]\n",
    "\n",
    "main_categories=[\"data scientist\", \"senior data scientist\"]\n",
    "\n",
    "def jobtitle_search(row):\n",
    "    post=row.lower()\n",
    "    for item in first_keywords_iteration:\n",
    "        listy=[post.find(word) for word in item[:-1]]\n",
    "        if min(listy)>=0:\n",
    "            post=post+\" \"+item[-1]\n",
    "    for chave in second_keywords_iteration:\n",
    "        if post not in main_categories:\n",
    "            listy=[post.find(mot) for mot in chave[:-1]]\n",
    "            if min(listy)>=0:\n",
    "                post=chave[-1]\n",
    "    if post not in main_categories:\n",
    "        post=\"other\"\n",
    "    return post\n",
    "\n",
    "df_clean[\"reshaped_jobtitle\"]=df_clean[\"Jobtitle\"].apply(jobtitle_search)\n",
    "\n",
    "pd.value_counts(df_clean[\"reshaped_jobtitle\"])"
   ]
  },
  {
   "cell_type": "code",
   "execution_count": 480,
   "metadata": {
    "collapsed": false
   },
   "outputs": [],
   "source": [
    "# deleting other\n",
    "\n",
    "not_other= df_clean[\"reshaped_jobtitle\"] != \"other\"\n",
    "\n",
    "df_clean=df_clean.loc[not_other,:]\n",
    "df_clean.reset_index(drop=True, inplace=True)"
   ]
  },
  {
   "cell_type": "code",
   "execution_count": 481,
   "metadata": {
    "collapsed": false
   },
   "outputs": [],
   "source": [
    "# Creating a column to retrieve the state\n",
    "# Also, it is well know that San Francisco as a high cost of life. Then we will create a fictif states SFCA.\n",
    "def get_states(row):\n",
    "    listy=str(row).strip(\",\")\n",
    "    listy=str(listy).split(' ')\n",
    "    state=\"\"\n",
    "    len_listy=[len(x) for x in listy]\n",
    "    index=len_listy.index(2)\n",
    "    state=listy[index]\n",
    "    if state==\"CA\":\n",
    "        if row.lower().find(\"san francisco\")!=-1:\n",
    "            state=\"SFCA\"\n",
    "    return state"
   ]
  },
  {
   "cell_type": "code",
   "execution_count": 483,
   "metadata": {
    "collapsed": false,
    "scrolled": true
   },
   "outputs": [
    {
     "data": {
      "text/plain": [
       "NY      31\n",
       "IL      13\n",
       "SFCA    11\n",
       "CA      10\n",
       "TX       6\n",
       "GA       5\n",
       "PA       5\n",
       "WA       4\n",
       "AZ       2\n",
       "OR       1\n",
       "DE       1\n",
       "CO       1\n",
       "NJ       1\n",
       "Name: State, dtype: int64"
      ]
     },
     "execution_count": 483,
     "metadata": {},
     "output_type": "execute_result"
    }
   ],
   "source": [
    "df_clean[\"State\"]=df_clean[\"Location\"].apply(get_states)\n",
    "pd.value_counts(df_clean[\"State\"])"
   ]
  },
  {
   "cell_type": "markdown",
   "metadata": {
    "collapsed": false,
    "focus": false,
    "id": "43e71edd-210e-42b1-9336-70a931f048af"
   },
   "source": [
    "# Save results as a CSV"
   ]
  },
  {
   "cell_type": "code",
   "execution_count": 486,
   "metadata": {
    "collapsed": false
   },
   "outputs": [],
   "source": [
    "df_clean.to_csv(\"indeed_cleaned.csv\", encoding=\"utf-8\")"
   ]
  },
  {
   "cell_type": "markdown",
   "metadata": {
    "focus": false,
    "id": "04563b69-f7b6-466f-9d65-fc62c9ddee6a"
   },
   "source": [
    "## Predicting salaries using Logistic Regression"
   ]
  },
  {
   "cell_type": "code",
   "execution_count": 27,
   "metadata": {
    "collapsed": true
   },
   "outputs": [],
   "source": [
    "import numpy as np\n",
    "import pandas as pd\n",
    "import matplotlib.pyplot as plt\n",
    "import seaborn as sns\n",
    "%matplotlib inline"
   ]
  },
  {
   "cell_type": "markdown",
   "metadata": {
    "focus": false,
    "id": "243e949e-2742-40af-872e-fec475fd306c"
   },
   "source": [
    "#### Loading in the the data of scraped salaries"
   ]
  },
  {
   "cell_type": "code",
   "execution_count": 28,
   "metadata": {
    "collapsed": false,
    "focus": false,
    "id": "588f9845-6143-4bcc-bfd1-85d45b79303d"
   },
   "outputs": [
    {
     "data": {
      "text/html": [
       "<div>\n",
       "<table border=\"1\" class=\"dataframe\">\n",
       "  <thead>\n",
       "    <tr style=\"text-align: right;\">\n",
       "      <th></th>\n",
       "      <th>Company</th>\n",
       "      <th>Jobtitle</th>\n",
       "      <th>Location</th>\n",
       "      <th>average salary</th>\n",
       "      <th>reshaped_jobtitle</th>\n",
       "      <th>State</th>\n",
       "    </tr>\n",
       "  </thead>\n",
       "  <tbody>\n",
       "    <tr>\n",
       "      <th>0</th>\n",
       "      <td>Averity</td>\n",
       "      <td>Mid-level Data Scientist For Top Travel Company</td>\n",
       "      <td>New York, NY</td>\n",
       "      <td>100000</td>\n",
       "      <td>data scientist</td>\n",
       "      <td>NY</td>\n",
       "    </tr>\n",
       "    <tr>\n",
       "      <th>1</th>\n",
       "      <td>Workbridge Associates</td>\n",
       "      <td>Chief Data Scientist</td>\n",
       "      <td>New York, NY</td>\n",
       "      <td>125000</td>\n",
       "      <td>senior data scientist</td>\n",
       "      <td>NY</td>\n",
       "    </tr>\n",
       "    <tr>\n",
       "      <th>2</th>\n",
       "      <td>Big Cloud</td>\n",
       "      <td>Data Scientist</td>\n",
       "      <td>New York, NY</td>\n",
       "      <td>150000</td>\n",
       "      <td>data scientist</td>\n",
       "      <td>NY</td>\n",
       "    </tr>\n",
       "    <tr>\n",
       "      <th>3</th>\n",
       "      <td>Workbridge Associates</td>\n",
       "      <td>Data Science Engineer</td>\n",
       "      <td>New York, NY</td>\n",
       "      <td>165000</td>\n",
       "      <td>data scientist</td>\n",
       "      <td>NY</td>\n",
       "    </tr>\n",
       "    <tr>\n",
       "      <th>4</th>\n",
       "      <td>Harnham</td>\n",
       "      <td>Data Scientist - Financial Services</td>\n",
       "      <td>New York, NY</td>\n",
       "      <td>150000</td>\n",
       "      <td>data scientist</td>\n",
       "      <td>NY</td>\n",
       "    </tr>\n",
       "  </tbody>\n",
       "</table>\n",
       "</div>"
      ],
      "text/plain": [
       "                         Company  \\\n",
       "0                        Averity   \n",
       "1          Workbridge Associates   \n",
       "2                      Big Cloud   \n",
       "3          Workbridge Associates   \n",
       "4                        Harnham   \n",
       "\n",
       "                                          Jobtitle      Location  \\\n",
       "0  Mid-level Data Scientist For Top Travel Company  New York, NY   \n",
       "1                             Chief Data Scientist  New York, NY   \n",
       "2                                   Data Scientist  New York, NY   \n",
       "3                            Data Science Engineer  New York, NY   \n",
       "4              Data Scientist - Financial Services  New York, NY   \n",
       "\n",
       "   average salary      reshaped_jobtitle State  \n",
       "0          100000         data scientist    NY  \n",
       "1          125000  senior data scientist    NY  \n",
       "2          150000         data scientist    NY  \n",
       "3          165000         data scientist    NY  \n",
       "4          150000         data scientist    NY  "
      ]
     },
     "execution_count": 28,
     "metadata": {},
     "output_type": "execute_result"
    }
   ],
   "source": [
    "\n",
    "data=pd.read_csv(\"indeed_cleaned.csv\")\n",
    "del data[\"Unnamed: 0\"]\n",
    "data.head()"
   ]
  },
  {
   "cell_type": "markdown",
   "metadata": {
    "focus": false,
    "id": "c7631f51-07f2-4c79-a093-3e9bc7849a48"
   },
   "source": [
    "#### We want to predict a binary variable - whether the salary was low or high. We will compute the median salary and create a new binary variable that is true when the salary is high (above the median)\n",
    "\n",
    "We could also perform Linear Regression (or any regression) to predict the salary value here. Instead, we are going to convert this into a _binary_ classification problem, by predicting two classes, HIGH vs LOW salary.\n",
    "\n",
    "While performing regression may be better, performing classification may help remove some of the noise of the extreme salaries. We don't have to choice the `median` as the splitting point - we could also split on the 75th percentile or any other reasonable breaking point.\n",
    "\n",
    "In fact, the ideal scenario may be to predict many levels of salaries, "
   ]
  },
  {
   "cell_type": "code",
   "execution_count": 29,
   "metadata": {
    "collapsed": false,
    "focus": false,
    "id": "c20d2498-151c-44c3-a453-3a333c79a0ac"
   },
   "outputs": [
    {
     "data": {
      "text/html": [
       "<div>\n",
       "<table border=\"1\" class=\"dataframe\">\n",
       "  <thead>\n",
       "    <tr style=\"text-align: right;\">\n",
       "      <th></th>\n",
       "      <th>Company</th>\n",
       "      <th>Jobtitle</th>\n",
       "      <th>Location</th>\n",
       "      <th>average salary</th>\n",
       "      <th>reshaped_jobtitle</th>\n",
       "      <th>State</th>\n",
       "      <th>salary_assesment</th>\n",
       "    </tr>\n",
       "  </thead>\n",
       "  <tbody>\n",
       "    <tr>\n",
       "      <th>0</th>\n",
       "      <td>Averity</td>\n",
       "      <td>Mid-level Data Scientist For Top Travel Company</td>\n",
       "      <td>New York, NY</td>\n",
       "      <td>100000</td>\n",
       "      <td>data scientist</td>\n",
       "      <td>NY</td>\n",
       "      <td>0</td>\n",
       "    </tr>\n",
       "    <tr>\n",
       "      <th>1</th>\n",
       "      <td>Workbridge Associates</td>\n",
       "      <td>Chief Data Scientist</td>\n",
       "      <td>New York, NY</td>\n",
       "      <td>125000</td>\n",
       "      <td>senior data scientist</td>\n",
       "      <td>NY</td>\n",
       "      <td>0</td>\n",
       "    </tr>\n",
       "    <tr>\n",
       "      <th>2</th>\n",
       "      <td>Big Cloud</td>\n",
       "      <td>Data Scientist</td>\n",
       "      <td>New York, NY</td>\n",
       "      <td>150000</td>\n",
       "      <td>data scientist</td>\n",
       "      <td>NY</td>\n",
       "      <td>1</td>\n",
       "    </tr>\n",
       "    <tr>\n",
       "      <th>3</th>\n",
       "      <td>Workbridge Associates</td>\n",
       "      <td>Data Science Engineer</td>\n",
       "      <td>New York, NY</td>\n",
       "      <td>165000</td>\n",
       "      <td>data scientist</td>\n",
       "      <td>NY</td>\n",
       "      <td>1</td>\n",
       "    </tr>\n",
       "    <tr>\n",
       "      <th>4</th>\n",
       "      <td>Harnham</td>\n",
       "      <td>Data Scientist - Financial Services</td>\n",
       "      <td>New York, NY</td>\n",
       "      <td>150000</td>\n",
       "      <td>data scientist</td>\n",
       "      <td>NY</td>\n",
       "      <td>1</td>\n",
       "    </tr>\n",
       "  </tbody>\n",
       "</table>\n",
       "</div>"
      ],
      "text/plain": [
       "                         Company  \\\n",
       "0                        Averity   \n",
       "1          Workbridge Associates   \n",
       "2                      Big Cloud   \n",
       "3          Workbridge Associates   \n",
       "4                        Harnham   \n",
       "\n",
       "                                          Jobtitle      Location  \\\n",
       "0  Mid-level Data Scientist For Top Travel Company  New York, NY   \n",
       "1                             Chief Data Scientist  New York, NY   \n",
       "2                                   Data Scientist  New York, NY   \n",
       "3                            Data Science Engineer  New York, NY   \n",
       "4              Data Scientist - Financial Services  New York, NY   \n",
       "\n",
       "   average salary      reshaped_jobtitle State  salary_assesment  \n",
       "0          100000         data scientist    NY                 0  \n",
       "1          125000  senior data scientist    NY                 0  \n",
       "2          150000         data scientist    NY                 1  \n",
       "3          165000         data scientist    NY                 1  \n",
       "4          150000         data scientist    NY                 1  "
      ]
     },
     "execution_count": 29,
     "metadata": {},
     "output_type": "execute_result"
    }
   ],
   "source": [
    "\n",
    "# considering that 1 refers to a high salary, above\n",
    "\n",
    "median_salary=np.median(data[\"average salary\"])\n",
    "\n",
    "data[\"salary_assesment\"]=data[\"average salary\"].apply(lambda x: 1 if x>=median_salary else 0)\n",
    "data.head()"
   ]
  },
  {
   "cell_type": "code",
   "execution_count": 30,
   "metadata": {
    "collapsed": false
   },
   "outputs": [],
   "source": [
    "# As we have states with few data, the future model of prediction can only predict random data. \n",
    "#Nevertheless, we can make the assumption they have the same cost of life, i.e same range of salary.\n",
    "\n",
    "low_states=[\"AZ\",\"OR\",\"DE\",\"CO\",\"NJ\"]\n",
    "\n",
    "data[\"State\"]=data[\"State\"].apply(lambda x:\"other\" if x in low_states else x)"
   ]
  },
  {
   "cell_type": "code",
   "execution_count": 31,
   "metadata": {
    "collapsed": false,
    "focus": false,
    "id": "ddbc6159-6854-4ca7-857f-bfecdaf6d9c2"
   },
   "outputs": [
    {
     "data": {
      "image/png": "[encoded data removed]",
      "text/plain": [
       "<matplotlib.figure.Figure at 0x1197121d0>"
      ]
     },
     "metadata": {},
     "output_type": "display_data"
    }
   ],
   "source": [
    "# logistic regression\n",
    "\n",
    "# first let's plot a factor plot to get an idea of how a location influence the salary\n",
    "\n",
    "sns.factorplot(x=\"State\",y=\"salary_assesment\",data=data,kind=\"bar\")\n",
    "\n",
    "sns.plt.show()"
   ]
  },
  {
   "cell_type": "markdown",
   "metadata": {},
   "source": [
    "It seems every Data scientist of San Francisco will get a Salary above the median!"
   ]
  },
  {
   "cell_type": "code",
   "execution_count": 32,
   "metadata": {
    "collapsed": false
   },
   "outputs": [],
   "source": [
    "from sklearn.linear_model import LogisticRegression, LogisticRegressionCV\n",
    "from sklearn.cross_validation import train_test_split,cross_val_predict,cross_val_score\n",
    "from sklearn.metrics import accuracy_score, classification_report,confusion_matrix"
   ]
  },
  {
   "cell_type": "code",
   "execution_count": 33,
   "metadata": {
    "collapsed": false
   },
   "outputs": [
    {
     "data": {
      "text/html": [
       "<div>\n",
       "<table border=\"1\" class=\"dataframe\">\n",
       "  <thead>\n",
       "    <tr style=\"text-align: right;\">\n",
       "      <th></th>\n",
       "      <th>salary_assesment</th>\n",
       "      <th>CA</th>\n",
       "      <th>GA</th>\n",
       "      <th>IL</th>\n",
       "      <th>NY</th>\n",
       "      <th>PA</th>\n",
       "      <th>SFCA</th>\n",
       "      <th>TX</th>\n",
       "      <th>WA</th>\n",
       "      <th>other</th>\n",
       "    </tr>\n",
       "  </thead>\n",
       "  <tbody>\n",
       "    <tr>\n",
       "      <th>0</th>\n",
       "      <td>0</td>\n",
       "      <td>0.0</td>\n",
       "      <td>0.0</td>\n",
       "      <td>0.0</td>\n",
       "      <td>1.0</td>\n",
       "      <td>0.0</td>\n",
       "      <td>0.0</td>\n",
       "      <td>0.0</td>\n",
       "      <td>0.0</td>\n",
       "      <td>0.0</td>\n",
       "    </tr>\n",
       "    <tr>\n",
       "      <th>1</th>\n",
       "      <td>0</td>\n",
       "      <td>0.0</td>\n",
       "      <td>0.0</td>\n",
       "      <td>0.0</td>\n",
       "      <td>1.0</td>\n",
       "      <td>0.0</td>\n",
       "      <td>0.0</td>\n",
       "      <td>0.0</td>\n",
       "      <td>0.0</td>\n",
       "      <td>0.0</td>\n",
       "    </tr>\n",
       "    <tr>\n",
       "      <th>2</th>\n",
       "      <td>1</td>\n",
       "      <td>0.0</td>\n",
       "      <td>0.0</td>\n",
       "      <td>0.0</td>\n",
       "      <td>1.0</td>\n",
       "      <td>0.0</td>\n",
       "      <td>0.0</td>\n",
       "      <td>0.0</td>\n",
       "      <td>0.0</td>\n",
       "      <td>0.0</td>\n",
       "    </tr>\n",
       "    <tr>\n",
       "      <th>3</th>\n",
       "      <td>1</td>\n",
       "      <td>0.0</td>\n",
       "      <td>0.0</td>\n",
       "      <td>0.0</td>\n",
       "      <td>1.0</td>\n",
       "      <td>0.0</td>\n",
       "      <td>0.0</td>\n",
       "      <td>0.0</td>\n",
       "      <td>0.0</td>\n",
       "      <td>0.0</td>\n",
       "    </tr>\n",
       "    <tr>\n",
       "      <th>4</th>\n",
       "      <td>1</td>\n",
       "      <td>0.0</td>\n",
       "      <td>0.0</td>\n",
       "      <td>0.0</td>\n",
       "      <td>1.0</td>\n",
       "      <td>0.0</td>\n",
       "      <td>0.0</td>\n",
       "      <td>0.0</td>\n",
       "      <td>0.0</td>\n",
       "      <td>0.0</td>\n",
       "    </tr>\n",
       "  </tbody>\n",
       "</table>\n",
       "</div>"
      ],
      "text/plain": [
       "   salary_assesment   CA   GA   IL   NY   PA  SFCA   TX   WA  other\n",
       "0                 0  0.0  0.0  0.0  1.0  0.0   0.0  0.0  0.0    0.0\n",
       "1                 0  0.0  0.0  0.0  1.0  0.0   0.0  0.0  0.0    0.0\n",
       "2                 1  0.0  0.0  0.0  1.0  0.0   0.0  0.0  0.0    0.0\n",
       "3                 1  0.0  0.0  0.0  1.0  0.0   0.0  0.0  0.0    0.0\n",
       "4                 1  0.0  0.0  0.0  1.0  0.0   0.0  0.0  0.0    0.0"
      ]
     },
     "execution_count": 33,
     "metadata": {},
     "output_type": "execute_result"
    }
   ],
   "source": [
    "# We need first to transform categorical data into dummies variable so that to perform the logistic regression\n",
    "\n",
    "dummies_state=pd.get_dummies(data[\"State\"])\n",
    "study_1=pd.concat([data[\"salary_assesment\"],dummies_state],axis=1)\n",
    "study_1.head()"
   ]
  },
  {
   "cell_type": "code",
   "execution_count": 34,
   "metadata": {
    "collapsed": true
   },
   "outputs": [],
   "source": [
    "# Let's define our predictor X which is the whole regions and our target wich is the salary assessment\n",
    "X=study_1.iloc[:,1:]\n",
    "y=study_1.iloc[:,0]\n",
    "\n",
    "logit=LogisticRegression(fit_intercept=True)\n",
    "model=logit.fit(X,y)"
   ]
  },
  {
   "cell_type": "code",
   "execution_count": 35,
   "metadata": {
    "collapsed": false
   },
   "outputs": [
    {
     "data": {
      "text/html": [
       "<div>\n",
       "<table border=\"1\" class=\"dataframe\">\n",
       "  <thead>\n",
       "    <tr style=\"text-align: right;\">\n",
       "      <th></th>\n",
       "      <th>Coeff_regression</th>\n",
       "      <th>odds</th>\n",
       "    </tr>\n",
       "  </thead>\n",
       "  <tbody>\n",
       "    <tr>\n",
       "      <th>CA</th>\n",
       "      <td>0.055184</td>\n",
       "      <td>1.056735</td>\n",
       "    </tr>\n",
       "    <tr>\n",
       "      <th>GA</th>\n",
       "      <td>-0.639987</td>\n",
       "      <td>0.527299</td>\n",
       "    </tr>\n",
       "    <tr>\n",
       "      <th>IL</th>\n",
       "      <td>-0.058719</td>\n",
       "      <td>0.942972</td>\n",
       "    </tr>\n",
       "    <tr>\n",
       "      <th>NY</th>\n",
       "      <td>0.125576</td>\n",
       "      <td>1.133801</td>\n",
       "    </tr>\n",
       "    <tr>\n",
       "      <th>PA</th>\n",
       "      <td>-0.639987</td>\n",
       "      <td>0.527299</td>\n",
       "    </tr>\n",
       "    <tr>\n",
       "      <th>SFCA</th>\n",
       "      <td>1.745409</td>\n",
       "      <td>5.728242</td>\n",
       "    </tr>\n",
       "    <tr>\n",
       "      <th>TX</th>\n",
       "      <td>0.046367</td>\n",
       "      <td>1.047459</td>\n",
       "    </tr>\n",
       "    <tr>\n",
       "      <th>WA</th>\n",
       "      <td>0.542733</td>\n",
       "      <td>1.720703</td>\n",
       "    </tr>\n",
       "    <tr>\n",
       "      <th>other</th>\n",
       "      <td>-1.253839</td>\n",
       "      <td>0.285407</td>\n",
       "    </tr>\n",
       "  </tbody>\n",
       "</table>\n",
       "</div>"
      ],
      "text/plain": [
       "       Coeff_regression      odds\n",
       "CA             0.055184  1.056735\n",
       "GA            -0.639987  0.527299\n",
       "IL            -0.058719  0.942972\n",
       "NY             0.125576  1.133801\n",
       "PA            -0.639987  0.527299\n",
       "SFCA           1.745409  5.728242\n",
       "TX             0.046367  1.047459\n",
       "WA             0.542733  1.720703\n",
       "other         -1.253839  0.285407"
      ]
     },
     "execution_count": 35,
     "metadata": {},
     "output_type": "execute_result"
    }
   ],
   "source": [
    "#Let's look at coeficients, which represent when applying the exponential function on it, \n",
    "#the odd of getting a high salary coming from that particular region\n",
    "coeff_study_1=pd.DataFrame(np.transpose(model.coef_),index=study_1.columns.values[1:],columns=[\"Coeff_regression\"])\n",
    "coeff_study_1[\"odds\"]=coeff_study_1[\"Coeff_regression\"].apply(np.exp)\n",
    "coeff_study_1"
   ]
  },
  {
   "cell_type": "markdown",
   "metadata": {},
   "source": [
    "As highlighted in the graph above, it confirms Data Scientist in San Francisco have a much higher salary. A data scientist in San Francisco is 6 times more likely to get a salary considered as high compared to the one in other states."
   ]
  },
  {
   "cell_type": "code",
   "execution_count": 36,
   "metadata": {
    "collapsed": true
   },
   "outputs": [],
   "source": [
    "# This function is to plot the confusion matrix\n",
    "\n",
    "import itertools\n",
    "\n",
    "def plot_confusion_matrix(cm, classes, title='Confusion matrix', cmap=plt.cm.Blues):\n",
    "    plt.imshow(cm, interpolation='nearest', cmap=cmap)\n",
    "    plt.title(title)\n",
    "    plt.colorbar()\n",
    "    tick_marks = np.arange(len(classes))\n",
    "    plt.xticks(tick_marks, classes, rotation=45)\n",
    "    plt.yticks(tick_marks, classes)\n",
    "    thresh = cm.max() / 2.\n",
    "    for i, j in itertools.product(range(cm.shape[0]), range(cm.shape[1])):\n",
    "        plt.text(j, i, cm[i, j],\n",
    "                 horizontalalignment=\"center\",\n",
    "                 color=\"white\" if cm[i, j] > thresh else \"black\")\n",
    "    plt.ylabel('True label')\n",
    "    plt.xlabel('Predicted label')\n",
    "    plt.show()\n",
    "    return"
   ]
  },
  {
   "cell_type": "code",
   "execution_count": 37,
   "metadata": {
    "collapsed": false
   },
   "outputs": [
    {
     "data": {
      "image/png": "[encoded data removed]",
      "text/plain": [
       "<matplotlib.figure.Figure at 0x11a20dd90>"
      ]
     },
     "metadata": {},
     "output_type": "display_data"
    },
    {
     "name": "stdout",
     "output_type": "stream",
     "text": [
      "Acccuracy: 0.540540540541\n"
     ]
    }
   ],
   "source": [
    "#Let's apply now a logistic regression on a train test model\n",
    "X_train, X_test, y_train, y_test= train_test_split(X,y, test_size=0.40, random_state=33)\n",
    "\n",
    "logit=LogisticRegression(fit_intercept=True)\n",
    "model=logit.fit(X_train,y_train)\n",
    "prediction=model.predict(X_test)\n",
    "\n",
    "conf=confusion_matrix(y_test,prediction)\n",
    "\n",
    "plot_confusion_matrix(conf,classes=model.classes_,title='Confusion matrix - based on State')\n",
    "acc=accuracy_score(y_test,prediction)\n",
    "print \"Acccuracy:\", acc"
   ]
  },
  {
   "cell_type": "markdown",
   "metadata": {},
   "source": [
    "We can  notice the accuracy is so good, probably due to the fact that our test sample is small.  \n",
    "Also some regions as New York or the one we created \"Other\" contains various salary as there are different job positions.  "
   ]
  },
  {
   "cell_type": "code",
   "execution_count": 38,
   "metadata": {
    "collapsed": false,
    "focus": false,
    "id": "068dc1cf-7fd7-4f27-a1f1-7f0a5a221d29"
   },
   "outputs": [
    {
     "data": {
      "text/plain": [
       "<function matplotlib.pyplot.plot>"
      ]
     },
     "execution_count": 38,
     "metadata": {},
     "output_type": "execute_result"
    },
    {
     "data": {
      "image/png": "[encoded data removed]",
      "text/plain": [
       "<matplotlib.figure.Figure at 0x119c42150>"
      ]
     },
     "metadata": {},
     "output_type": "display_data"
    }
   ],
   "source": [
    "\n",
    "# Let's now look at correlation between salary and jobtitle\n",
    "# Bearing in mind that we reshaped 2 jobtitles.\n",
    "\n",
    "sns.boxplot(x=\"reshaped_jobtitle\",y=\"average salary\",data=data)\n",
    "plt.ylim((0,250000))\n",
    "\n",
    "sns.plt.plot"
   ]
  },
  {
   "cell_type": "markdown",
   "metadata": {},
   "source": [
    "This boxplot shows us that 75% of Senior Data Scientist get a yearly salary higher than US\\$ 140000 while 75% of Data Scientist from the sample get a salary lower than US$ 145000.\n",
    "The accuracy will then probably be higher in that case."
   ]
  },
  {
   "cell_type": "code",
   "execution_count": 39,
   "metadata": {
    "collapsed": false
   },
   "outputs": [
    {
     "data": {
      "image/png": "[encoded data removed]",
      "text/plain": [
       "<matplotlib.figure.Figure at 0x1170b7790>"
      ]
     },
     "metadata": {},
     "output_type": "display_data"
    },
    {
     "name": "stdout",
     "output_type": "stream",
     "text": [
      "Accuracy: 0.702702702703\n",
      "The classification report is as following:\n",
      "             precision    recall  f1-score   support\n",
      "\n",
      "          0       0.70      0.80      0.74        20\n",
      "          1       0.71      0.59      0.65        17\n",
      "\n",
      "avg / total       0.70      0.70      0.70        37\n",
      "\n"
     ]
    }
   ],
   "source": [
    "# We need first to transform categorical data into dummies variable so that to perform the logistic regression\n",
    "\n",
    "dummies_jobtitle=pd.get_dummies(data[\"reshaped_jobtitle\"])\n",
    "study_2=pd.concat([data[\"salary_assesment\"],dummies_jobtitle],axis=1)\n",
    "\n",
    "# Let's define our predictor X which is the whole regions and our target wich is the salary assessment\n",
    "X=study_2.iloc[:,1:]\n",
    "y=study_2.iloc[:,0]\n",
    "\n",
    "#Let's apply now a regression on a train test model\n",
    "X_train, X_test, y_train, y_test= train_test_split(X,y, test_size=0.40, random_state=33)\n",
    "\n",
    "logit=LogisticRegression(fit_intercept=True)\n",
    "model=logit.fit(X_train,y_train)\n",
    "prediction=model.predict(X_test)\n",
    "\n",
    "conf=confusion_matrix(y_test,prediction)\n",
    "\n",
    "plot_confusion_matrix(conf,model.classes_,title='Confusion matrix - based on Job title')\n",
    "\n",
    "\n",
    "acc=accuracy_score(y_test,prediction)\n",
    "\n",
    "print \"Accuracy:\", acc\n",
    "\n",
    "clf_r=classification_report(y_test,prediction)\n",
    "print \"The classification report is as following:\"\n",
    "print clf_r"
   ]
  },
  {
   "cell_type": "markdown",
   "metadata": {},
   "source": [
    "For the same sample we have a better accuracy.\n",
    "Also I looked that time to the classification report, notably the precision and the recall.  \n",
    "The precision represents the number of True  “high salary” predicted over “high salary” predicted. The recall represents the number of True “high salary” predicted over the number of true “high salary”.  \n",
    "The report shows that recall is low and lower than the precision. It means that the model is conservative, we will more likely classify a job within the low salary category.  \n",
    "At the next step we will use the cross_validation which will enable to compare our model in different packets of our sample. "
   ]
  },
  {
   "cell_type": "code",
   "execution_count": 40,
   "metadata": {
    "collapsed": false
   },
   "outputs": [
    {
     "name": "stdout",
     "output_type": "stream",
     "text": [
      "Accuracy: [ 0.70967742  0.7         0.7       ]\n"
     ]
    }
   ],
   "source": [
    "X=study_2.iloc[:,1:]\n",
    "y=study_2.iloc[:,0]\n",
    "\n",
    "logit=LogisticRegression(fit_intercept=True,random_state=33)\n",
    "\n",
    "score=cross_val_score(logit,X,y,cv=3)\n",
    "\n",
    "print \"Accuracy:\", score"
   ]
  },
  {
   "cell_type": "markdown",
   "metadata": {},
   "source": [
    "The score for this model is about 0.7 for each validation. Even if it is better as the previous model, we can't consider the jobtitle as a unique good predictor as we mistaken 30% of the sample.\n",
    "However it seems the salary depends on the job title and the location Let's have a look at the distribution for our sample."
   ]
  },
  {
   "cell_type": "code",
   "execution_count": 41,
   "metadata": {
    "collapsed": false
   },
   "outputs": [
    {
     "data": {
      "image/png": "[encoded data removed]",
      "text/plain": [
       "<matplotlib.figure.Figure at 0x11a20d650>"
      ]
     },
     "metadata": {},
     "output_type": "display_data"
    }
   ],
   "source": [
    "sns.swarmplot(x=\"State\", y=\"average salary\", hue=\"reshaped_jobtitle\", data=data)\n",
    "plt.axhline(np.median(data[\"average salary\"]),c=\"Darkred\")\n",
    "sns.plt.show()"
   ]
  },
  {
   "cell_type": "markdown",
   "metadata": {},
   "source": [
    "The Darkred horizontal line, representing the separation between categories high and \"low\" salary for data scientist, clearly points out that most of Senior Data Scientist job’s salary are above the median. Also, the Salary of Data Scientist vary depending on the city."
   ]
  },
  {
   "cell_type": "code",
   "execution_count": 42,
   "metadata": {
    "collapsed": false
   },
   "outputs": [
    {
     "data": {
      "image/png": "[encoded data removed]",
      "text/plain": [
       "<matplotlib.figure.Figure at 0x11a44de10>"
      ]
     },
     "metadata": {},
     "output_type": "display_data"
    },
    {
     "name": "stdout",
     "output_type": "stream",
     "text": [
      "Accuracy: 0.72972972973\n",
      "The classification report is as following:\n",
      "             precision    recall  f1-score   support\n",
      "\n",
      "          0       0.73      0.80      0.76        20\n",
      "          1       0.73      0.65      0.69        17\n",
      "\n",
      "avg / total       0.73      0.73      0.73        37\n",
      "\n"
     ]
    }
   ],
   "source": [
    "# Let look at how the logistic regression look likes.\n",
    "# We need first to transform the categorical data into dummies variable so that to perform the logistic regression\n",
    "\n",
    "\n",
    "study_3=pd.concat([data[\"salary_assesment\"],dummies_jobtitle,dummies_state],axis=1)\n",
    "\n",
    "# Let's define our predictor X which is the whole regions + job titles and our target wich is the salary assessment\n",
    "X=study_3.iloc[:,1:]\n",
    "y=study_3.iloc[:,0]\n",
    "\n",
    "#Let's apply now a regression on a train test model\n",
    "X_train, X_test, y_train, y_test= train_test_split(X,y, test_size=0.40, random_state=33)\n",
    "\n",
    "logit=LogisticRegression(fit_intercept=True)\n",
    "model=logit.fit(X_train,y_train)\n",
    "prediction=model.predict(X_test)\n",
    "\n",
    "conf=confusion_matrix(y_test,prediction)\n",
    "\n",
    "plot_confusion_matrix(conf,model.classes_,title=\"Confusion matrix - based on Job title and State\")\n",
    "\n",
    "\n",
    "acc=accuracy_score(y_test,prediction)\n",
    "\n",
    "print \"Accuracy:\", acc\n",
    "\n",
    "clf_r=classification_report(y_test,prediction)\n",
    "print \"The classification report is as following:\"\n",
    "print clf_r"
   ]
  },
  {
   "cell_type": "markdown",
   "metadata": {},
   "source": [
    "With the same sample, figures look a little bit better.  Let's confirm it with a cross validation"
   ]
  },
  {
   "cell_type": "code",
   "execution_count": 43,
   "metadata": {
    "collapsed": false
   },
   "outputs": [
    {
     "name": "stdout",
     "output_type": "stream",
     "text": [
      "Acccuracy: [ 0.74193548  0.73333333  0.73333333]\n"
     ]
    }
   ],
   "source": [
    "X=study_3.iloc[:,1:]\n",
    "y=study_3.iloc[:,0]\n",
    "\n",
    "logit=LogisticRegression(fit_intercept=True,random_state=33)\n",
    "\n",
    "score=cross_val_score(logit,X,y,cv=3)\n",
    "\n",
    "print \"Acccuracy:\", score"
   ]
  },
  {
   "cell_type": "markdown",
   "metadata": {},
   "source": [
    "As this is the best model of the three, let's use this predictor and try to improve the Logistic regression model not it.    \n",
    "To that extent, we can adjust 2 p arameters:    \n",
    "    * the regularisation term of the Loss function with a penalty equal to 'l1' or 'l2'( by default) norms, respectively corresponding to Lasso and Ridge regularisation. As a reminder this term added to the loss function permits to prevent from overfitting;  \n",
    "    * the C score hyperparameters which fix the influence of the regularisation term. The smaller is the C the stronger is the regularisation term of our loss function.  \n",
    "    \n",
    "In order to quickly find the best fit, I am using the GridSearch function which will give the result based on a range of C and penalties."
   ]
  },
  {
   "cell_type": "code",
   "execution_count": 44,
   "metadata": {
    "collapsed": false
   },
   "outputs": [
    {
     "name": "stdout",
     "output_type": "stream",
     "text": [
      "Fitting 3 folds for each of 24 candidates, totalling 72 fits\n"
     ]
    },
    {
     "name": "stderr",
     "output_type": "stream",
     "text": [
      "[Parallel(n_jobs=1)]: Done  72 out of  72 | elapsed:    0.3s finished\n"
     ]
    },
    {
     "data": {
      "text/plain": [
       "GridSearchCV(cv=3, error_score='raise',\n",
       "       estimator=LogisticRegression(C=1.0, class_weight=None, dual=False, fit_intercept=True,\n",
       "          intercept_scaling=1, max_iter=100, multi_class='ovr', n_jobs=1,\n",
       "          penalty='l2', random_state=None, solver='liblinear', tol=0.0001,\n",
       "          verbose=0, warm_start=False),\n",
       "       fit_params={}, iid=True, n_jobs=1,\n",
       "       param_grid={'penalty': ['l1', 'l2'], 'C': [0.0001, 0.001, 0.01, 0.1, 0.5, 0.75, 1.0, 2.5, 5.0, 10.0, 100.0, 1000.0]},\n",
       "       pre_dispatch='2*n_jobs', refit=True, return_train_score=True,\n",
       "       scoring='accuracy', verbose=True)"
      ]
     },
     "execution_count": 44,
     "metadata": {},
     "output_type": "execute_result"
    }
   ],
   "source": [
    "from sklearn.model_selection import GridSearchCV\n",
    "\n",
    "X=study_3.iloc[:,1:]\n",
    "y=study_3.iloc[:,0]\n",
    "\n",
    "#Let's apply now a regression on a train test model\n",
    "X_train, X_test, y_train, y_test= train_test_split(X,y, test_size=0.40, random_state=33)\n",
    "\n",
    "C_vals = [0.0001, 0.001, 0.01, 0.1, 0.5, 0.75, 1.0, 2.5, 5.0, 10.0, 100.0, 1000.0]\n",
    "penalties = ['l1','l2']\n",
    "\n",
    "logit=LogisticRegression(fit_intercept=True)\n",
    "gs = GridSearchCV(logit,{'penalty':penalties,'C':C_vals},cv=3, verbose=True,scoring=\"accuracy\")\n",
    "gs.fit(X_train,y_train)"
   ]
  },
  {
   "cell_type": "code",
   "execution_count": 45,
   "metadata": {
    "collapsed": false
   },
   "outputs": [
    {
     "name": "stdout",
     "output_type": "stream",
     "text": [
      "Best Accuracy score is: 0.759259259259\n",
      "Best parameters are {'penalty': 'l1', 'C': 1.0}\n",
      "the best C coefficient is the default one however we will chose a Lasso regularization\n"
     ]
    }
   ],
   "source": [
    "print \"Best Accuracy score is:\", gs.best_score_\n",
    "print \"Best parameters are\",gs.best_params_\n",
    "print \"the best C coefficient is the default one however we will chose a Lasso regularization\""
   ]
  },
  {
   "cell_type": "code",
   "execution_count": 46,
   "metadata": {
    "collapsed": false
   },
   "outputs": [
    {
     "data": {
      "image/png": "[encoded data removed]",
      "text/plain": [
       "<matplotlib.figure.Figure at 0x11aa7a450>"
      ]
     },
     "metadata": {},
     "output_type": "display_data"
    },
    {
     "name": "stdout",
     "output_type": "stream",
     "text": [
      "Accuracy: 0.756756756757\n",
      "The classification report is as following:\n",
      "             precision    recall  f1-score   support\n",
      "\n",
      "          0       0.74      0.85      0.79        20\n",
      "          1       0.79      0.65      0.71        17\n",
      "\n",
      "avg / total       0.76      0.76      0.75        37\n",
      "\n"
     ]
    }
   ],
   "source": [
    "# Now we can apply penalty and C to our test set.\n",
    "\n",
    "X=study_3.iloc[:,1:]\n",
    "y=study_3.iloc[:,0]\n",
    "\n",
    "#Let's apply now a regression on a train test model\n",
    "X_train, X_test, y_train, y_test= train_test_split(X,y, test_size=0.40, random_state=33)\n",
    "\n",
    "logit=LogisticRegression(C=1,penalty=\"l1\",fit_intercept=True)\n",
    "model=logit.fit(X_train,y_train)\n",
    "prediction=model.predict(X_test)\n",
    "\n",
    "conf=confusion_matrix(y_test,prediction)\n",
    "\n",
    "plot_confusion_matrix(conf,model.classes_,title=\"Confusion matrix - based on Job title and State\")\n",
    "\n",
    "\n",
    "acc=accuracy_score(y_test,prediction)\n",
    "\n",
    "print \"Accuracy:\", acc\n",
    "\n",
    "clf_r=classification_report(y_test,prediction)\n",
    "print \"The classification report is as following:\"\n",
    "print clf_r\n"
   ]
  },
  {
   "cell_type": "markdown",
   "metadata": {},
   "source": [
    "Even if the model got a better accuracy, we can still notice that it is staying too much conservative. A good way to visualise this, is by drawing the ROC curve.  \n",
    "The ROC curve compares the true positive rate against the false positive rate. It is unaffected by the distribution of class labels since it only comparing the correct vs. incorrect label assignments for one class."
   ]
  },
  {
   "cell_type": "code",
   "execution_count": 47,
   "metadata": {
    "collapsed": false
   },
   "outputs": [
    {
     "data": {
      "image/png": "[encoded data removed]",
      "text/plain": [
       "<matplotlib.figure.Figure at 0x11a8eb790>"
      ]
     },
     "metadata": {},
     "output_type": "display_data"
    }
   ],
   "source": [
    "from sklearn.metrics import roc_curve, auc\n",
    "import matplotlib.pyplot as plt\n",
    "plt.style.use('seaborn-white')\n",
    "%matplotlib inline\n",
    "\n",
    "\n",
    "Y_score = logit.decision_function(X_test)\n",
    "\n",
    "# For class malignant, find the area under the curve\n",
    "FPR, TPR, THR = roc_curve(y_test, Y_score)\n",
    "ROC_AUC = auc(FPR, TPR)\n",
    "\n",
    "# Plot of a ROC curve for class 1 (has_cancer)\n",
    "#plt.figure(figsize=[11,9])\n",
    "plt.plot(FPR, TPR, label='ROC curve (area = %0.2f)' % ROC_AUC, linewidth=4)\n",
    "plt.plot([0, 1], [0, 1], 'k--', linewidth=4)\n",
    "plt.xlim([0.0, 1.0])\n",
    "plt.ylim([0.0, 1.05])\n",
    "plt.xlabel('False Positive Rate (1-specificity)', fontsize=18)\n",
    "plt.ylabel('True Positive Rate (sensitivity)', fontsize=18)\n",
    "plt.title('ROC curve for High Salary detection', fontsize=18)\n",
    "plt.legend(loc=\"lower right\")\n",
    "plt.show()"
   ]
  },
  {
   "cell_type": "markdown",
   "metadata": {},
   "source": [
    "The closiest to the diagonale the more conservative and less accurate is our model. An accurate model would be the one with a curve being tangent to the top left.\n"
   ]
  },
  {
   "cell_type": "code",
   "execution_count": 48,
   "metadata": {
    "collapsed": false
   },
   "outputs": [
    {
     "data": {
      "image/png": "[encoded data removed]",
      "text/plain": [
       "<matplotlib.figure.Figure at 0x119584490>"
      ]
     },
     "metadata": {},
     "output_type": "display_data"
    },
    {
     "data": {
      "image/png": "[encoded data removed]",
      "text/plain": [
       "<matplotlib.figure.Figure at 0x11956e090>"
      ]
     },
     "metadata": {},
     "output_type": "display_data"
    }
   ],
   "source": [
    "# As an example, even if our model is already conservative, we could want it to be even more and force the model to classify  more position as a low salary.\n",
    "#This would apply in the case of a recruitment agency who would rather tell a client that\n",
    "#he would get a lower salary for that job than tell a client incorrectly that they would get a high salary.\n",
    "\n",
    "#To that extent I am creating a new vector Y_pp, that will return a high salary if the probability of getting salary is superior to 0,35. \n",
    "\n",
    "Y_pp = [0 if x[0]>0.65 else 1 for x in logit.predict_proba(X_test)]\n",
    "\n",
    "conf=confusion_matrix(y_test,Y_pp)\n",
    "\n",
    "plot_confusion_matrix(conf,model.classes_,title=\"Confusion matrix - biased model, based on Job title and State\")\n",
    "\n",
    "\n",
    "# For class , find the area under the curve\n",
    "FPR, TPR, THR = roc_curve(y_test, Y_pp)\n",
    "ROC_AUC = auc(FPR, TPR)\n",
    "\n",
    "# Plot of a ROC curve for class 1 (has_cancer)\n",
    "#plt.figure(figsize=[11,9])\n",
    "plt.plot(FPR, TPR, label='ROC curve (area = %0.2f)' % ROC_AUC, linewidth=4)\n",
    "plt.plot([0, 1], [0, 1], 'k--', linewidth=4)\n",
    "plt.xlim([0.0, 1.0])\n",
    "plt.ylim([0.0, 1.05])\n",
    "plt.xlabel('False Positive Rate (1-specificity)', fontsize=18)\n",
    "plt.ylabel('True Positive Rate (sensitivity)', fontsize=18)\n",
    "plt.title('ROC curve for High Salary detection', fontsize=18)\n",
    "plt.legend(loc=\"lower right\")\n",
    "plt.show()"
   ]
  },
  {
   "cell_type": "markdown",
   "metadata": {},
   "source": [
    "** Of course, it does not make sense here as the previous model was already not accurate enough!**"
   ]
  },
  {
   "cell_type": "markdown",
   "metadata": {},
   "source": [
    "_In the following, I am trying to find a model not for a binary oupput but for 3 range of Salary for data scientist.\n",
    "This would reflect more the reality._"
   ]
  },
  {
   "cell_type": "code",
   "execution_count": 109,
   "metadata": {
    "collapsed": false
   },
   "outputs": [
    {
     "data": {
      "text/html": [
       "<div>\n",
       "<table border=\"1\" class=\"dataframe\">\n",
       "  <thead>\n",
       "    <tr style=\"text-align: right;\">\n",
       "      <th></th>\n",
       "      <th>Company</th>\n",
       "      <th>Jobtitle</th>\n",
       "      <th>Location</th>\n",
       "      <th>Summary</th>\n",
       "      <th>average salary</th>\n",
       "      <th>reshaped_jobtitle</th>\n",
       "      <th>State</th>\n",
       "    </tr>\n",
       "  </thead>\n",
       "  <tbody>\n",
       "    <tr>\n",
       "      <th>0</th>\n",
       "      <td>Scienaptic Systems Inc</td>\n",
       "      <td>Data Scientist</td>\n",
       "      <td>New York, NY</td>\n",
       "      <td>\\nWe are looking for an energetic and experien...</td>\n",
       "      <td>100000</td>\n",
       "      <td>data scientist</td>\n",
       "      <td>NY</td>\n",
       "    </tr>\n",
       "    <tr>\n",
       "      <th>1</th>\n",
       "      <td>POLICE DEPARTMENT</td>\n",
       "      <td>Data Analytics Research Scientist</td>\n",
       "      <td>New York, NY</td>\n",
       "      <td>\\nExtensive knowledge of applied statistics, a...</td>\n",
       "      <td>79249</td>\n",
       "      <td>data scientist</td>\n",
       "      <td>NY</td>\n",
       "    </tr>\n",
       "    <tr>\n",
       "      <th>2</th>\n",
       "      <td>Averity</td>\n",
       "      <td>Mid-level Data Scientist For Top Travel Company</td>\n",
       "      <td>New York, NY</td>\n",
       "      <td>\\nAre you a Mid-level Data Scientist looking t...</td>\n",
       "      <td>100000</td>\n",
       "      <td>data scientist</td>\n",
       "      <td>NY</td>\n",
       "    </tr>\n",
       "    <tr>\n",
       "      <th>3</th>\n",
       "      <td>DEPT OF ENVIRONMENT PROTECTION</td>\n",
       "      <td>City Research Scientist</td>\n",
       "      <td>New York, NY</td>\n",
       "      <td>\\nParticipating in data collection, analysis, ...</td>\n",
       "      <td>79249</td>\n",
       "      <td>data scientist</td>\n",
       "      <td>NY</td>\n",
       "    </tr>\n",
       "    <tr>\n",
       "      <th>4</th>\n",
       "      <td>Wade &amp; Wendy</td>\n",
       "      <td>Wade &amp; Wendy_Data Scientist/Engineer</td>\n",
       "      <td>New York, NY</td>\n",
       "      <td>\\nOur Data Scientist will integrate data from ...</td>\n",
       "      <td>100000</td>\n",
       "      <td>data scientist</td>\n",
       "      <td>NY</td>\n",
       "    </tr>\n",
       "  </tbody>\n",
       "</table>\n",
       "</div>"
      ],
      "text/plain": [
       "                              Company  \\\n",
       "0              Scienaptic Systems Inc   \n",
       "1                   POLICE DEPARTMENT   \n",
       "2                             Averity   \n",
       "3      DEPT OF ENVIRONMENT PROTECTION   \n",
       "4                        Wade & Wendy   \n",
       "\n",
       "                                          Jobtitle      Location  \\\n",
       "0                                   Data Scientist  New York, NY   \n",
       "1                Data Analytics Research Scientist  New York, NY   \n",
       "2  Mid-level Data Scientist For Top Travel Company  New York, NY   \n",
       "3                          City Research Scientist  New York, NY   \n",
       "4             Wade & Wendy_Data Scientist/Engineer  New York, NY   \n",
       "\n",
       "                                             Summary  average salary  \\\n",
       "0  \\nWe are looking for an energetic and experien...          100000   \n",
       "1  \\nExtensive knowledge of applied statistics, a...           79249   \n",
       "2  \\nAre you a Mid-level Data Scientist looking t...          100000   \n",
       "3  \\nParticipating in data collection, analysis, ...           79249   \n",
       "4  \\nOur Data Scientist will integrate data from ...          100000   \n",
       "\n",
       "  reshaped_jobtitle State  \n",
       "0    data scientist    NY  \n",
       "1    data scientist    NY  \n",
       "2    data scientist    NY  \n",
       "3    data scientist    NY  \n",
       "4    data scientist    NY  "
      ]
     },
     "execution_count": 109,
     "metadata": {},
     "output_type": "execute_result"
    }
   ],
   "source": [
    "import numpy as np\n",
    "import pandas as pd\n",
    "import matplotlib.pyplot as plt\n",
    "import seaborn as sns\n",
    "%matplotlib inline\n",
    "\n",
    "\n",
    "## YOUR CODE HERE\n",
    "\n",
    "data=pd.read_csv(\"indeed_with_sum.csv\")\n",
    "del data[\"Unnamed: 0\"]\n",
    "data.head()\n"
   ]
  },
  {
   "cell_type": "code",
   "execution_count": 129,
   "metadata": {
    "collapsed": false
   },
   "outputs": [
    {
     "data": {
      "text/html": [
       "<div>\n",
       "<table border=\"1\" class=\"dataframe\">\n",
       "  <thead>\n",
       "    <tr style=\"text-align: right;\">\n",
       "      <th></th>\n",
       "      <th>Company</th>\n",
       "      <th>Jobtitle</th>\n",
       "      <th>Location</th>\n",
       "      <th>Summary</th>\n",
       "      <th>average salary</th>\n",
       "      <th>reshaped_jobtitle</th>\n",
       "      <th>State</th>\n",
       "      <th>salary_assesment</th>\n",
       "    </tr>\n",
       "  </thead>\n",
       "  <tbody>\n",
       "    <tr>\n",
       "      <th>0</th>\n",
       "      <td>Scienaptic Systems Inc</td>\n",
       "      <td>Data Scientist</td>\n",
       "      <td>New York, NY</td>\n",
       "      <td>\\nWe are looking for an energetic and experien...</td>\n",
       "      <td>100000</td>\n",
       "      <td>data scientist</td>\n",
       "      <td>NY</td>\n",
       "      <td>(26589.813, 101208.667]</td>\n",
       "    </tr>\n",
       "    <tr>\n",
       "      <th>1</th>\n",
       "      <td>POLICE DEPARTMENT</td>\n",
       "      <td>Data Analytics Research Scientist</td>\n",
       "      <td>New York, NY</td>\n",
       "      <td>\\nExtensive knowledge of applied statistics, a...</td>\n",
       "      <td>79249</td>\n",
       "      <td>data scientist</td>\n",
       "      <td>NY</td>\n",
       "      <td>(26589.813, 101208.667]</td>\n",
       "    </tr>\n",
       "    <tr>\n",
       "      <th>2</th>\n",
       "      <td>Averity</td>\n",
       "      <td>Mid-level Data Scientist For Top Travel Company</td>\n",
       "      <td>New York, NY</td>\n",
       "      <td>\\nAre you a Mid-level Data Scientist looking t...</td>\n",
       "      <td>100000</td>\n",
       "      <td>data scientist</td>\n",
       "      <td>NY</td>\n",
       "      <td>(26589.813, 101208.667]</td>\n",
       "    </tr>\n",
       "    <tr>\n",
       "      <th>3</th>\n",
       "      <td>DEPT OF ENVIRONMENT PROTECTION</td>\n",
       "      <td>City Research Scientist</td>\n",
       "      <td>New York, NY</td>\n",
       "      <td>\\nParticipating in data collection, analysis, ...</td>\n",
       "      <td>79249</td>\n",
       "      <td>data scientist</td>\n",
       "      <td>NY</td>\n",
       "      <td>(26589.813, 101208.667]</td>\n",
       "    </tr>\n",
       "    <tr>\n",
       "      <th>4</th>\n",
       "      <td>Wade &amp; Wendy</td>\n",
       "      <td>Wade &amp; Wendy_Data Scientist/Engineer</td>\n",
       "      <td>New York, NY</td>\n",
       "      <td>\\nOur Data Scientist will integrate data from ...</td>\n",
       "      <td>100000</td>\n",
       "      <td>data scientist</td>\n",
       "      <td>NY</td>\n",
       "      <td>(26589.813, 101208.667]</td>\n",
       "    </tr>\n",
       "    <tr>\n",
       "      <th>5</th>\n",
       "      <td>Averity</td>\n",
       "      <td>Lead Data Scientist - Top Data Consultancy</td>\n",
       "      <td>New York, NY</td>\n",
       "      <td>\\nAre you a experienced Data Scientist who wan...</td>\n",
       "      <td>140000</td>\n",
       "      <td>senior data scientist</td>\n",
       "      <td>NY</td>\n",
       "      <td>(101208.667, 175604.333]</td>\n",
       "    </tr>\n",
       "    <tr>\n",
       "      <th>6</th>\n",
       "      <td>Averity</td>\n",
       "      <td>Lead Data Scientist (New Jersey)</td>\n",
       "      <td>New York, NY</td>\n",
       "      <td>\\nWe are hiring a Lead Data Scientist for our ...</td>\n",
       "      <td>150000</td>\n",
       "      <td>senior data scientist</td>\n",
       "      <td>NY</td>\n",
       "      <td>(101208.667, 175604.333]</td>\n",
       "    </tr>\n",
       "    <tr>\n",
       "      <th>7</th>\n",
       "      <td>Selby Jennings</td>\n",
       "      <td>Senior Data Scientist</td>\n",
       "      <td>New York, NY 10167 (Midtown area)</td>\n",
       "      <td>\\nSenior Data Scientist. Data Intelligence Sof...</td>\n",
       "      <td>167500</td>\n",
       "      <td>senior data scientist</td>\n",
       "      <td>NY</td>\n",
       "      <td>(101208.667, 175604.333]</td>\n",
       "    </tr>\n",
       "    <tr>\n",
       "      <th>8</th>\n",
       "      <td>Princeton Consulting</td>\n",
       "      <td>Data Scientist</td>\n",
       "      <td>New York, NY 10018 (Clinton area)</td>\n",
       "      <td>\\nDigest complex data structures, perform stat...</td>\n",
       "      <td>192500</td>\n",
       "      <td>data scientist</td>\n",
       "      <td>NY</td>\n",
       "      <td>(175604.333, 250000]</td>\n",
       "    </tr>\n",
       "    <tr>\n",
       "      <th>9</th>\n",
       "      <td>Beeswax</td>\n",
       "      <td>Senior / Director Data Science</td>\n",
       "      <td>New York, NY</td>\n",
       "      <td>\\nA minimum of 5 years experience in Machine l...</td>\n",
       "      <td>147500</td>\n",
       "      <td>senior data scientist</td>\n",
       "      <td>NY</td>\n",
       "      <td>(101208.667, 175604.333]</td>\n",
       "    </tr>\n",
       "  </tbody>\n",
       "</table>\n",
       "</div>"
      ],
      "text/plain": [
       "                              Company  \\\n",
       "0              Scienaptic Systems Inc   \n",
       "1                   POLICE DEPARTMENT   \n",
       "2                             Averity   \n",
       "3      DEPT OF ENVIRONMENT PROTECTION   \n",
       "4                        Wade & Wendy   \n",
       "5                             Averity   \n",
       "6                             Averity   \n",
       "7                      Selby Jennings   \n",
       "8                Princeton Consulting   \n",
       "9                             Beeswax   \n",
       "\n",
       "                                          Jobtitle  \\\n",
       "0                                   Data Scientist   \n",
       "1                Data Analytics Research Scientist   \n",
       "2  Mid-level Data Scientist For Top Travel Company   \n",
       "3                          City Research Scientist   \n",
       "4             Wade & Wendy_Data Scientist/Engineer   \n",
       "5       Lead Data Scientist - Top Data Consultancy   \n",
       "6                 Lead Data Scientist (New Jersey)   \n",
       "7                            Senior Data Scientist   \n",
       "8                                   Data Scientist   \n",
       "9                   Senior / Director Data Science   \n",
       "\n",
       "                            Location  \\\n",
       "0                       New York, NY   \n",
       "1                       New York, NY   \n",
       "2                       New York, NY   \n",
       "3                       New York, NY   \n",
       "4                       New York, NY   \n",
       "5                       New York, NY   \n",
       "6                       New York, NY   \n",
       "7  New York, NY 10167 (Midtown area)   \n",
       "8  New York, NY 10018 (Clinton area)   \n",
       "9                       New York, NY   \n",
       "\n",
       "                                             Summary  average salary  \\\n",
       "0  \\nWe are looking for an energetic and experien...          100000   \n",
       "1  \\nExtensive knowledge of applied statistics, a...           79249   \n",
       "2  \\nAre you a Mid-level Data Scientist looking t...          100000   \n",
       "3  \\nParticipating in data collection, analysis, ...           79249   \n",
       "4  \\nOur Data Scientist will integrate data from ...          100000   \n",
       "5  \\nAre you a experienced Data Scientist who wan...          140000   \n",
       "6  \\nWe are hiring a Lead Data Scientist for our ...          150000   \n",
       "7  \\nSenior Data Scientist. Data Intelligence Sof...          167500   \n",
       "8  \\nDigest complex data structures, perform stat...          192500   \n",
       "9  \\nA minimum of 5 years experience in Machine l...          147500   \n",
       "\n",
       "       reshaped_jobtitle State          salary_assesment  \n",
       "0         data scientist    NY   (26589.813, 101208.667]  \n",
       "1         data scientist    NY   (26589.813, 101208.667]  \n",
       "2         data scientist    NY   (26589.813, 101208.667]  \n",
       "3         data scientist    NY   (26589.813, 101208.667]  \n",
       "4         data scientist    NY   (26589.813, 101208.667]  \n",
       "5  senior data scientist    NY  (101208.667, 175604.333]  \n",
       "6  senior data scientist    NY  (101208.667, 175604.333]  \n",
       "7  senior data scientist    NY  (101208.667, 175604.333]  \n",
       "8         data scientist    NY      (175604.333, 250000]  \n",
       "9  senior data scientist    NY  (101208.667, 175604.333]  "
      ]
     },
     "execution_count": 129,
     "metadata": {},
     "output_type": "execute_result"
    }
   ],
   "source": [
    "\n",
    "# As we saw in the swarm plot, we can create scale of salaries. In that case we will create 3 different ranges.\n",
    "\n",
    "data[\"salary_assesment\"]=pd.cut(data[\"average salary\"],3)\n",
    "data.head(10)"
   ]
  },
  {
   "cell_type": "code",
   "execution_count": 130,
   "metadata": {
    "collapsed": true
   },
   "outputs": [],
   "source": [
    "# As we have states with few data, the future model of prediction can only predict random data. \n",
    "#Nevertheless, we can make the assumption they have the same cost of life, i.e same range of salary.\n",
    "\n",
    "low_states=[\"AZ\",\"OR\",\"DE\",\"CO\",\"NJ\"]\n",
    "\n",
    "data[\"State\"]=data[\"State\"].apply(lambda x:\"other\" if x in low_states else x)"
   ]
  },
  {
   "cell_type": "code",
   "execution_count": 131,
   "metadata": {
    "collapsed": false
   },
   "outputs": [],
   "source": [
    "from sklearn.linear_model import LogisticRegression, LogisticRegressionCV\n",
    "from sklearn.cross_validation import train_test_split,cross_val_predict,cross_val_score\n",
    "from sklearn.metrics import accuracy_score, classification_report,confusion_matrix"
   ]
  },
  {
   "cell_type": "code",
   "execution_count": 132,
   "metadata": {
    "collapsed": false
   },
   "outputs": [],
   "source": [
    "dummies_jobtitle=pd.get_dummies(data[\"reshaped_jobtitle\"])\n",
    "dummies_state=pd.get_dummies(data[\"State\"])\n",
    "\n",
    "study_4=pd.concat([data[\"salary_assesment\"],dummies_jobtitle,dummies_state],axis=1)\n",
    "\n",
    "X=study_4.iloc[:,1:]\n",
    "y=study_4.iloc[:,0]"
   ]
  },
  {
   "cell_type": "code",
   "execution_count": 133,
   "metadata": {
    "collapsed": false
   },
   "outputs": [
    {
     "name": "stdout",
     "output_type": "stream",
     "text": [
      "Fitting 3 folds for each of 24 candidates, totalling 72 fits\n"
     ]
    },
    {
     "name": "stderr",
     "output_type": "stream",
     "text": [
      "[Parallel(n_jobs=1)]: Done  72 out of  72 | elapsed:    0.4s finished\n"
     ]
    },
    {
     "data": {
      "text/plain": [
       "GridSearchCV(cv=3, error_score='raise',\n",
       "       estimator=LogisticRegression(C=1.0, class_weight=None, dual=False, fit_intercept=True,\n",
       "          intercept_scaling=1, max_iter=100, multi_class='ovr', n_jobs=1,\n",
       "          penalty='l2', random_state=None, solver='liblinear', tol=0.0001,\n",
       "          verbose=0, warm_start=False),\n",
       "       fit_params={}, iid=True, n_jobs=1,\n",
       "       param_grid={'penalty': ['l1', 'l2'], 'C': [0.0001, 0.001, 0.01, 0.1, 0.5, 0.75, 1.0, 2.5, 5.0, 10.0, 100.0, 1000.0]},\n",
       "       pre_dispatch='2*n_jobs', refit=True, return_train_score=True,\n",
       "       scoring='accuracy', verbose=True)"
      ]
     },
     "execution_count": 133,
     "metadata": {},
     "output_type": "execute_result"
    }
   ],
   "source": [
    "from sklearn.model_selection import GridSearchCV\n",
    "\n",
    "#Let's apply now a regression on a train test model\n",
    "X_train, X_test, y_train, y_test= train_test_split(X,y, test_size=0.40, random_state=33)\n",
    "\n",
    "C_vals = [0.0001, 0.001, 0.01, 0.1, 0.5, 0.75, 1.0, 2.5, 5.0, 10.0, 100.0, 1000.0]\n",
    "penalties = ['l1','l2']\n",
    "\n",
    "logit=LogisticRegression(fit_intercept=True)\n",
    "gs = GridSearchCV(logit,{'penalty':penalties,'C':C_vals}, cv=3,verbose=True,scoring=\"accuracy\")\n",
    "gs.fit(X,y)"
   ]
  },
  {
   "cell_type": "code",
   "execution_count": 134,
   "metadata": {
    "collapsed": false
   },
   "outputs": [
    {
     "name": "stdout",
     "output_type": "stream",
     "text": [
      "Best Accuracy score is: 0.539325842697\n",
      "Best parameters are {'penalty': 'l1', 'C': 0.0001}\n",
      "the best C coefficient is the default one however we will chose a Lasso regularization\n"
     ]
    }
   ],
   "source": [
    "print \"Best Accuracy score is:\", gs.best_score_\n",
    "print \"Best parameters are\",gs.best_params_\n",
    "print \"the best C coefficient is the default one however we will chose a Lasso regularization\""
   ]
  },
  {
   "cell_type": "code",
   "execution_count": 135,
   "metadata": {
    "collapsed": false
   },
   "outputs": [
    {
     "data": {
      "image/png": "[encoded data removed]",
      "text/plain": [
       "<matplotlib.figure.Figure at 0x11a60e110>"
      ]
     },
     "metadata": {},
     "output_type": "display_data"
    },
    {
     "name": "stdout",
     "output_type": "stream",
     "text": [
      "Accuracy: 0.583333333333\n",
      "The classification report is as following:\n",
      "                          precision    recall  f1-score   support\n",
      "\n",
      "(101208.667, 175604.333]       0.58      1.00      0.74        21\n",
      "    (175604.333, 250000]       0.00      0.00      0.00         5\n",
      " (26589.813, 101208.667]       0.00      0.00      0.00        10\n",
      "\n",
      "             avg / total       0.34      0.58      0.43        36\n",
      "\n"
     ]
    }
   ],
   "source": [
    "# Now we can apply penalty and C to our test set.\n",
    "\n",
    "#Let's apply now a regression on a train test model\n",
    "X_train, X_test, y_train, y_test= train_test_split(X,y, test_size=0.40,random_state=33)\n",
    "\n",
    "logit=LogisticRegression(C=0.0001,penalty=\"l1\",fit_intercept=True)\n",
    "model=logit.fit(X_train,y_train)\n",
    "prediction=model.predict(X_test)\n",
    "\n",
    "conf=confusion_matrix(y_test,prediction)\n",
    "\n",
    "plot_confusion_matrix(conf,model.classes_,title=\"Confusion matrix - based on Job title and State\")\n",
    "\n",
    "\n",
    "acc=accuracy_score(y_test,prediction)\n",
    "\n",
    "print \"Accuracy:\", acc\n",
    "\n",
    "clf_r=classification_report(y_test,prediction)\n",
    "print \"The classification report is as following:\"\n",
    "print clf_r"
   ]
  },
  {
   "cell_type": "markdown",
   "metadata": {},
   "source": [
    "We are lower than in accuracy compared to the binary output "
   ]
  },
  {
   "cell_type": "code",
   "execution_count": 136,
   "metadata": {
    "collapsed": false
   },
   "outputs": [
    {
     "data": {
      "text/html": [
       "<div>\n",
       "<table border=\"1\" class=\"dataframe\">\n",
       "  <thead>\n",
       "    <tr style=\"text-align: right;\">\n",
       "      <th></th>\n",
       "      <th>500</th>\n",
       "      <th>ability</th>\n",
       "      <th>advanced</th>\n",
       "      <th>algorithms</th>\n",
       "      <th>analysis</th>\n",
       "      <th>analytics</th>\n",
       "      <th>applications</th>\n",
       "      <th>applied</th>\n",
       "      <th>based</th>\n",
       "      <th>big</th>\n",
       "      <th>...</th>\n",
       "      <th>talented</th>\n",
       "      <th>team</th>\n",
       "      <th>technology</th>\n",
       "      <th>time</th>\n",
       "      <th>tools</th>\n",
       "      <th>using</th>\n",
       "      <th>work</th>\n",
       "      <th>working</th>\n",
       "      <th>world</th>\n",
       "      <th>years</th>\n",
       "    </tr>\n",
       "  </thead>\n",
       "  <tbody>\n",
       "    <tr>\n",
       "      <th>0</th>\n",
       "      <td>0</td>\n",
       "      <td>1</td>\n",
       "      <td>0</td>\n",
       "      <td>0</td>\n",
       "      <td>0</td>\n",
       "      <td>0</td>\n",
       "      <td>0</td>\n",
       "      <td>0</td>\n",
       "      <td>1</td>\n",
       "      <td>0</td>\n",
       "      <td>...</td>\n",
       "      <td>0</td>\n",
       "      <td>0</td>\n",
       "      <td>0</td>\n",
       "      <td>0</td>\n",
       "      <td>0</td>\n",
       "      <td>0</td>\n",
       "      <td>0</td>\n",
       "      <td>0</td>\n",
       "      <td>0</td>\n",
       "      <td>0</td>\n",
       "    </tr>\n",
       "    <tr>\n",
       "      <th>1</th>\n",
       "      <td>0</td>\n",
       "      <td>0</td>\n",
       "      <td>0</td>\n",
       "      <td>0</td>\n",
       "      <td>0</td>\n",
       "      <td>1</td>\n",
       "      <td>0</td>\n",
       "      <td>1</td>\n",
       "      <td>0</td>\n",
       "      <td>1</td>\n",
       "      <td>...</td>\n",
       "      <td>0</td>\n",
       "      <td>0</td>\n",
       "      <td>0</td>\n",
       "      <td>0</td>\n",
       "      <td>1</td>\n",
       "      <td>0</td>\n",
       "      <td>0</td>\n",
       "      <td>0</td>\n",
       "      <td>0</td>\n",
       "      <td>0</td>\n",
       "    </tr>\n",
       "    <tr>\n",
       "      <th>2</th>\n",
       "      <td>0</td>\n",
       "      <td>0</td>\n",
       "      <td>0</td>\n",
       "      <td>0</td>\n",
       "      <td>0</td>\n",
       "      <td>0</td>\n",
       "      <td>0</td>\n",
       "      <td>0</td>\n",
       "      <td>0</td>\n",
       "      <td>0</td>\n",
       "      <td>...</td>\n",
       "      <td>0</td>\n",
       "      <td>0</td>\n",
       "      <td>0</td>\n",
       "      <td>0</td>\n",
       "      <td>0</td>\n",
       "      <td>0</td>\n",
       "      <td>1</td>\n",
       "      <td>0</td>\n",
       "      <td>0</td>\n",
       "      <td>0</td>\n",
       "    </tr>\n",
       "    <tr>\n",
       "      <th>3</th>\n",
       "      <td>0</td>\n",
       "      <td>0</td>\n",
       "      <td>0</td>\n",
       "      <td>0</td>\n",
       "      <td>1</td>\n",
       "      <td>0</td>\n",
       "      <td>0</td>\n",
       "      <td>0</td>\n",
       "      <td>0</td>\n",
       "      <td>0</td>\n",
       "      <td>...</td>\n",
       "      <td>0</td>\n",
       "      <td>0</td>\n",
       "      <td>0</td>\n",
       "      <td>0</td>\n",
       "      <td>0</td>\n",
       "      <td>0</td>\n",
       "      <td>0</td>\n",
       "      <td>0</td>\n",
       "      <td>0</td>\n",
       "      <td>0</td>\n",
       "    </tr>\n",
       "    <tr>\n",
       "      <th>4</th>\n",
       "      <td>0</td>\n",
       "      <td>0</td>\n",
       "      <td>0</td>\n",
       "      <td>1</td>\n",
       "      <td>0</td>\n",
       "      <td>0</td>\n",
       "      <td>0</td>\n",
       "      <td>0</td>\n",
       "      <td>0</td>\n",
       "      <td>0</td>\n",
       "      <td>...</td>\n",
       "      <td>0</td>\n",
       "      <td>0</td>\n",
       "      <td>0</td>\n",
       "      <td>1</td>\n",
       "      <td>0</td>\n",
       "      <td>0</td>\n",
       "      <td>0</td>\n",
       "      <td>0</td>\n",
       "      <td>0</td>\n",
       "      <td>0</td>\n",
       "    </tr>\n",
       "  </tbody>\n",
       "</table>\n",
       "<p>5 rows × 100 columns</p>\n",
       "</div>"
      ],
      "text/plain": [
       "   500  ability  advanced  algorithms  analysis  analytics  applications  \\\n",
       "0    0        1         0           0         0          0             0   \n",
       "1    0        0         0           0         0          1             0   \n",
       "2    0        0         0           0         0          0             0   \n",
       "3    0        0         0           0         1          0             0   \n",
       "4    0        0         0           1         0          0             0   \n",
       "\n",
       "   applied  based  big  ...    talented  team  technology  time  tools  using  \\\n",
       "0        0      1    0  ...           0     0           0     0      0      0   \n",
       "1        1      0    1  ...           0     0           0     0      1      0   \n",
       "2        0      0    0  ...           0     0           0     0      0      0   \n",
       "3        0      0    0  ...           0     0           0     0      0      0   \n",
       "4        0      0    0  ...           0     0           0     1      0      0   \n",
       "\n",
       "   work  working  world  years  \n",
       "0     0        0      0      0  \n",
       "1     0        0      0      0  \n",
       "2     1        0      0      0  \n",
       "3     0        0      0      0  \n",
       "4     0        0      0      0  \n",
       "\n",
       "[5 rows x 100 columns]"
      ]
     },
     "execution_count": 136,
     "metadata": {},
     "output_type": "execute_result"
    }
   ],
   "source": [
    "# let's introduce new precdictors such as the 50 words more commun in the job summary\n",
    "\n",
    "from sklearn.feature_extraction.text import CountVectorizer\n",
    "v = CountVectorizer(\n",
    "    binary=True,  # Create binary features\n",
    "    stop_words='english', # Ignore common words such as 'the', 'and'\n",
    "    max_features=100, # Only use the top 50 most common words\n",
    ")\n",
    "\n",
    "\n",
    "# This builds a matrix with a row per website (or data point) and column per word (using all words in the dataset)\n",
    "df_words = v.fit_transform(data.Summary).todense()\n",
    "df_words = pd.DataFrame(df_words, columns=v.get_feature_names())\n",
    "df_words.head()"
   ]
  },
  {
   "cell_type": "code",
   "execution_count": 137,
   "metadata": {
    "collapsed": true
   },
   "outputs": [],
   "source": [
    "study_5=pd.concat([data[\"salary_assesment\"],dummies_jobtitle,dummies_state,df_words],axis=1)\n",
    "\n",
    "X=study_5.iloc[:,1:]\n",
    "y=study_5.iloc[:,0]"
   ]
  },
  {
   "cell_type": "code",
   "execution_count": 138,
   "metadata": {
    "collapsed": false
   },
   "outputs": [
    {
     "name": "stdout",
     "output_type": "stream",
     "text": [
      "Fitting 3 folds for each of 24 candidates, totalling 72 fits\n"
     ]
    },
    {
     "name": "stderr",
     "output_type": "stream",
     "text": [
      "[Parallel(n_jobs=1)]: Done  72 out of  72 | elapsed:    0.4s finished\n"
     ]
    },
    {
     "data": {
      "text/plain": [
       "GridSearchCV(cv=3, error_score='raise',\n",
       "       estimator=LogisticRegression(C=1.0, class_weight=None, dual=False, fit_intercept=True,\n",
       "          intercept_scaling=1, max_iter=100, multi_class='ovr', n_jobs=1,\n",
       "          penalty='l2', random_state=None, solver='liblinear', tol=0.0001,\n",
       "          verbose=0, warm_start=False),\n",
       "       fit_params={}, iid=True, n_jobs=1,\n",
       "       param_grid={'penalty': ['l1', 'l2'], 'C': [0.0001, 0.001, 0.01, 0.1, 0.5, 0.75, 1.0, 2.5, 5.0, 10.0, 100.0, 1000.0]},\n",
       "       pre_dispatch='2*n_jobs', refit=True, return_train_score=True,\n",
       "       scoring='accuracy', verbose=True)"
      ]
     },
     "execution_count": 138,
     "metadata": {},
     "output_type": "execute_result"
    }
   ],
   "source": [
    "#Let's apply now a regression on a train test model\n",
    "X_train, X_test, y_train, y_test= train_test_split(X,y, test_size=0.40, random_state=33)\n",
    "\n",
    "C_vals = [0.0001, 0.001, 0.01, 0.1, 0.5, 0.75, 1.0, 2.5, 5.0, 10.0, 100.0, 1000.0]\n",
    "penalties = ['l1','l2']\n",
    "\n",
    "logit=LogisticRegression(fit_intercept=True)\n",
    "gs = GridSearchCV(logit,{'penalty':penalties,'C':C_vals},cv=3, verbose=True,scoring=\"accuracy\")\n",
    "gs.fit(X,y)"
   ]
  },
  {
   "cell_type": "code",
   "execution_count": 139,
   "metadata": {
    "collapsed": false
   },
   "outputs": [
    {
     "name": "stdout",
     "output_type": "stream",
     "text": [
      "Best Accuracy score is: 0.561797752809\n",
      "Best parameters are {'penalty': 'l2', 'C': 0.1}\n",
      "the best C coefficient is the default one however we will chose a Lasso regularization\n"
     ]
    }
   ],
   "source": [
    "print \"Best Accuracy score is:\", gs.best_score_\n",
    "print \"Best parameters are\",gs.best_params_\n",
    "print \"the best C coefficient is the default one however we will chose a Lasso regularization\""
   ]
  },
  {
   "cell_type": "code",
   "execution_count": 141,
   "metadata": {
    "collapsed": false
   },
   "outputs": [
    {
     "data": {
      "image/png": "[encoded data removed]",
      "text/plain": [
       "<matplotlib.figure.Figure at 0x11af987d0>"
      ]
     },
     "metadata": {},
     "output_type": "display_data"
    },
    {
     "name": "stdout",
     "output_type": "stream",
     "text": [
      "Accuracy: 0.555555555556\n",
      "The classification report is as following:\n",
      "                          precision    recall  f1-score   support\n",
      "\n",
      "(101208.667, 175604.333]       0.61      0.81      0.69        21\n",
      "    (175604.333, 250000]       0.00      0.00      0.00         5\n",
      " (26589.813, 101208.667]       0.38      0.30      0.33        10\n",
      "\n",
      "             avg / total       0.46      0.56      0.50        36\n",
      "\n"
     ]
    }
   ],
   "source": [
    "# Now we can apply penalty and C to our test set.\n",
    "\n",
    "#Let's apply now a regression on a train test model\n",
    "X_train, X_test, y_train, y_test= train_test_split(X,y, test_size=0.40, random_state=33)\n",
    "\n",
    "logit=LogisticRegression(C=0.1,penalty=\"l2\",fit_intercept=True)\n",
    "model=logit.fit(X_train,y_train)\n",
    "prediction=model.predict(X_test)\n",
    "\n",
    "conf=confusion_matrix(y_test,prediction)\n",
    "\n",
    "plot_confusion_matrix(conf,model.classes_,title=\"Confusion matrix - based on Job title and State\")\n",
    "\n",
    "\n",
    "acc=accuracy_score(y_test,prediction)\n",
    "\n",
    "print \"Accuracy:\", acc\n",
    "\n",
    "clf_r=classification_report(y_test,prediction)\n",
    "print \"The classification report is as following:\"\n",
    "print clf_r"
   ]
  },
  {
   "cell_type": "markdown",
   "metadata": {
    "collapsed": true
   },
   "source": [
    "_**Conclusion for the study of salary classification in function of Job title and Location**_\n",
    "\n",
    "For a salary classification to high or low, a good model could probably reach an accuracy of more than 90%.\n",
    "The fact that our model is too conservative can, in addition to the size of the sample, come from data scientist in some cities earning more than Senior data scientist in others, probably due to different sectors of application.\n",
    "How to remedy to this:  \n",
    "\t* To go further into improving our model, one way is to create a new predictors such as the content of company description instead of job description. A work in a university pay less (see table below) or at contrary into a Financial company."
   ]
  },
  {
   "cell_type": "code",
   "execution_count": 49,
   "metadata": {
    "collapsed": false
   },
   "outputs": [
    {
     "data": {
      "text/html": [
       "<div>\n",
       "<table border=\"1\" class=\"dataframe\">\n",
       "  <thead>\n",
       "    <tr style=\"text-align: right;\">\n",
       "      <th></th>\n",
       "      <th>Company</th>\n",
       "      <th>Jobtitle</th>\n",
       "      <th>Location</th>\n",
       "      <th>average salary</th>\n",
       "      <th>reshaped_jobtitle</th>\n",
       "      <th>State</th>\n",
       "      <th>salary_assesment</th>\n",
       "    </tr>\n",
       "  </thead>\n",
       "  <tbody>\n",
       "    <tr>\n",
       "      <th>55</th>\n",
       "      <td>University of California Berkeley</td>\n",
       "      <td>Research Data Analyst, CalSWEC</td>\n",
       "      <td>Berkeley, CA</td>\n",
       "      <td>67589</td>\n",
       "      <td>data scientist</td>\n",
       "      <td>CA</td>\n",
       "      <td>0</td>\n",
       "    </tr>\n",
       "    <tr>\n",
       "      <th>85</th>\n",
       "      <td>University of Texas at Dallas</td>\n",
       "      <td>Research Scientist</td>\n",
       "      <td>Richardson, TX</td>\n",
       "      <td>48000</td>\n",
       "      <td>data scientist</td>\n",
       "      <td>TX</td>\n",
       "      <td>0</td>\n",
       "    </tr>\n",
       "    <tr>\n",
       "      <th>87</th>\n",
       "      <td>Portland State University</td>\n",
       "      <td>Research Data Analyst</td>\n",
       "      <td>Portland, OR</td>\n",
       "      <td>60000</td>\n",
       "      <td>data scientist</td>\n",
       "      <td>other</td>\n",
       "      <td>0</td>\n",
       "    </tr>\n",
       "    <tr>\n",
       "      <th>89</th>\n",
       "      <td>Arizona State University</td>\n",
       "      <td>ASSISTANT RESEARCH SCIENTIST</td>\n",
       "      <td>Tempe, AZ</td>\n",
       "      <td>55000</td>\n",
       "      <td>data scientist</td>\n",
       "      <td>other</td>\n",
       "      <td>0</td>\n",
       "    </tr>\n",
       "  </tbody>\n",
       "</table>\n",
       "</div>"
      ],
      "text/plain": [
       "                                      Company                        Jobtitle  \\\n",
       "55          University of California Berkeley  Research Data Analyst, CalSWEC   \n",
       "85              University of Texas at Dallas              Research Scientist   \n",
       "87                  Portland State University           Research Data Analyst   \n",
       "89                   Arizona State University    ASSISTANT RESEARCH SCIENTIST   \n",
       "\n",
       "          Location  average salary reshaped_jobtitle  State  salary_assesment  \n",
       "55    Berkeley, CA           67589    data scientist     CA                 0  \n",
       "85  Richardson, TX           48000    data scientist     TX                 0  \n",
       "87    Portland, OR           60000    data scientist  other                 0  \n",
       "89       Tempe, AZ           55000    data scientist  other                 0  "
      ]
     },
     "execution_count": 49,
     "metadata": {},
     "output_type": "execute_result"
    }
   ],
   "source": [
    "data.loc[data[\"Company\"].str.contains(\"University\"),:]"
   ]
  },
  {
   "cell_type": "code",
   "execution_count": null,
   "metadata": {
    "collapsed": true
   },
   "outputs": [],
   "source": []
  }
 ],
 "metadata": {
  "anaconda-cloud": {},
  "kernelspec": {
   "display_name": "Python [default]",
   "language": "python",
   "name": "python2"
  },
  "language_info": {
   "codemirror_mode": {
    "name": "ipython",
    "version": 2
   },
   "file_extension": ".py",
   "mimetype": "text/x-python",
   "name": "python",
   "nbconvert_exporter": "python",
   "pygments_lexer": "ipython2",
   "version": "2.7.12"
  }
 },
 "nbformat": 4,
 "nbformat_minor": 0
}
